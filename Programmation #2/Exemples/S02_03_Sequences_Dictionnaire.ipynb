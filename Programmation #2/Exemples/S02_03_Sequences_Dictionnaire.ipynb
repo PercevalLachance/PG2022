{
 "cells": [
  {
   "cell_type": "markdown",
   "metadata": {},
   "source": [
    "# Quand une valeur simple ne suffit pas: listes et compagnies (suite)\n",
    "\n",
    "## Les dictionnaires (*dict*)\n",
    "- Un dictionnaire comprend une ou plusieurs associations dites de clé/valeur (*key-value pair*). Ces associations, comme les entrées d'un vrai dictionnaire, contiennent une clé permettant d'accéder de façon rapide et efficace à une valeur. Le dictionnaire n'est pas indexé puisqu'on accède toujours aux valeurs par les clés qui doivent donc être __uniques__.\n",
    "- Les valeurs d'un dictionnaire sont comprises entre des accolades, `{}`.\n",
    "- Un item d'un dictionnaire se déclare de la façon suivante: `key:value`.\n",
    "- __Attention__: Les items d'un dictionnaire sont obligatoirement uniques, c'est-à-dire qu'on ne peut pas avoir plusieurs items avec la même clé.\n",
    "- On acccède aux items par leur __clé__.\n",
    "\n",
    "### Créer un dictionnaire"
   ]
  },
  {
   "cell_type": "code",
   "execution_count": 1,
   "metadata": {},
   "outputs": [],
   "source": [
    "# ce dictionnaire est vide lors de sa création\n",
    "my_empyt_dict = {}\n",
    "\n",
    "# celui-ci ne l'est pas.\n",
    "my_dict = {\"github\":\"https://github.com\", \"facebook\":\"https://facebook.com\", \"twitter\":\"https://twitter.com\"}"
   ]
  },
  {
   "cell_type": "markdown",
   "metadata": {},
   "source": [
    "### Lire les valeurs d'un dictionnaire"
   ]
  },
  {
   "cell_type": "code",
   "execution_count": 3,
   "metadata": {},
   "outputs": [
    {
     "name": "stdout",
     "output_type": "stream",
     "text": [
      "{'github': 'https://github.com', 'facebook': 'https://facebook.com', 'twitter': 'https://twitter.com'}\n",
      "https://github.com\n",
      "https://github.com\n"
     ]
    }
   ],
   "source": [
    "# voir le dictionnaire complet\n",
    "print(my_dict)\n",
    "\n",
    "# aller chercher un item d'un dictionnaire en traitant les clés comme une liste.\n",
    "print(my_dict[\"github\"])\n",
    "\n",
    "# on peut aussi procéder de cette façon\n",
    "print(my_dict.get(\"github\"))"
   ]
  },
  {
   "cell_type": "markdown",
   "metadata": {},
   "source": [
    "### Voir la structure d'un dictionnaire"
   ]
  },
  {
   "cell_type": "code",
   "execution_count": 4,
   "metadata": {},
   "outputs": [
    {
     "name": "stdout",
     "output_type": "stream",
     "text": [
      "le dictionnaire contient 3 items.\n"
     ]
    }
   ],
   "source": [
    "print(\"le dictionnaire contient {0} items.\".format(len(my_dict)))"
   ]
  },
  {
   "cell_type": "markdown",
   "metadata": {},
   "source": [
    "### Changer le contenu d'un dictionnaire\n",
    "- un dictionnaire est __mutable__, c'est-à-dire que ses valeurs peuvent changer."
   ]
  },
  {
   "cell_type": "code",
   "execution_count": 5,
   "metadata": {},
   "outputs": [
    {
     "name": "stdout",
     "output_type": "stream",
     "text": [
      "https://facebook.com\n",
      "https://fb.com\n",
      "{'github': 'https://github.com', 'facebook': 'https://fb.com', 'twitter': 'https://twitter.com', 'instagram': 'https://instagram.com'}\n"
     ]
    }
   ],
   "source": [
    "# ancienne valeur\n",
    "print(my_dict[\"facebook\"])\n",
    "\n",
    "# assignation de la nouvelle valeur\n",
    "my_dict[\"facebook\"] = \"https://fb.com\"\n",
    "\n",
    "# afficher la nouvelle valeur\n",
    "print(my_dict[\"facebook\"])\n",
    "\n",
    "# ajouter un nouvel item au dictionnaire DEMANDE TOUJOURS 1) la clé et 2) la valeur\n",
    "my_dict[\"instagram\"] = \"https://instagram.com\"\n",
    "\n",
    "# afficher le dictionnaire complet\n",
    "print(my_dict)"
   ]
  },
  {
   "cell_type": "markdown",
   "metadata": {},
   "source": [
    "### Concaténer deux dictionnaires\n",
    "- On peut adjoindre un dictionnaire à un dictionnaire existant à l'aide de la fonction `update()` exécutée sur le dictionnaire que l'on veut prendre comme combinaison des deux dictionnaires."
   ]
  },
  {
   "cell_type": "code",
   "execution_count": 13,
   "metadata": {},
   "outputs": [
    {
     "name": "stdout",
     "output_type": "stream",
     "text": [
      "{'google news': 'https://news.google.com', 'github': 'https://github.com', 'facebook': 'https://fb.com', 'twitter': 'https://twitter.com', 'instagram': 'https://instagram.com'}\n"
     ]
    }
   ],
   "source": [
    "# concaténation de 2 dictionnaires\n",
    "my_second_dict = {\"google news\":\"https://news.google.com\"}\n",
    "my_second_dict.update(my_dict)\n",
    "print(my_second_dict)"
   ]
  },
  {
   "cell_type": "markdown",
   "metadata": {},
   "source": [
    "### Effacer un item d'un dictionnaire\n",
    "- On peut généralement le faire de deux façons:\n",
    "    - À l'aide de la fonction `pop()` sur le dictionnaire. Cette fonction retourne la valeur de l'item enlevé, ce qui peut être pratique dans certains cas.\n",
    "    - À l'aide de la commande `del` que nous avons déjà vue pour les listes."
   ]
  },
  {
   "cell_type": "code",
   "execution_count": 6,
   "metadata": {},
   "outputs": [
    {
     "name": "stdout",
     "output_type": "stream",
     "text": [
      "contenu de my_dict après avoir enlevé l'item instagram: {'github': 'https://github.com', 'facebook': 'https://fb.com', 'twitter': 'https://twitter.com'}\n",
      "valeur de l'item enlevé: https://instagram.com\n",
      "contenu de my_dict après avoir enlevé l'item facebook: {'github': 'https://github.com', 'twitter': 'https://twitter.com'}\n"
     ]
    }
   ],
   "source": [
    "# avec pop()... ca fait enregistrer dans la variable 'insta' la valeur (soit l'URL) de la clé \"instagram\"\n",
    "insta = my_dict.pop(\"instagram\")\n",
    "print(\"contenu de my_dict après avoir enlevé l'item instagram: {0}\".format(my_dict))\n",
    "print(\"valeur de l'item enlevé: {0}\".format(insta))\n",
    "\n",
    "# on peut aussi utiliser l'opération del pour le faire\n",
    "del my_dict[\"facebook\"]\n",
    "print(\"contenu de my_dict après avoir enlevé l'item facebook: {0}\".format(my_dict))"
   ]
  },
  {
   "cell_type": "code",
   "execution_count": null,
   "metadata": {},
   "outputs": [],
   "source": []
  }
 ],
 "metadata": {
  "kernelspec": {
   "display_name": "Python 3 (ipykernel)",
   "language": "python",
   "name": "python3"
  },
  "language_info": {
   "codemirror_mode": {
    "name": "ipython",
    "version": 3
   },
   "file_extension": ".py",
   "mimetype": "text/x-python",
   "name": "python",
   "nbconvert_exporter": "python",
   "pygments_lexer": "ipython3",
   "version": "3.9.7"
  }
 },
 "nbformat": 4,
 "nbformat_minor": 2
}
