{
 "cells": [
  {
   "cell_type": "markdown",
   "metadata": {},
   "source": [
    "# Quand une valeur simple ne suffit pas: listes et compagnies (suite)\n",
    "\n",
    "## Les sets\n",
    "- Un set comprend des valeurs __uniques__ et __non ordonnées__.\n",
    "- Un set est mutable, il peut donc être modifié et on déclare ses valeurs se déclarent entre des accolades, `{}`.\n",
    "- __Attention__: Les valeurs d'un set sont obligatoirement uniques, même si elles n'ont pas besoin d'être toutes du même type (entier, chaîne de caractères, etc.).\n",
    "- Un set fonctionne de la même manière qu'un ensemble (*set*) en mathématiques.\n",
    "\n",
    "### Créer un set"
   ]
  },
  {
   "cell_type": "code",
   "execution_count": 8,
   "metadata": {},
   "outputs": [],
   "source": [
    "# ce set est vide lors de sa création\n",
    "my_empty_set = set()\n",
    "\n",
    "# celui-ci ne l'est pas.\n",
    "my_set = {\"pomme\", \"poire\", \"orange\"}\n",
    "\n",
    "# celui-ci ne l'est pas mais il y a des valeurs en double.\n",
    "my_set_duplicates = {\"pomme\", \"poire\", \"orange\", \"pomme\"}"
   ]
  },
  {
   "cell_type": "markdown",
   "metadata": {},
   "source": [
    "### Lire les valeurs d'un set\n",
    "- On ne peut pas lire les valeurs d'un set avec un index comme dans une liste. Cette méthode génère une erreur."
   ]
  },
  {
   "cell_type": "code",
   "execution_count": 9,
   "metadata": {},
   "outputs": [
    {
     "name": "stdout",
     "output_type": "stream",
     "text": [
      "{'pomme', 'poire', 'orange'}\n",
      "{'pomme', 'poire', 'orange'}\n"
     ]
    },
    {
     "ename": "TypeError",
     "evalue": "'set' object does not support indexing",
     "output_type": "error",
     "traceback": [
      "\u001b[1;31m---------------------------------------------------------------------------\u001b[0m",
      "\u001b[1;31mTypeError\u001b[0m                                 Traceback (most recent call last)",
      "\u001b[1;32m<ipython-input-9-6507f94774cc>\u001b[0m in \u001b[0;36m<module>\u001b[1;34m()\u001b[0m\n\u001b[0;32m      4\u001b[0m \u001b[1;33m\u001b[0m\u001b[0m\n\u001b[0;32m      5\u001b[0m \u001b[1;31m# aller chercher un item d'un set en traitant les clés comme une liste.\u001b[0m\u001b[1;33m\u001b[0m\u001b[1;33m\u001b[0m\u001b[0m\n\u001b[1;32m----> 6\u001b[1;33m \u001b[0mprint\u001b[0m\u001b[1;33m(\u001b[0m\u001b[0mmy_set\u001b[0m\u001b[1;33m[\u001b[0m\u001b[1;36m0\u001b[0m\u001b[1;33m]\u001b[0m\u001b[1;33m)\u001b[0m\u001b[1;33m\u001b[0m\u001b[0m\n\u001b[0m",
      "\u001b[1;31mTypeError\u001b[0m: 'set' object does not support indexing"
     ]
    }
   ],
   "source": [
    "# voir le set complet. Si un ensemble a des valeurs en double, seules les valeurs uniques seront affichées.\n",
    "print(my_set)\n",
    "print(my_set_duplicates)\n",
    "\n",
    "# aller chercher un item d'un set en traitant les clés comme une liste.\n",
    "print(my_set[0])"
   ]
  },
  {
   "cell_type": "markdown",
   "metadata": {},
   "source": [
    "### Voir la structure d'un set"
   ]
  },
  {
   "cell_type": "code",
   "execution_count": 15,
   "metadata": {},
   "outputs": [
    {
     "name": "stdout",
     "output_type": "stream",
     "text": [
      "le set contient 3 items.\n"
     ]
    }
   ],
   "source": [
    "print(\"le set contient {0} items.\".format(len(my_set)))"
   ]
  },
  {
   "cell_type": "markdown",
   "metadata": {},
   "source": [
    "### Changer le contenu d'un set\n",
    "- Un set est __mutable__, c'est-à-dire qu'on peut le modifier.\n",
    "- Par contre, comme c'est un ensemble et qu'on ne peut pas accéder aux valeurs individuelles, on ne peut que faire des mises à jour via d'autres ensembles à l'aide de fonctions.\n",
    "- Si on ajoute plusieurs valeurs, on peut le faire de plusieurs façons, par exemple, via une liste ou un autre set."
   ]
  },
  {
   "cell_type": "code",
   "execution_count": 10,
   "metadata": {},
   "outputs": [
    {
     "name": "stdout",
     "output_type": "stream",
     "text": [
      "après l'ajout de la valeur fraise: {'pomme', 'poire', 'orange', 'fraise'}\n",
      "après l'ajout de la liste [prune, citron]: {'pomme', 'poire', 'orange', 'citron', 'prune', 'fraise'}\n",
      "après l'ajout du set [banane, raisin]: {'pomme', 'banane', 'poire', 'raisin', 'orange', 'citron', 'prune', 'fraise'}\n"
     ]
    }
   ],
   "source": [
    "# ajouter une valeur, en utilisant l'opération .add \n",
    "my_set.add(\"fraise\")\n",
    "print(\"après l'ajout de la valeur fraise: {0}\".format(my_set))\n",
    "\n",
    "# ajouter plusieurs valeurs en utilisant l'opération .update. Si certaines existent déjà, elles sont ignorées.\n",
    "my_set.update([\"prune\", \"citron\"])\n",
    "print(\"après l'ajout de la liste [prune, citron]: {0}\".format(my_set))\n",
    "\n",
    "my_set.update([\"banane\", \"raisin\"])\n",
    "print(\"après l'ajout du set [banane, raisin]: {0}\".format(my_set))"
   ]
  },
  {
   "cell_type": "markdown",
   "metadata": {},
   "source": [
    "### Opération sur les sets\n",
    "- En mathématiques, on peut faire différentes opérations sur les sets:\n",
    "    - `in` permet de voir si une valeur est __contenue__ dans un set.\n",
    "    - `not in` permet de voir si une valeur __n'est pas contenue__ dans un set.\n",
    "    - `a.issubset(b)` permet de voir si __tous__ les éléments de `a` sont présents dans `b`.\n",
    "    - `a.issuperset(b)` permet de voir si __tous__ les éléments de `b` sont présents dans `a`.\n",
    "    - `a.union(b)` __combinaison__ de `a` et `b`.\n",
    "    - `a.intersection(b)` éléments __communs__ à `a` et `b`.\n",
    "    - `a.difference(b)` éléments de `a` __qui ne sont pas contenus__ dans `b`.\n",
    "    - `a.symmetric_difference(b)` éléments __contenus dans `a` ou `b` mais ne sont pas présents dans les deux__.\n",
    "    - `b = a.copy()` __crée un set `b`__ à partir d'une copie de `a`."
   ]
  },
  {
   "cell_type": "code",
   "execution_count": 17,
   "metadata": {},
   "outputs": [
    {
     "name": "stdout",
     "output_type": "stream",
     "text": [
      "my_first_set: {1, 2, 3, 4, 5}\n",
      "my_second_set: {2, 3}\n"
     ]
    }
   ],
   "source": [
    "# démarrage, on déclare 2 sets simples.\n",
    "my_first_set = {1, 2, 3, 4, 5}\n",
    "my_second_set = {2, 3}\n",
    "print(\"my_first_set: {0}\".format(my_first_set))\n",
    "print(\"my_second_set: {0}\".format(my_second_set))"
   ]
  },
  {
   "cell_type": "code",
   "execution_count": 18,
   "metadata": {},
   "outputs": [
    {
     "name": "stdout",
     "output_type": "stream",
     "text": [
      "est-ce que la valeur 2 est contenue dans my_first_set: True\n",
      "est-ce que la valeur 6 est contenue dans my_first_set: False\n",
      "est-ce que la valeur 6 n'est pas contenue dans my_first_set: True\n",
      "est-ce que la valeur 2 n'est pas contenue dans my_first_set: False\n"
     ]
    }
   ],
   "source": [
    "# in\n",
    "print(\"est-ce que la valeur 2 est contenue dans my_first_set: {0}\".format(2 in my_first_set))\n",
    "print(\"est-ce que la valeur 6 est contenue dans my_first_set: {0}\".format(6 in my_first_set))\n",
    "\n",
    "# not in\n",
    "print(\"est-ce que la valeur 6 n'est pas contenue dans my_first_set: {0}\".format(6 not in my_first_set))\n",
    "print(\"est-ce que la valeur 2 n'est pas contenue dans my_first_set: {0}\".format(2 not in my_first_set))"
   ]
  },
  {
   "cell_type": "code",
   "execution_count": 19,
   "metadata": {},
   "outputs": [
    {
     "name": "stdout",
     "output_type": "stream",
     "text": [
      "est-ce que les valeurs de my_second_set sont contenues dans my_first_set: True\n",
      "est-ce que les valeurs de my_first_set sont contenues dans my_second_set: False\n",
      "est-ce que les valeurs de my_second_set contiennent toutes les valeurs de my_first_set: False\n",
      "est-ce que les valeurs de my_first_set contiennent toutes les valeurs de my_second_set: True\n"
     ]
    }
   ],
   "source": [
    "# issubset() - a.issubset(b) permet de voir si tous les éléments de a sont présents dans b\n",
    "print(\"est-ce que les valeurs de my_second_set sont contenues dans my_first_set: {0}\".format(my_second_set.issubset(my_first_set)))\n",
    "print(\"est-ce que les valeurs de my_first_set sont contenues dans my_second_set: {0}\".format(my_first_set.issubset(my_second_set)))\n",
    "\n",
    "# issuperset() - a.issuperset(b) permet de voir si tous les éléments de b sont présents dans a\n",
    "print(\"est-ce que les valeurs de my_second_set contiennent toutes les valeurs de my_first_set: {0}\".format(my_second_set.issuperset(my_first_set)))\n",
    "print(\"est-ce que les valeurs de my_first_set contiennent toutes les valeurs de my_second_set: {0}\".format(my_first_set.issuperset(my_second_set)))"
   ]
  },
  {
   "cell_type": "code",
   "execution_count": 20,
   "metadata": {},
   "outputs": [
    {
     "name": "stdout",
     "output_type": "stream",
     "text": [
      "changement de valeurs pour my_second_set: {8, 2, 3}\n",
      "union de my_first_set et my_second_set: {1, 2, 3, 4, 5, 8}\n",
      "intersection de my_first_set et my_second_set: {2, 3}\n"
     ]
    }
   ],
   "source": [
    "# union()\n",
    "my_second_set = {2, 3, 8}\n",
    "print(\"changement de valeurs pour my_second_set: {0}\".format(my_second_set))\n",
    "print(\"union de my_first_set et my_second_set: {0}\".format(my_first_set.union(my_second_set)))\n",
    "\n",
    "# intersection()\n",
    "print(\"intersection de my_first_set et my_second_set: {0}\".format(my_first_set.intersection(my_second_set)))"
   ]
  },
  {
   "cell_type": "code",
   "execution_count": 21,
   "metadata": {},
   "outputs": [
    {
     "name": "stdout",
     "output_type": "stream",
     "text": [
      "difference entre les valeurs de my_first_set et celles de my_second_set: {1, 4, 5}\n",
      "difference entre les valeurs de my_second_set et celles de my_first_set: {8}\n",
      "difference symétrique entre les valeurs de my_first_set et celles de my_second_set: {1, 4, 5, 8}\n",
      "nouveau set (my_third_set) créé à partir de my_first_set: {1, 2, 3, 4, 5}\n"
     ]
    }
   ],
   "source": [
    "# difference()\n",
    "print(\"difference entre les valeurs de my_first_set et celles de my_second_set: {0}\".format(my_first_set.difference(my_second_set)))\n",
    "print(\"difference entre les valeurs de my_second_set et celles de my_first_set: {0}\".format(my_second_set.difference(my_first_set)))\n",
    "\n",
    "# symmetric_difference()\n",
    "print(\"difference symétrique entre les valeurs de my_first_set et celles de my_second_set: {0}\".format(my_first_set.symmetric_difference(my_second_set)))\n",
    "\n",
    "# copy()\n",
    "my_third_set = my_first_set.copy()\n",
    "print(\"nouveau set (my_third_set) créé à partir de my_first_set: {0}\".format(my_third_set))"
   ]
  },
  {
   "cell_type": "markdown",
   "metadata": {},
   "source": [
    "### Effacer un item d'un set\n",
    "- On peut généralement seulement le faire à l'aide de la fonction `remove()` sur le set."
   ]
  },
  {
   "cell_type": "code",
   "execution_count": 11,
   "metadata": {},
   "outputs": [
    {
     "name": "stdout",
     "output_type": "stream",
     "text": [
      "contenu de my_set après avoir enlevé l'item orange: {'pomme', 'banane', 'poire', 'raisin', 'citron', 'prune', 'fraise'}\n",
      "contenu de my_set après avoir enlevé les items 'prune' et 'poire': {'pomme', 'banane', 'raisin', 'citron', 'fraise'}\n"
     ]
    }
   ],
   "source": [
    "# avec remove()\n",
    "my_set.remove(\"orange\")\n",
    "print(\"contenu de my_set après avoir enlevé l'item orange: {0}\".format(my_set))\n",
    "\n",
    "my_set.difference_update([\"prune\", \"poire\"])\n",
    "print(\"contenu de my_set après avoir enlevé les items 'prune' et 'poire': {0}\".format(my_set))"
   ]
  },
  {
   "cell_type": "markdown",
   "metadata": {},
   "source": [
    "## Exercices à faire\n",
    "- Exercice 3.\n",
    "- Exercice 4."
   ]
  },
  {
   "cell_type": "code",
   "execution_count": null,
   "metadata": {},
   "outputs": [],
   "source": []
  }
 ],
 "metadata": {
  "kernelspec": {
   "display_name": "Python 3 (ipykernel)",
   "language": "python",
   "name": "python3"
  },
  "language_info": {
   "codemirror_mode": {
    "name": "ipython",
    "version": 3
   },
   "file_extension": ".py",
   "mimetype": "text/x-python",
   "name": "python",
   "nbconvert_exporter": "python",
   "pygments_lexer": "ipython3",
   "version": "3.9.7"
  }
 },
 "nbformat": 4,
 "nbformat_minor": 2
}
