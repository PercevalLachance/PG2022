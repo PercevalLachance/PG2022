{
 "cells": [
  {
   "cell_type": "markdown",
   "metadata": {},
   "source": [
    "# Itérer et convertir\n",
    "- Jusqu'à maintenant, nous nous sommes concentrés sur les items *uniques*, c'est-à-dire que nous avons interagi avec des éléments atomiques (__un__ entier, __une__ chaîne de caractères, etc.). \n",
    "- Maintenant que nous avons couvert les différents types de séquences de base fournis avec Python, nous allons avoir besoin d'itérer à travers ces séquences. \n",
    "- Par exemple, si on veut écrire un message personnalisé pour chaque item d'une liste, nous n'en sommes pour le moment incapables. Tout au plus, on sait écrire la liste au complet à l'aide de `print()`.\n",
    "- Dans les sections ci-dessous, nous allons voir plusieurs techniques qui permettent d'__itérer__ à travers une séquence. Il est à noter que le type de séquence peut bien évidemment varier.\n",
    "- __Attention__: Une itération mal construite peut mener à des situations étranges, comme une répétition à l'infini de la boucle sur laquelle on itère...\n",
    "\n",
    "- Quand une boucle ne se termine jamais, on le voit dans le notebook parce que la cellule a un astérisque sur la gauche (`*`). On le voit aussi parce que notre code d'affichage continuera de défiler même si cela ne fait pas de sens. Dans ces cas, il faut appuyer sur le bouton `stop` qui permet au notebook d'arrêter l'exécution de la cellule sélectionnée.\n",
    "\n",
    "![Notebook stop](images/notebook_stop.png)\n",
    "\n",
    "## Itérer à travers une séquence avec `for` \n",
    "- La commande `for` permet de dire à Python de répéter un ensemble de commandes (qui devront être indentées, comme lorsque nous avons vu l'ouverture de fichiers texte précédemment) tant qu'une certaine condition d'itération est remplie, sachant que cette condition est basée sur une itération définie explicitement et gérée par Python. Autrement dit, on dit à Python: \"pour une valeur x __allant de a à b__, voici ce qu'il faut faire\".\n",
    "- Dans les exemples ci-dessous, nous allons voir comment programmer cette itération pour traverser une liste, ou plus simplement, pour passer à travers une séquence de chiffres (\"pour chaque chiffre de 1 à 10...\").\n",
    "\n",
    "### Itération sur une liste\n",
    "- On peut soit procéder en demandant à Python d'extraire chaque item de la liste lors de l'itération.\n",
    "- Sinon, on peut créer un `range()` allant de 0 à la longeur de notre liste pour que Python génère une itération."
   ]
  },
  {
   "cell_type": "code",
   "execution_count": 14,
   "metadata": {},
   "outputs": [
    {
     "name": "stdout",
     "output_type": "stream",
     "text": [
      "['pomme', 'poire', 'orange', 'fraise']\n",
      "1.pomme\n",
      "2.pomme!\n",
      "1.poire\n",
      "2.poire!\n",
      "1.orange\n",
      "2.orange!\n",
      "1.fraise\n",
      "2.fraise!\n",
      "3.fraise!\n",
      "['pomme', 'poire', 'orange', 'fraise']\n"
     ]
    }
   ],
   "source": [
    "# une liste simple...\n",
    "my_list = [\"pomme\", \"poire\", \"orange\", \"fraise\"]\n",
    "print(my_list)\n",
    "\n",
    "# ici on dit à Python d'extraire chaque item de la liste en le nommant comme variable \"fruit\"\n",
    "# noter que chaque item est affiché sur une ligne séparée\n",
    "for fruit in my_list:\n",
    "    print(\"1.\"+fruit)\n",
    "    fruit = fruit + \"!\"\n",
    "    print(\"2.\"+fruit)\n",
    "\n",
    "print(\"3.\"+fruit)\n",
    "print(my_list)"
   ]
  },
  {
   "cell_type": "code",
   "execution_count": 2,
   "metadata": {},
   "outputs": [
    {
     "name": "stdout",
     "output_type": "stream",
     "text": [
      "\n",
      "- Avec range() et en incluant une valeur de départ, 0\n",
      "à l'index 0; l'item est pomme\n",
      "à l'index 1; l'item est poire\n",
      "à l'index 2; l'item est orange\n",
      "à l'index 3; l'item est fraise\n"
     ]
    }
   ],
   "source": [
    "print(\"\\n- Avec range() et en incluant une valeur de départ, 0\")\n",
    "# ceci fait la même chose de façon différente; i est la valeur d'index de la liste de fruits\n",
    "for i in range(0, len(my_list)):\n",
    "    print(\"à l'index {0}; l'item est {1}\".format(i, my_list[i]))"
   ]
  },
  {
   "cell_type": "code",
   "execution_count": 3,
   "metadata": {},
   "outputs": [
    {
     "name": "stdout",
     "output_type": "stream",
     "text": [
      "\n",
      "- Avec range() sans valeur de départ, soit en partant de 0\n",
      "à l'index 0; l'item est pomme\n",
      "à l'index 1; l'item est poire\n",
      "à l'index 2; l'item est orange\n",
      "à l'index 3; l'item est fraise\n",
      "\n",
      "- Avec range() et en incluant une valeur de départ différente de 0\n",
      "à l'index 1; l'item est poire\n",
      "à l'index 2; l'item est orange\n",
      "à l'index 3; l'item est fraise\n"
     ]
    }
   ],
   "source": [
    "print(\"\\n- Avec range() sans valeur de départ, soit en partant de 0\")\n",
    "# la même chose mais sans indiquer de point de départ à range(). Ça commence par défaut à l'index 0.\n",
    "for i in range(len(my_list)):\n",
    "    print(\"à l'index {0}; l'item est {1}\".format(i, my_list[i]))\n",
    "\n",
    "print(\"\\n- Avec range() et en incluant une valeur de départ différente de 0\")\n",
    "# avec range() mais à partir du deuxième item\n",
    "for i in range(1, len(my_list)):\n",
    "    print(\"à l'index {0}; l'item est {1}\".format(i, my_list[i]))"
   ]
  },
  {
   "cell_type": "markdown",
   "metadata": {},
   "source": [
    "### Itération sur une séquence arbitraire\n",
    "- Ici on utilisera la fonction `range()` comme dans l'exemple ci-dessus mais avec un entier simple.\n",
    "- On peut augmenter de 1 lors de l'itération comme dans le premier exemple ci-dessous, ce qui est le comportement par défaut."
   ]
  },
  {
   "cell_type": "code",
   "execution_count": 4,
   "metadata": {},
   "outputs": [
    {
     "name": "stdout",
     "output_type": "stream",
     "text": [
      "en augmentant: 0\n",
      "en augmentant: 1\n",
      "en augmentant: 2\n",
      "en augmentant: 3\n",
      "en augmentant: 4\n",
      "en augmentant: 5\n",
      "en augmentant: 6\n",
      "en augmentant: 7\n",
      "en augmentant: 8\n",
      "en augmentant: 9\n",
      "\n",
      "\n",
      "en augmentant: 0\n",
      "en augmentant: 1\n",
      "en augmentant: 2\n",
      "en augmentant: 3\n",
      "en augmentant: 4\n",
      "en augmentant: 5\n",
      "en augmentant: 6\n",
      "en augmentant: 7\n",
      "en augmentant: 8\n",
      "en augmentant: 9\n"
     ]
    }
   ],
   "source": [
    "# à l'endroit\n",
    "for i in range(0, 10):\n",
    "    print(\"en augmentant: {0}\".format(i))\n",
    "\n",
    "print(\"\\n\")\n",
    "# toujours à l'endroit\n",
    "for i in range(10):\n",
    "    print(\"en augmentant: {0}\".format(i))"
   ]
  },
  {
   "cell_type": "markdown",
   "metadata": {},
   "source": [
    "- On peut faire décroître notre *range* mais dans ce cas, il faudra ajouter un troisième paramètre à la fonction `range()` pour indiquer que l'on ne veut pas monter mais *descendre* lors de l'itération comme ce n'est pas le comportement par défaut."
   ]
  },
  {
   "cell_type": "code",
   "execution_count": 5,
   "metadata": {},
   "outputs": [
    {
     "name": "stdout",
     "output_type": "stream",
     "text": [
      "en descendant: 10\n",
      "en descendant: 9\n",
      "en descendant: 8\n",
      "en descendant: 7\n",
      "en descendant: 6\n",
      "en descendant: 5\n",
      "en descendant: 4\n",
      "en descendant: 3\n",
      "en descendant: 2\n",
      "en descendant: 1\n"
     ]
    }
   ],
   "source": [
    "# à l'envers, noter le -1 comme troisième paramètre; Ça pourrait être -2, -3, etc.\n",
    "for i in range(10, 0, -1):\n",
    "    print(\"en descendant: {0}\".format(i))"
   ]
  },
  {
   "cell_type": "markdown",
   "metadata": {},
   "source": [
    "## Itérer avec `while` \n",
    "- La commande `while` permet de dire à Python de répéter un ensemble de commandes qui seront indentées (comme lors de l'ouverture de fichiers texte) __tant qu'une certaine condition d'itération est remplie__. Autrement dit, on dit à Python: \"__tant que la condition x est vraie__, voici ce qu'il faut faire\".\n",
    "- C'est donc à nous de gérer cette condition et non à Python.\n",
    "- Dans les exemples ci-dessous, nous verrons comment programmer ce type de boucle. Ce faisant, il est important de voir en quoi parfois on peut faire la même chose avec la commande `for` alors que parfois, la commande `while` fait plus de sens.\n",
    "- Lorsque nous verrons les conditions, nous verrons aussi des cas où `while` fait plus de sens."
   ]
  },
  {
   "cell_type": "code",
   "execution_count": 6,
   "metadata": {},
   "outputs": [
    {
     "name": "stdout",
     "output_type": "stream",
     "text": [
      "en augmentant: 0\n",
      "en augmentant: 1\n",
      "en augmentant: 2\n",
      "en augmentant: 3\n",
      "en augmentant: 4\n",
      "en augmentant: 5\n",
      "en augmentant: 6\n",
      "en augmentant: 7\n",
      "en augmentant: 8\n",
      "en augmentant: 9\n"
     ]
    }
   ],
   "source": [
    "# ici, on aurait très bien pu utiliser un for avec un range()\n",
    "# attention à l'incrémentation de i à la fin de la boucle\n",
    "i = 0\n",
    "while i < 10:\n",
    "    print(\"en augmentant: {0}\".format(i))    \n",
    "    i = i + 1"
   ]
  },
  {
   "cell_type": "markdown",
   "metadata": {},
   "source": [
    "## Convertir les séquences\n",
    "- Il arrive parfois que l'on ait besoin de convertir un type de séquence dans un autre.\n",
    "- Ceci va arriver notamment dans 2 cas de figures:\n",
    "    - On reçoit un type de séquence que l'on doit convertir pour faire des opérations.\n",
    "    - On veut retourner un type de séquence différent de celui avec lequel on a fait un traitement préalable.\n",
    "- Pour convertir une séquence en une séquence d'un autre type, on indique à Python la conversion, exactement de la même façon que lorsque l'on convertit une chaîne de caractères en `int` par exemple.\n",
    "- Dans les exemples ci-dessous, on créera une liste que l'on transformera en tuple, dictionnaire, puis set. Surveillez bien la sortie de chacune de ces conversions!\n",
    "\n",
    "### Conversion de liste à tuple"
   ]
  },
  {
   "cell_type": "code",
   "execution_count": 7,
   "metadata": {},
   "outputs": [
    {
     "name": "stdout",
     "output_type": "stream",
     "text": [
      "Liste de départ: ['pomme', 'poire', 'orange']\n",
      "Liste convertie en tuple: ('pomme', 'poire', 'orange')\n"
     ]
    }
   ],
   "source": [
    "# création et affichage de la liste\n",
    "my_list = ['pomme', 'poire', 'orange']\n",
    "print(\"Liste de départ: {0}\".format(my_list))\n",
    "\n",
    "# conversion en tuple et affichage\n",
    "my_tuple = tuple(my_list)\n",
    "print(\"Liste convertie en tuple: {0}\".format(my_tuple))"
   ]
  },
  {
   "cell_type": "markdown",
   "metadata": {},
   "source": [
    "### Conversion de liste à set"
   ]
  },
  {
   "cell_type": "code",
   "execution_count": 8,
   "metadata": {},
   "outputs": [
    {
     "name": "stdout",
     "output_type": "stream",
     "text": [
      "Liste convertie en set: {'pomme', 'orange', 'poire'}\n"
     ]
    }
   ],
   "source": [
    "# conversion en set et affichage\n",
    "my_set = set(my_list)\n",
    "print(\"Liste convertie en set: {0}\".format(my_set))"
   ]
  },
  {
   "cell_type": "markdown",
   "metadata": {},
   "source": [
    "### Conversion de set à liste"
   ]
  },
  {
   "cell_type": "code",
   "execution_count": 9,
   "metadata": {},
   "outputs": [
    {
     "name": "stdout",
     "output_type": "stream",
     "text": [
      "Set converti en liste: ['pomme', 'orange', 'poire']\n"
     ]
    }
   ],
   "source": [
    "my_list_2 = list(my_set)\n",
    "print(\"Set converti en liste: {0}\".format(my_list_2))"
   ]
  },
  {
   "cell_type": "markdown",
   "metadata": {},
   "source": [
    "### Conversion de liste à dictionnaire"
   ]
  },
  {
   "cell_type": "code",
   "execution_count": 10,
   "metadata": {},
   "outputs": [
    {
     "ename": "ValueError",
     "evalue": "dictionary update sequence element #0 has length 5; 2 is required",
     "output_type": "error",
     "traceback": [
      "\u001b[1;31m---------------------------------------------------------------------------\u001b[0m",
      "\u001b[1;31mValueError\u001b[0m                                Traceback (most recent call last)",
      "\u001b[1;32m~\\AppData\\Local\\Temp/ipykernel_15108/2038140856.py\u001b[0m in \u001b[0;36m<module>\u001b[1;34m\u001b[0m\n\u001b[0;32m      1\u001b[0m \u001b[1;31m# conversion en dictionnaire et affichage\u001b[0m\u001b[1;33m\u001b[0m\u001b[1;33m\u001b[0m\u001b[0m\n\u001b[1;32m----> 2\u001b[1;33m \u001b[0mmy_dict\u001b[0m \u001b[1;33m=\u001b[0m \u001b[0mdict\u001b[0m\u001b[1;33m(\u001b[0m\u001b[0mmy_list\u001b[0m\u001b[1;33m)\u001b[0m\u001b[1;33m\u001b[0m\u001b[1;33m\u001b[0m\u001b[0m\n\u001b[0m\u001b[0;32m      3\u001b[0m \u001b[0mprint\u001b[0m\u001b[1;33m(\u001b[0m\u001b[1;34m\"Liste convertie en dict: {0}\"\u001b[0m\u001b[1;33m.\u001b[0m\u001b[0mformat\u001b[0m\u001b[1;33m(\u001b[0m\u001b[0mmy_dict\u001b[0m\u001b[1;33m)\u001b[0m\u001b[1;33m)\u001b[0m\u001b[1;33m\u001b[0m\u001b[1;33m\u001b[0m\u001b[0m\n",
      "\u001b[1;31mValueError\u001b[0m: dictionary update sequence element #0 has length 5; 2 is required"
     ]
    }
   ],
   "source": [
    "# conversion en dictionnaire et affichage\n",
    "my_dict = dict(my_list)\n",
    "print(\"Liste convertie en dict: {0}\".format(my_dict))"
   ]
  },
  {
   "cell_type": "markdown",
   "metadata": {},
   "source": [
    "__Aie! Ça plante!__\n",
    "\n",
    "- Que s'est-il passé? Si on se rappelle la façon dont un `dict` fonctionne, on sait qu'il s'agit d'une association clés/valeurs.\n",
    "- Le problème ici, c'est que notre liste contient finalement seulement des clés (a priori, mais cela resterait à déterminer en fonction de ce que l'on veut faire).\n",
    "- Python nous renvoie un message d'erreur indiquant que notre premier item (séquence \\#0) à une longueur de 5 alors que 2 sont requis. En fait, quand Python lit le mot *pomme*, il tente de convertir le mot en une clé __et__ une valeur. Sauf que pour faire une association clé/valeur, il faut 2 morceaux et là, le mot pomme contient 5 caractères de long. Donc Python est perdu.\n",
    "- Il faudra explicitement lui dire que notre liste ne contient que des clés. Pour ce faire, on utilisera la fonction `fromkeys()` du dict, tel qu'expliqué dans la __[documentation](https://docs.Python.org/3/library/stdtypes.html?highlight=fromkeys#dict.fromkeys)__\n",
    "- On aura donc un dictionnaire avec 3 clés et pour chaque clé, une valeur par défaut de `None` associée. En Python `None` veut dire tout simplement *valeur non existante, ou nulle* __(donc différente de 0)__."
   ]
  },
  {
   "cell_type": "code",
   "execution_count": 11,
   "metadata": {},
   "outputs": [
    {
     "name": "stdout",
     "output_type": "stream",
     "text": [
      "Liste convertie en dict: {'pomme': None, 'poire': None, 'orange': None}\n",
      "Liste convertie en dict: {'pomme': ':)', 'poire': ':)', 'orange': ':)'}\n",
      "Liste convertie en dict: {'pomme': 'aime', 'poire': 'aime pas', 'orange': 'aime pas'}\n"
     ]
    }
   ],
   "source": [
    "# conversion en dictionnaire et affichage\n",
    "my_dict = dict.fromkeys(my_list)\n",
    "print(\"Liste convertie en dict: {0}\".format(my_dict))\n",
    "\n",
    "# conversion en dictionnaire avec une valeur par défaut et affichage\n",
    "my_dict = dict.fromkeys(my_list, \":)\")\n",
    "print(\"Liste convertie en dict: {0}\".format(my_dict))\n",
    "\n",
    "# Étant donné une deuxième liste contenant des valeurs (soit mes préférences),\n",
    "# comment convertir les deux listes en un seul dictionnaire.\n",
    "my_list_preferences = ['aime', 'aime pas', 'aime pas']\n",
    "my_dict = {my_list[i] : my_list_preferences[i] for i in range(len(my_list))} \n",
    "print(\"Liste convertie en dict: {0}\".format(my_dict))"
   ]
  },
  {
   "cell_type": "markdown",
   "metadata": {},
   "source": [
    "## Exercices à faire\n",
    "- Exercice 5.\n",
    "- Exercice 6."
   ]
  },
  {
   "cell_type": "code",
   "execution_count": null,
   "metadata": {},
   "outputs": [],
   "source": []
  }
 ],
 "metadata": {
  "kernelspec": {
   "display_name": "Python 3 (ipykernel)",
   "language": "python",
   "name": "python3"
  },
  "language_info": {
   "codemirror_mode": {
    "name": "ipython",
    "version": 3
   },
   "file_extension": ".py",
   "mimetype": "text/x-python",
   "name": "python",
   "nbconvert_exporter": "python",
   "pygments_lexer": "ipython3",
   "version": "3.9.7"
  }
 },
 "nbformat": 4,
 "nbformat_minor": 2
}
