{
 "cells": [
  {
   "cell_type": "markdown",
   "metadata": {},
   "source": [
    "# Quand une valeur simple ne suffit pas: listes et compagnies\n",
    "- Jusqu'à maintenant, nous avons stocké des valeurs dans des variables simples: un entier, une chaîne de caractères, etc.\n",
    "- Il arrive parfois (ou souvent) que l'on veuille stocker non pas une valeur, mais plusieurs valeurs ensemble. Par exemple: le contenu d'une commande, un carnet d'adresses, etc.\n",
    "- Il est possible de créer une variable par *item*, mais on peut à la place créer une seule variable qui va contenir un ensemble de valeurs.\n",
    "- En Python, il existe quatre grands types qui permettent de gérer cette situation: \n",
    "    - Les listes\n",
    "    - Les tuples\n",
    "    - Les sets\n",
    "    - Les dictionnaires\n",
    "- __Important__: Les séquences sont souvent utilisées pour stocker des valeurs dites scalaires (par exemple des entiers etc.) mais aussi souvent pour stocker d'autres séquences. Par exemple, une liste d'étudiants ayant chacun(e) sa liste de notes à ses cours.    \n",
    "\n",
    "## Tableau comparatif\n",
    "- Nous verrons ces différentes structures de données en détail mais voici un tableau récapitulatif qui peut aider à déterminer laquelle utiliser dans différentes situations.\n",
    "- L'idée est ici, une fois de plus, de déterminer ce que vous voulez faire et ensuite de déclarer le bon type de variables plutôt que l'inverse.\n",
    "\n",
    "| Condition | `Liste` [...] | `Tuple` (...) | `Dictionnaire` {...:...} | `Set` {...} |\n",
    "| --- | --- | --- | --- | --- |\n",
    "| Mise à jour (mutabilité) | __OUI__ | __NON__ | __OUI__ | __OUI__ |\n",
    "| Items ordonnés par défaut | __NON__ | __NON__ | __NON__ | __NON__ |\n",
    "| Items uniques | __NON__ | __NON__ | __OUI__ | __OUI__ |\n",
    "| Indexation | __OUI__ | __OUI__ | __OUI__ | __NON__ |\n",
    "| Slicing (découpage) | __OUI__ | __OUI__ | __NON__ | __NON__ |\n",
    "| Fonctions d'ensembles mathématiques | __NON__ | __NON__ | __NON__ | __OUI__ |\n",
    "\n",
    "## Les listes\n",
    "- Une liste comprend un ou plusieurs items arangés dans ce que l'on appelle une __séquence__ (*sequence*) qui est __indexée__.\n",
    "- Les valeurs d'une liste sont comprises entre des crochets, `[]`.\n",
    "- __Attention__: Les items d'une liste ne sont pas obligatoirement uniques, c'est-à-dire qu'on peut avoir plusieurs items avec la même valeur (ce sont quand même des items *différents*).\n",
    "- On acccède aux items par leur __index__ c'est-à-dire leur position dans la liste.\n",
    "\n",
    "### Créer une liste"
   ]
  },
  {
   "cell_type": "code",
   "execution_count": 1,
   "metadata": {},
   "outputs": [
    {
     "name": "stdout",
     "output_type": "stream",
     "text": [
      "banane\n"
     ]
    }
   ],
   "source": [
    "# cette liste est vide lors de sa création\n",
    "my_empty_list = []\n",
    "\n",
    "# celle-ci ne l'est pas.\n",
    "my_list = [\"pomme\", \"poire\", \"banane\", \"pomme\"]\n",
    "print(my_list[2])"
   ]
  },
  {
   "cell_type": "markdown",
   "metadata": {},
   "source": [
    "### Lire les valeurs d'une liste"
   ]
  },
  {
   "cell_type": "code",
   "execution_count": 2,
   "metadata": {},
   "outputs": [
    {
     "name": "stdout",
     "output_type": "stream",
     "text": [
      "['pomme', 'poire', 'banane', 'pomme']\n",
      "poire\n",
      "pomme\n",
      "banane\n"
     ]
    }
   ],
   "source": [
    "# voir la liste complète\n",
    "print(my_list)\n",
    "\n",
    "# aller chercher un item la liste.\n",
    "# Attention, on démarre toujours à 0! L'index \"1\" est le deuxième élément!\n",
    "print(my_list[1])\n",
    "\n",
    "# la dernière valeur de la liste\n",
    "print(my_list[-1])\n",
    "\n",
    "# l'avant-dernière valeur de la liste\n",
    "print(my_list[-2])"
   ]
  },
  {
   "cell_type": "markdown",
   "metadata": {},
   "source": [
    "### Voir la structure d'une liste"
   ]
  },
  {
   "cell_type": "code",
   "execution_count": 3,
   "metadata": {},
   "outputs": [
    {
     "name": "stdout",
     "output_type": "stream",
     "text": [
      "la liste contient 4 items.\n",
      "la liste contient le mot 'pomme' 2 fois.\n"
     ]
    }
   ],
   "source": [
    "# Renvoie le nombre d'items contenus dans la liste.\n",
    "print(\"la liste contient {0} items.\".format(len(my_list)))\n",
    "\n",
    "# Renvoie le nombre de fois où 'pomme' apparaît dans la liste.\n",
    "print(\"la liste contient le mot 'pomme' {0} fois.\".format(my_list.count(\"pomme\")))"
   ]
  },
  {
   "cell_type": "markdown",
   "metadata": {},
   "source": [
    "### Changer le contenu d'une liste\n",
    "- Une liste est dite __mutable__, c'est-à-dire que ses valeurs peuvent changer."
   ]
  },
  {
   "cell_type": "code",
   "execution_count": 5,
   "metadata": {
    "scrolled": true
   },
   "outputs": [
    {
     "name": "stdout",
     "output_type": "stream",
     "text": [
      "poire\n",
      "fraise\n",
      "['pomme', 'fraise', 'banane', 'pomme', 'prune']\n",
      "['pomme', 'fraise', 'mandarine', 'banane', 'pomme', 'prune']\n",
      "['pomme', 'fraise', 'mandarine', 'banane', 'pomme', 'prune', 'kiwi', 'ananas', 'pamplemousse']\n"
     ]
    }
   ],
   "source": [
    "my_list = [\"pomme\", \"poire\", \"banane\", \"pomme\"]\n",
    "\n",
    "#ancienne valeur \n",
    "print(my_list[1])\n",
    "\n",
    "# assignation de la nouvelle valeur qui ***remplace*** l'ancienne valeur, soit 'poire'\n",
    "my_list[1] = \"fraise\"\n",
    "\n",
    "# afficher la nouvelle valeur\n",
    "print(my_list[1])\n",
    "\n",
    "# ajouter une ***seule*** nouvelle valeur (item) à la fin de la liste\n",
    "my_list.append(\"prune\")\n",
    "\n",
    "print(my_list)\n",
    "\n",
    "# ajouter une ***seule*** nouvelle valeur (item) à un endroit précis de la liste\n",
    "my_list.insert(2, \"mandarine\")\n",
    "\n",
    "# voir la liste complète\n",
    "print(my_list)\n",
    "\n",
    "# ajouter ***plusieurs*** valeurs (items) à la liste existante d'un seul coup\n",
    "my_list.extend([\"kiwi\", \"ananas\",\"pamplemousse\"])\n",
    "\n",
    "# afficher la liste complète\n",
    "print(my_list)"
   ]
  },
  {
   "cell_type": "code",
   "execution_count": 17,
   "metadata": {},
   "outputs": [
    {
     "name": "stdout",
     "output_type": "stream",
     "text": [
      "['pomme', 'poire', 'banane', 'pomme']\n",
      "['pomme', 'poire', 'banane', 'pomme', 'kiwi', 'ananas', 'pamplemousse']\n",
      "['pomme', 'poire', 'banane', 'pomme', 'kiwi', 'ananas', 'pamplemousse', 'prune']\n"
     ]
    }
   ],
   "source": [
    "new_list = []\n",
    "new_list.extend(my_list)\n",
    "\n",
    "print(new_list)\n",
    "\n",
    "new_list.extend([\"kiwi\", \"ananas\",\"pamplemousse\"])\n",
    "\n",
    "print(new_list)\n",
    "\n",
    "new_list.append(\"prune\")\n",
    "\n",
    "print(new_list)"
   ]
  },
  {
   "cell_type": "markdown",
   "metadata": {},
   "source": [
    "### Récupérer plusieurs items de la liste (`slicing`) \n",
    "- On peut utiliser `:` à l'intérieur des crochets pour aller chercher une \"tranche\" de valeurs."
   ]
  },
  {
   "cell_type": "code",
   "execution_count": 14,
   "metadata": {},
   "outputs": [
    {
     "name": "stdout",
     "output_type": "stream",
     "text": [
      "['pomme', 'poire', 'banane', 'pomme', 'kiwi', 'ananas', 'pamplemousse', 'prune']\n",
      "['poire', 'banane', 'pomme', 'kiwi', 'ananas', 'pamplemousse', 'prune']\n",
      "['poire', 'banane']\n",
      "[]\n",
      "['ananas', 'pamplemousse']\n"
     ]
    }
   ],
   "source": [
    "# list[start(incl.) : end (excl.)]\n",
    "# start < end\n",
    "\n",
    "#tout depuis la premiere valeur\n",
    "print(new_list[0:])\n",
    "\n",
    "# tout depuis la deuxième valeur\n",
    "print(new_list[1:])\n",
    "\n",
    "# les valeurs comprises entre la deuxième (incluse) et la quatrième (excluse)... donc la deuxième et la troisième\n",
    "print(new_list[1:3])\n",
    "\n",
    "# une tranche \"spéciale\", écrite par erreur... elle ne retournera rien.\n",
    "# Soyez donc prudent lors de l'écriture de code et du débogage.\n",
    "print(new_list[5:3])\n",
    "\n",
    "# une autre tranche \"spéciale\" mais qui marche cette fois-ci...\n",
    "# la troisième avant-dernière valeur jusqu'à l'avant-dernière valeur. \n",
    "print(new_list[-3:-1])"
   ]
  },
  {
   "cell_type": "markdown",
   "metadata": {},
   "source": [
    "### Valeurs non existantes\n",
    "- Que se passe-t-il si on essaie d'accéder à des items non existants?"
   ]
  },
  {
   "cell_type": "code",
   "execution_count": 7,
   "metadata": {},
   "outputs": [
    {
     "ename": "IndexError",
     "evalue": "list index out of range",
     "output_type": "error",
     "traceback": [
      "\u001b[1;31m---------------------------------------------------------------------------\u001b[0m",
      "\u001b[1;31mIndexError\u001b[0m                                Traceback (most recent call last)",
      "\u001b[1;32m<ipython-input-7-c2b9979e2a8e>\u001b[0m in \u001b[0;36m<module>\u001b[1;34m()\u001b[0m\n\u001b[0;32m      1\u001b[0m \u001b[1;31m# le 15ème item\u001b[0m\u001b[1;33m\u001b[0m\u001b[1;33m\u001b[0m\u001b[0m\n\u001b[1;32m----> 2\u001b[1;33m \u001b[0mprint\u001b[0m\u001b[1;33m(\u001b[0m\u001b[0mmy_list\u001b[0m\u001b[1;33m[\u001b[0m\u001b[1;36m15\u001b[0m\u001b[1;33m]\u001b[0m\u001b[1;33m)\u001b[0m\u001b[1;33m\u001b[0m\u001b[0m\n\u001b[0m",
      "\u001b[1;31mIndexError\u001b[0m: list index out of range"
     ]
    }
   ],
   "source": [
    "# le 15ème item\n",
    "print(my_list[15])"
   ]
  },
  {
   "cell_type": "markdown",
   "metadata": {},
   "source": [
    "### Opérations sur une liste (avec des valeurs numériques)\n",
    "- Si on additionne deux listes, elles sont concaténées dans l'ordre d'addition.\n",
    "- Si on multiplie une liste par un chiffre, on répète la liste plusieurs fois."
   ]
  },
  {
   "cell_type": "code",
   "execution_count": 8,
   "metadata": {},
   "outputs": [
    {
     "name": "stdout",
     "output_type": "stream",
     "text": [
      "[10, 20, 30, 40, 2, 3]\n",
      "[10, 20, 30, 40, 10, 20, 30, 40]\n"
     ]
    }
   ],
   "source": [
    "# addition de listes\n",
    "my_numbers = [10, 20, 30, 40]\n",
    "my_other_numbers = [2, 3]\n",
    "print(my_numbers + my_other_numbers)\n",
    "\n",
    "# multiplication d'une liste. Il ne multiplie pas les valeurs dans la liste mais imprime le contenu de la liste plusieurs fois.\n",
    "my_numbers = [10, 20, 30, 40]\n",
    "print(my_numbers * 2)"
   ]
  },
  {
   "cell_type": "markdown",
   "metadata": {},
   "source": [
    "### Trier une liste\n",
    "- On peut prendre une liste (ou d'autres types de séquences) et la trier en utilisant les fonctions `sort()` et `sorted()`. Voir la __[documentation](https://docs.Python.org/3/howto/sorting.html?highlight=sort#sorting-how-to)__.\n",
    "- __Attention__: \n",
    "    - Quand on utilise `sort()`, la liste est triée et sauvegardée __triée__ (l'ordre original est donc perdu).\n",
    "    - Si on veut garder la version originale de la liste, on peut utiliser la méthode `sorted()` qui elle retourne une copie de la liste qui est elle triée.\n",
    "    - `sort()` est une fonction sur la liste; `sorted()` est une fonction dans le langage Python. La façon d'utiliser ces deux fonctions diffère donc.\n",
    "- Par défaut le tri est ascendant. "
   ]
  },
  {
   "cell_type": "code",
   "execution_count": 9,
   "metadata": {},
   "outputs": [
    {
     "name": "stdout",
     "output_type": "stream",
     "text": [
      "liste originale triée: [1, 3, 5, 10]\n",
      "liste originale triée (ordre descendant): [10, 5, 3, 1]\n"
     ]
    }
   ],
   "source": [
    "# sort()\n",
    "# création d'une liste simple\n",
    "my_numbers = [5, 3, 10, 1]\n",
    "\n",
    "# affichage de la liste en ordre ascendant\n",
    "my_numbers.sort()\n",
    "print(\"liste originale triée: {0}\".format(my_numbers))\n",
    "\n",
    "# en ordre descendant\n",
    "my_numbers.sort(reverse = True)\n",
    "print(\"liste originale triée (ordre descendant): {0}\".format(my_numbers))"
   ]
  },
  {
   "cell_type": "code",
   "execution_count": 10,
   "metadata": {},
   "outputs": [
    {
     "name": "stdout",
     "output_type": "stream",
     "text": [
      "nouvelle liste triée: [1, 3, 5, 10]\n",
      "liste originale non triée: [5, 3, 10, 1]\n",
      "nouvelle liste triée (ordre descendant): [10, 5, 3, 1]\n",
      "liste originale non triée: [5, 3, 10, 1]\n"
     ]
    }
   ],
   "source": [
    "# sorted()\n",
    "# création d'une liste simple\n",
    "my_numbers = [5, 3, 10, 1]\n",
    "\n",
    "# affichage de la liste en ordre ascendant\n",
    "my_sorted_numbers = sorted(my_numbers)\n",
    "print(\"nouvelle liste triée: {0}\".format(my_sorted_numbers))\n",
    "print(\"liste originale non triée: {0}\".format(my_numbers))\n",
    "\n",
    "# en ordre descendant\n",
    "my_sorted_numbers = sorted(my_numbers, reverse = True)\n",
    "print(\"nouvelle liste triée (ordre descendant): {0}\".format(my_sorted_numbers))\n",
    "print(\"liste originale non triée: {0}\".format(my_numbers))"
   ]
  },
  {
   "cell_type": "markdown",
   "metadata": {},
   "source": [
    "### Effacer un item d'une liste"
   ]
  },
  {
   "cell_type": "code",
   "execution_count": 12,
   "metadata": {},
   "outputs": [
    {
     "name": "stdout",
     "output_type": "stream",
     "text": [
      "contenu de my_list après avoir enlevé l'item prune: ['pomme', 'fraise', 'mandarine', 'banane', 'pomme', 'kiwi', 'ananas', 'pamplemousse', 'pamplemousse']\n",
      "contenu de my_list après avoir enlevé l'item avec l'index 2 (mandarine): ['pomme', 'fraise', 'banane', 'pomme', 'kiwi', 'ananas', 'pamplemousse', 'pamplemousse']\n",
      "contenu de my_list après avoir enlevé le 3ième et le 2ième avant-dernièr items (kiwi et ananasa): ['pomme', 'fraise', 'banane', 'pomme', 'kiwi', 'pamplemousse']\n"
     ]
    }
   ],
   "source": [
    "# enlever la ***première instance*** que l'on trouve d'un item\n",
    "my_list.remove(\"prune\")\n",
    "print(\"contenu de my_list après avoir enlevé l'item prune: {0}\".format(my_list))\n",
    "\n",
    "# on peut aussi utiliser l'opération del pour le faire\n",
    "del my_list[2]\n",
    "print(\"contenu de my_list après avoir enlevé l'item avec l'index 2 (mandarine): {0}\".format(my_list))\n",
    "\n",
    "del my_list[-3:-1]\n",
    "print(\"contenu de my_list après avoir enlevé le 3ième et le 2ième avant-dernièr items (kiwi et ananas): {0}\".format(my_list))"
   ]
  }
 ],
 "metadata": {
  "kernelspec": {
   "display_name": "Python 3 (ipykernel)",
   "language": "python",
   "name": "python3"
  },
  "language_info": {
   "codemirror_mode": {
    "name": "ipython",
    "version": 3
   },
   "file_extension": ".py",
   "mimetype": "text/x-python",
   "name": "python",
   "nbconvert_exporter": "python",
   "pygments_lexer": "ipython3",
   "version": "3.9.7"
  }
 },
 "nbformat": 4,
 "nbformat_minor": 2
}
