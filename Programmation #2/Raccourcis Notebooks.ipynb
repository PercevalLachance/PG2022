{
 "cells": [
  {
   "cell_type": "markdown",
   "id": "586274b8",
   "metadata": {},
   "source": [
    "# Quelques trucs pour l'utilisation des Jupyter Notebooks\n",
    "\n",
    "Ce document présente quelques trucs qui vous seront utiles lorsque vous allez manipuler des Jupyter Notebooks. La liste présentée n'est pas exhaustive, mais devrait vous permettre de vous débrouiller assez rapidement dans l'environnement."
   ]
  },
  {
   "cell_type": "markdown",
   "id": "0f299a1d",
   "metadata": {},
   "source": [
    "## L'onglet d'accueil\n",
    "\n",
    "Lorsque vous lancer la commande `jupyter notebook`, un nouvel onglet s'ouvre dans votre fureteur par défault. Cet onglet est en fait votre page d'accueil qui vous permet de naviguer sur le disque de votre ordinateur à partir du dossier racine de Jupyter Notebook.\n",
    "\n",
    "![Page d'accueil](img_cheat_sheet/accueil.jpg)"
   ]
  },
  {
   "cell_type": "markdown",
   "id": "6576c5e5",
   "metadata": {},
   "source": [
    "### Naviguer dans l'onglet d'accueil\n",
    "\n",
    "Dans l'onglet d'accueil, vous pouvez : \n",
    "\n",
    "\n",
    "- ouvrir un fichier en cliquant sur son nom :\n",
    "\n",
    "    - S'il s'agit d'un répertoire, vous allez accéder à ce répertoire.\n",
    "    - S'il s'agit d'un fichier, Jupyter Notebook tentera d'afficher ce fichier.\n",
    "\n",
    "- remonter dans un répertoire précédent en cliquant sur le répertoire dans les *breakcrumbs* en haut de la liste des fichiers."
   ]
  },
  {
   "cell_type": "markdown",
   "id": "19521898",
   "metadata": {},
   "source": [
    "### Créer un nouveau notebook/répertoire\n",
    "\n",
    "Dans l'onglet d'accueil, il est facile de créer un nouveau notebook ou un nouveau dossier avec le bouton `Nouveau`.\n",
    "\n",
    "![Création d'un notebook](img_cheat_sheet/nouveau_fichier.jpg)\n",
    "\n",
    "- Pour créer un nouveau notebook, il suffit de choisir l'option `Python3`. Cela crée un fichier notebook vide dont le nom débute par `Untitled`. De plus, un nouvel onglet est ouvert avec ce notebook.\n",
    "- Pour créer un nouveau répertoire, il suffit de choisir l'option `Répertoire`. Cela crée un répertoire vide dont le nom débute par `Untitled Folder`.\n"
   ]
  },
  {
   "cell_type": "markdown",
   "id": "42189d50",
   "metadata": {},
   "source": [
    "### Manipuler un notebook/répertoire\n",
    "\n",
    "Lorsqu'on se trouve dans l'onglet d'accueil, il est possible de manipuler un notebook inactif (c.-à-d., qui n'est pas en cours d'exécution) ou d'un répertoire.\n",
    "\n",
    "Pour y arriver, il faut :\n",
    "\n",
    "1. cocher la case à côté du nom\n",
    "![cocher](img_cheat_sheet/cocher.jpg)\n",
    "2. cliquer le bouton correspondant à l'action à réaliser juste au-dessus de la liste des fichiers\n",
    "![fonctions accueil](img_cheat_sheet/fonctions_accueil.jpg)\n",
    "\n",
    "La liste des fonctions disponibles varie selon l'objet sélectionné et son état d'exécution. Ainsi, les fonctions disponibles pour un notebook en cours d'exécution ne sont pas les mêmes qu'un notebook inactif. Ici, nous montrons les fonctions disponibles pour un notebook inactif."
   ]
  },
  {
   "cell_type": "markdown",
   "id": "79c12c8f",
   "metadata": {},
   "source": [
    "## L'éditeur de notebook\n",
    "\n",
    "L'éditeur de notebook est lancé lorsque vous ouvrez un notebook dans l'onglet d'accueil. Un nouvel onglet est créé pour chaque notebook ainsi lancé.\n",
    "\n",
    "![éditeur](img_cheat_sheet/editeur.jpg)"
   ]
  },
  {
   "cell_type": "markdown",
   "id": "033fdc70",
   "metadata": {},
   "source": [
    "Un notebook est composé d'un ensemble de cellules, chaque cellule pouvant contenir du code Python ou du *markdown*. Pour une référence rapide au *markdown*, consultez le [Markdown cheat sheet](https://www.markdownguide.org/cheat-sheet/). Une autre source est disponible via le menu `Aide` : [Aide Markdown](https://docs.github.com/en/github/writing-on-github/getting-started-with-writing-and-formatting-on-github). On reconnait une cellule de code par le fait qu'elle est précédée de `Entrée [ ]:` à sa gauche. Une cellule contenant du *markdown* n'a pas cet élément.\n",
    "\n",
    "Un notebook peut être dans un de deux modes :\n",
    "\n",
    "- en mode édition : une cellule a une marge verte sur la gauche.\n",
    "- en mode commande : une cellule a une bordure grise et une marge bleue sur la gauche.\n",
    "\n",
    "Lorsque le notebook est en mode édition, on peut rapidement retourner au mode commande avec la touche <kbd>Esc</kbd>. Alternativement, on peut cliquer à l'extérieur de la cellule présentement éditée pour que la marge devienne bleue!\n",
    "\n",
    "Lorsque le notebook est en mode commande, il est possible de naviguer rapidement entre les cellules avec les flèches du clavier, vers le haut (<kbd>&uarr;</kbd>) et vers le bas (<kbd>&darr;</kbd>). Autrement, ces flèches nous permettent de naviguer à l'intérieur de la cellule. La touche <kbd>&crarr;</kbd> permet de passer au mode édition dans la cellule courante. Alernativement, on peut double-cliquer sur la cellule pour passer au mode édition (marge verte).\n",
    "\n",
    "De façon générale, si plusieurs cellules sont sélectionnées, les opérations disponibles dans les menus vont s'appliquer à toutes les ces cellules."
   ]
  },
  {
   "cell_type": "markdown",
   "id": "6106c0ea",
   "metadata": {},
   "source": [
    "### Modifier le nom d'un notebook dans l'éditeur\n",
    "\n",
    "Pour modifier le nom d'un notebook dans l'éditeur, il suffit de cliquer sur le nom du notebook dans le haut à gauche. Un dialogue est affiché vous permettant de modifier le nom.\n",
    "\n",
    "![modif nom](img_cheat_sheet/modif_nom.jpg)"
   ]
  },
  {
   "cell_type": "markdown",
   "id": "d0e4c499",
   "metadata": {},
   "source": [
    "### Le menu `Fichier`de l'éditeur\n",
    "\n",
    "Le menu `Fichier` de l'éditeur offre un ensemble de fonctions très utiles pour la manipulation des notebooks.\n",
    "\n",
    "![menu fichier](img_cheat_sheet/menu_fichier.jpg)"
   ]
  },
  {
   "cell_type": "markdown",
   "id": "b5293d07",
   "metadata": {},
   "source": [
    "Parmi ces fonctions, certaines sont plus intéressantes :\n",
    "\n",
    "- `Nouveau Notebook` / `Python3`. Cette commande crée un nouveau notebook.\n",
    "- `Faire une copie...`. Cette commande fait une copie du notebook courant. Cette option est intéressante dans le cadre du cours. Prenez l'habitude de faire une copie du notebook original afin de pouvoir revenir sur vos pas. Vous pourrez aussi personaliser votre copie du notebook.\n"
   ]
  },
  {
   "cell_type": "markdown",
   "id": "24f24ac6",
   "metadata": {},
   "source": [
    "### Le menu `Édition` de l'éditeur\n",
    "\n",
    "Le menu `Édition` offre plusieurs fonctions d'édition du contenu du notebook.\n",
    "\n",
    "![menu edition](img_cheat_sheet/menu_edition.jpg)"
   ]
  },
  {
   "cell_type": "markdown",
   "id": "0cddd1c7",
   "metadata": {},
   "source": [
    "La plupart de ces fonctions s'appliquent lorsque le notebook est en mode commande. Ces fonctions s'appliquent alors à l'ensemble des cellules présentement sélectionnées.\n",
    "\n",
    "**Attention!** Les raccourcis claviers du menu `Édition` ne fonctionnent pas lorsque le notebook est en mode édition, sauf dans le cas de la fonction `Diviser la cellule` qui requiert au contraire d'être en mode édition. Dans le cas de cette dernière fonction, la séparation de la cellule se fait à partir de l'endroit où se trouve le curseur dans la cellule courante. "
   ]
  },
  {
   "cell_type": "markdown",
   "id": "48ebd142",
   "metadata": {},
   "source": [
    "### Le menu `Affichage` de l'éditeur\n",
    "\n",
    "Le menu `Affichage` offre quelques options permettant de modifier l'affichage du notebook. Nous seront particulièrement intéressé à afficher les numéros de ligne, car cela permettra de plus rapidement faire référence à une ligne en particulier lorsqu'on discute du contenu d'une cellule."
   ]
  },
  {
   "cell_type": "markdown",
   "id": "91db125d",
   "metadata": {},
   "source": [
    "### Le menu `Insérer`  de l'éditeur\n",
    "\n",
    "Le menu `Insérer` permet l'ajout de nouvelles cellules, avant ou après la cellule courante lorsque le notebook est en mode sélection."
   ]
  },
  {
   "cell_type": "markdown",
   "id": "c4da32b7",
   "metadata": {},
   "source": [
    "### Le menu `Cellule` de l'éditeur\n",
    "\n",
    "Le menu `Cellule` offre un ensemble de commandes pour exécuter le contenu des cellules, gérer le type des cellules et les sorties produites par les cellules. "
   ]
  },
  {
   "cell_type": "markdown",
   "id": "837a4c16",
   "metadata": {},
   "source": [
    "### Les raccourcis clavier\n",
    "\n",
    "Vous retrouverez l'ensemble de ces raccourcis dans le menu `Aide` / `Raccourcis clavier` (en mode commande : <kbd>H</kbd>)."
   ]
  },
  {
   "cell_type": "markdown",
   "id": "bcd6d51b",
   "metadata": {},
   "source": [
    "#### Raccourcis clavier en mode commande (éditeur de notebooks)\n",
    "\n",
    "Nous présentons ici les raccourcis clavier les plus utiles en mode sélection.\n",
    "\n",
    "| Commande | Windows | MacOS |\n",
    "| --- | --- | --- |\n",
    "| Navigation vers le haut entre les cellules | <kbd>&uarr;</kbd> | <kbd>&uarr;</kbd> | \n",
    "| Navigation vers le bas entre les cellules  | <kbd>&darr;</kbd> | <kbd>&darr;</kbd> | \n",
    "| Passer au mode édition | <kbd>&crarr;</kbd> | <kbd>&crarr;</kbd> | \n",
    "| **Menu `Fichier`**  | | |\n",
    "| `Créer une nouvelle sauvegarde` | <kbd>Ctrl</kbd>-<kbd>S</kbd>  | <kbd>&#8984;</kbd>-<kbd>S</kbd> |\n",
    "| **Menu `Édition`**  | | |\n",
    "| `Couper les cellules` | <kbd>X</kbd> | <kbd>X</kbd> |\n",
    "| `Copier les cellules` | <kbd>C</kbd> | <kbd>C</kbd> |\n",
    "| `Coller les cellules avant` | <kbd>Maj</kbd>-<kbd>V</kbd> | <kbd>&#8679;</kbd>-<kbd>V</kbd> |\n",
    "| `Coller les cellules après` | <kbd>V</kbd> | <kbd>V</kbd> | \n",
    "| `Supprimer les cellules` | <kbd>D</kbd>,<kbd>D</kbd> | <kbd>D</kbd>,<kbd>D</kbd> |\n",
    "| `Annuler la suppression des cellules` | <kbd>Z</kbd> | <kbd>Z</kbd> | \n",
    "| **Menu `Affichage`**  | | |\n",
    "| `Afficher/Masquer les numéros de ligne` | <kbd>Maj</kbd>-<kbd>L</kbd> | <kbd>&#8679;</kbd>-<kbd>L</kbd> |\n",
    "| **Menu `Insérer`**  | | |\n",
    "| `Insérer une cellule avant` | <kbd>A</kbd> | <kbd>A</kbd> |\n",
    "| `Insérer une cellule après` | <kbd>B</kbd> | <kbd>B</kbd> |\n",
    "| **Menu `Cellule`** | | |\n",
    "| `Type de cellule` / `Code` | <kbd>Y</kbd> | <kbd>Y</kbd> |\n",
    "| `Type de cellule` / `Markdown` | <kbd>M</kbd> | <kbd>M</kbd> |\n",
    "| `Sorties actuelles` / `Afficher/Masquer` | <kbd>O</kbd> | <kbd>O</kbd> |\n",
    "| `Sorties actuelles` / `Activer/Désactiver le défilement` | <kbd>Maj</kbd>-<kbd>O</kbd> | <kbd>&#8679;</kbd>-<kbd>O</kbd> |\n",
    "| **Menu `Noyau`** | | |\n",
    "| `Interrompre` | <kbd>I</kbd>,<kbd>I</kbd> | <kbd>I</kbd>,<kbd>I</kbd> |\n",
    "| `Redémarrer` | <kbd>0</kbd>,<kbd>0</kbd> | <kbd>0</kbd>,<kbd>0</kbd> |\n",
    "| **Menu `Aide`** | | |\n",
    "| `Raccourcis clavier` | <kbd>H</kbd> | <kbd>H</kbd> |\n"
   ]
  },
  {
   "cell_type": "markdown",
   "id": "b5df8045",
   "metadata": {},
   "source": [
    "#### Raccourcis clavier en mode édition (éditeur de notebooks)\n",
    "\n",
    "Nous présentons ici les raccourcis clavier les plus utiles en mode édition.\n",
    "\n",
    "\n",
    "| Commande | Windows | MacOS |\n",
    "| --- | --- | --- |\n",
    "| Navigation vers le haut dans une cellule | <kbd>&uarr;</kbd> | <kbd>&uarr;</kbd> | \n",
    "| Navigation vers le bas dans une cellule  | <kbd>&darr;</kbd> | <kbd>&darr;</kbd> | \n",
    "| Navigation vers la gauche dans une cellule | <kbd>&larr;</kbd> | <kbd>&larr;</kbd> | \n",
    "| Navigation vers la droite dans une cellule  | <kbd>&rarr;</kbd> | <kbd>&rarr;</kbd> | \n",
    "| Passer au mode commande | <kbd>Esc</kbd> | <kbd>Esc</kbd> | \n",
    "| **Menu `Édition`**  | | |\n",
    "| `Diviser la cellule` | <kbd>Ctrl</kbd>-<kbd>Maj</kbd>-<kbd>-</kbd> | <kbd>&#8963;</kbd>-<kbd>&#8679;</kbd>-<kbd>-</kbd> | \n",
    "| **Menu `Cellule`** | | |\n",
    "| `Exécuter les cellules` | <kbd>Ctrl</kbd>-<kbd>&crarr;</kbd> | <kbd>&#8963;</kbd>-<kbd>&crarr;</kbd> |\n",
    "| `Exécuter les cellules et sélectionner la suivante` | <kbd>Maj</kbd>-<kbd>&crarr;</kbd> | <kbd>&#8679;</kbd>-<kbd>&crarr;</kbd> |\n",
    "| `Exécuter les cellules et insérer après` | <kbd>Alt</kbd>-<kbd>&crarr;</kbd> | <kbd>&#8997;</kbd>-<kbd>&crarr;</kbd> |\n"
   ]
  },
  {
   "cell_type": "markdown",
   "id": "72d15900",
   "metadata": {},
   "source": [
    "## Autres informations utiles\n",
    "\n",
    "L'éditeur de notebook utilise le *syntax coloring*. Cela veut dire que l'éditeur reconnait la structure de votre code et de votre *markdown*. À vous de constater comment utiliser cette fonctionalité.\n",
    "\n",
    "L'instruction Python `who` permet de connaître à tout moment la liste de toutes les variables présentement connus par l'environnement d'exécution Python.\n",
    "\n",
    "Il est aussi possible de préfixer le nom d'une fonction Python par `??` pour afficher la documentation de cette fonction.\n",
    "\n",
    "Lors de l'utilisation d'une fonction, on pourra aussi afficher cette description en utilisant les touches <kbd>Shift</kbd>-<kbd>Tab</kbd> une fois (documentation de base) ou deux fois (documentation détaillée) lorsque le curseur se trouve entre les parenthèses suivants le nom de la fonction. Les images illustrent cette fonction :\n",
    "\n",
    "- Écriture du nom de la fonction `pow()` :\n",
    "\n",
    "![pow](img_cheat_sheet/pow.jpg)\n",
    "\n",
    "- Après un premier <kbd>Shift</kbd>-<kbd>Tab</kbd> :\n",
    "\n",
    "![pow](img_cheat_sheet/pow_doc1.jpg)\n",
    "\n",
    "- Après un deuxième <kbd>Shift</kbd>-<kbd>Tab</kbd> :\n",
    "\n",
    "![pow](img_cheat_sheet/pow_doc2.jpg)\n"
   ]
  },
  {
   "cell_type": "code",
   "execution_count": null,
   "id": "3151bd85",
   "metadata": {},
   "outputs": [],
   "source": []
  }
 ],
 "metadata": {
  "kernelspec": {
   "display_name": "Python 3",
   "language": "python",
   "name": "python3"
  },
  "language_info": {
   "codemirror_mode": {
    "name": "ipython",
    "version": 3
   },
   "file_extension": ".py",
   "mimetype": "text/x-python",
   "name": "python",
   "nbconvert_exporter": "python",
   "pygments_lexer": "ipython3",
   "version": "3.8.8"
  }
 },
 "nbformat": 4,
 "nbformat_minor": 5
}
