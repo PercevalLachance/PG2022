{
 "cells": [
  {
   "cell_type": "markdown",
   "metadata": {},
   "source": [
    "# Séance 2 - Exercices\n",
    "\n",
    "- Avant de faire les exercices suivants, assurez-vous d'avoir bien assimilé la matière présentée en cours.\n",
    "- Il est possible que votre solution soit différente de celle d'un(e) collègue ou de l'enseignant(e).\n",
    "- __Attention__: avant de vous lancer dans l'écriture du code, prenez quelques minutes pour réfléchir à la façon dont vous attaqueriez le problème, ce qui veut dire entre autres *quel* type de données vous utiliserez en fonction de ce que vous devez faire (et non pas choisir le premier type qui vous vienne à l'esprit).\n",
    "\n",
    "## Exercice 1 - Médiane\n",
    "- Déclarer une liste, `my_list`, et y stocker les valeurs suivantes: 4, 10, 3, 68, 15.\n",
    "- Afficher la valeur médiane de la liste, en émettant l'hypothèse suivante:\n",
    "    - La liste contient toujours 5 items.\n",
    "    \n",
    "- Si j'ajoute une valeur dans ma liste, suis-je capable de faire le même calcul?\n",
    "    - Comment devrais-je calculer ma valeur médiane?"
   ]
  },
  {
   "cell_type": "code",
   "execution_count": 4,
   "metadata": {},
   "outputs": [
    {
     "name": "stdout",
     "output_type": "stream",
     "text": [
      "The median is 10\n",
      "The median is 12.5\n"
     ]
    }
   ],
   "source": [
    "# Student way (1)\n",
    "\n",
    "# To calculate the median we need to import the statistics library\n",
    "import statistics\n",
    "\n",
    "my_list = [4, 10, 3, 68, 15]\n",
    "median = statistics.median(my_list)\n",
    "print(f\"The median is {median}\") \n",
    "\n",
    "# add value to list\n",
    "my_list.append(52)\n",
    "median = statistics.median(my_list)\n",
    "print(f\"The median is {median}\") "
   ]
  },
  {
   "cell_type": "code",
   "execution_count": 16,
   "metadata": {},
   "outputs": [
    {
     "name": "stdout",
     "output_type": "stream",
     "text": [
      "[4, 10, 3, 68, 15]\n",
      "[3, 4, 10, 15, 68]\n",
      "10\n",
      "[4, 10, 3, 68, 15, 35]\n",
      "[3, 4, 10, 15, 35, 68]\n",
      "12.5\n"
     ]
    }
   ],
   "source": [
    "# Teacher way (1)\n",
    "\n",
    "my_list = [4, 10, 3, 68, 15]\n",
    "print(my_list)\n",
    "print(sorted(my_list))\n",
    "print(sorted(my_list)[2])\n",
    "\n",
    "my_list = [4, 10, 3, 68, 15, 35]\n",
    "print(my_list)\n",
    "print(sorted(my_list))\n",
    "print((sorted(my_list)[2]+sorted(my_list)[3])/2)"
   ]
  },
  {
   "cell_type": "markdown",
   "metadata": {},
   "source": [
    "## Exercice 2 - String versus List\n",
    "- Déclarer une variable `my_text` et lui assigner la valeur suivante: \"J'aime le Python!\"\n",
    "- Bien qu'une `string` est techniquement un type de données différent d'une liste (__une string est immutable et ne contient que du texte__), on peut la manipuler de la même façon.\n",
    "- Afficher le premier caractère `my_text`.\n",
    "- Afficher les trois premiers caractères de `my_text`.\n",
    "- Afficher le dernier caractère de `my_text`.\n",
    "- Afficher les trois derniers caractères de `my_text`."
   ]
  },
  {
   "cell_type": "code",
   "execution_count": 17,
   "metadata": {},
   "outputs": [
    {
     "name": "stdout",
     "output_type": "stream",
     "text": [
      "17\n",
      "J\n",
      "J'a\n",
      "!\n",
      "on!\n"
     ]
    }
   ],
   "source": [
    "# Student way (2)\n",
    "\n",
    "my_text = \"J'aime le Python!\"\n",
    "print(len(my_text))\n",
    "print(my_text[:1])\n",
    "print(my_text[:3])\n",
    "print(my_text[-1])\n",
    "print(my_text[-3:])"
   ]
  },
  {
   "cell_type": "code",
   "execution_count": 4,
   "metadata": {},
   "outputs": [
    {
     "name": "stdout",
     "output_type": "stream",
     "text": [
      "premier caractère: J\n",
      "trois premiers caractères: J'a\n",
      "dernier caractère: !\n",
      "trois derniers caractères: on!\n"
     ]
    }
   ],
   "source": [
    "# Teacher way (2)\n",
    "# déclaration de la string\n",
    "my_text = \"J'aime le pyton!\"\n",
    "\n",
    "# le premier caractère\n",
    "print(\"premier caractère: {0}\".format(my_text[0]))\n",
    "\n",
    "# les trois premiers caractères \n",
    "print(\"trois premiers caractères: {0}\".format(my_text[0:3]))\n",
    "\n",
    "# le dernier caractère\n",
    "print(\"dernier caractère: {0}\".format(my_text[-1]))\n",
    "\n",
    "# les trois derniers caractères\n",
    "print(\"trois derniers caractères: {0}\".format(my_text[-3:]))"
   ]
  },
  {
   "cell_type": "markdown",
   "metadata": {},
   "source": [
    "## Exercice 3 - Cours suivis par des étudiants\n",
    "- Soient deux listes de noms d'étudiants ayant suivi deux cours différents:\n",
    "    - Pierre, Sophie, Jacques, Michel.\n",
    "    - Marie, Claude, Roger, Sophie.\n",
    "\n",
    "- Afficher les noms des étudiants ayant pris les deux cours.\n",
    "- L'étudiante Laurence a-t-elle pris l'un ou l'autre de ces cours?\n",
    "- Quel(s) étudiant(s) n'ont pris __que__ l'un ou l'autre de ces cours?\n",
    "- Afficher la liste complète des étudiants des deux cours."
   ]
  },
  {
   "cell_type": "code",
   "execution_count": 18,
   "metadata": {},
   "outputs": [
    {
     "name": "stdout",
     "output_type": "stream",
     "text": [
      "Afficher les noms des étudiants ayant pris les deux cours: {'Sophie'}\n",
      "L'étudiante Laurence a-t-elle pris un cours dans class_set: False\n",
      "L'étudiante Laurence a-t-elle pris un cours dans other_class_set: False\n",
      "L'étudiante Laurence a-t-elle pris un des deux cours: False\n",
      "Quel(s) étudiant(s) n'ont pris que l'un ou l'autre de ces cours: {'Jacques', 'Roger', 'Pierre', 'Claude', 'Marie', 'Michel'}\n",
      "Afficher la liste complète des étudiants des deux cours: {'Jacques', 'Roger', 'Pierre', 'Claude', 'Marie', 'Michel', 'Sophie'}\n"
     ]
    }
   ],
   "source": [
    "# Student way (3)\n",
    "\n",
    "class_set = {\"Pierre\", \"Sophie\", \"Jacques\", \"Michel\"}\n",
    "other_class_set = {\"Marie\", \"Claude\", \"Roger\", \"Sophie\"}\n",
    "\n",
    "# Afficher les noms des étudiants ayant pris les deux cours.\n",
    "print(f\"Afficher les noms des étudiants ayant pris les deux cours: {class_set.intersection(other_class_set)}\")\n",
    "\n",
    "# L'étudiante Laurence a-t-elle pris l'un ou l'autre de ces cours?\n",
    "laurence_class_set = \"Laurence\" in class_set\n",
    "laurence_other_class_set = \"Laurence\" in other_class_set\n",
    "laurence = \"Laurence\" in class_set.union(other_class_set)\n",
    "print(f\"L'étudiante Laurence a-t-elle pris un cours dans class_set: {laurence_class_set}\")\n",
    "print(f\"L'étudiante Laurence a-t-elle pris un cours dans other_class_set: {laurence_class_set}\")\n",
    "print(f\"L'étudiante Laurence a-t-elle pris un des deux cours: {laurence}\")\n",
    "# Quel(s) étudiant(s) n'ont pris que l'un ou l'autre de ces cours?\n",
    "print(f\"Quel(s) étudiant(s) n'ont pris que l'un ou l'autre de ces cours: {class_set.symmetric_difference(other_class_set)}\")\n",
    "\n",
    "#Afficher la liste complète des étudiants des deux cours.\n",
    "print(f\"Afficher la liste complète des étudiants des deux cours: {class_set.union(other_class_set)}\")\n"
   ]
  },
  {
   "cell_type": "code",
   "execution_count": 3,
   "metadata": {},
   "outputs": [
    {
     "name": "stdout",
     "output_type": "stream",
     "text": [
      "Personnes ayant suivi les deux cours: {'Sophie'}\n",
      "Laurence a-t-elle suivi l'un ou l'autre de ces cours? False\n",
      "Personnes ayant suivi seulement l'un des deux cours: {'Roger', 'Michel', 'Pierre', 'Marie', 'Jacques', 'Claude'}\n",
      "Liste complète des étudiants: {'Roger', 'Michel', 'Pierre', 'Sophie', 'Marie', 'Jacques', 'Claude'}\n"
     ]
    }
   ],
   "source": [
    "# Teacher way (3)\n",
    "# première liste, déclarée comme un set.\n",
    "first_set = {\"Pierre\", \"Sophie\", \"Jacques\", \"Michel\"}\n",
    "# deuxième, déclarée aussi comme un set.\n",
    "second_set = {\"Marie\", \"Claude\", \"Roger\", \"Sophie\"}\n",
    "\n",
    "# personnes ayant pris les deux cours\n",
    "print(\"Personnes ayant suivi les deux cours: {0}\".format(first_set.intersection(second_set)))\n",
    "\n",
    "# laurence a-t-elle suivi l'un l'autre des cours?\n",
    "print(\"Laurence a-t-elle suivi l'un ou l'autre de ces cours? {0}\".format((\"laurence\" in first_set) or (\"laurence\" in second_set)))\n",
    "\n",
    "# étudiants ayant pris seulement l'un des deux cours.\n",
    "print(\"Personnes ayant suivi seulement l'un des deux cours: {0}\".format(first_set.symmetric_difference(second_set)))\n",
    "\n",
    "# liste complète. \n",
    "# comme on a un set, Sophie n'apparaît q'une seule fois.\n",
    "print(\"Liste complète des étudiants: {0}\".format(first_set.union(second_set)))"
   ]
  },
  {
   "cell_type": "markdown",
   "metadata": {},
   "source": [
    "## Exercice 4 - Valeurs dupliquées\n",
    "- Lire le contenu du fichier `student_list.txt` dans une séquence. Ce fichier contient une liste de noms (un nom par ligne). Pour lire le contenu des lignes du fichier dans une liste (soit, 1 item == 1 ligne du fichier), référez-vous à la __[documentation](https://www.w3schools.com/python/ref_file_readlines.asp)__].\n",
    "- Afficher le nombre de valeurs uniques contenues dans le fichier en formattant le message suivant: \"Nombre de noms: x; nombre de noms uniques: y\" en remplaçant x et y par les valeurs adéquates.\n",
    "- __Attention__: La solution ne doit pas faire itérer sur la ou les séquences que vous utilisez."
   ]
  },
  {
   "cell_type": "code",
   "execution_count": 2,
   "metadata": {},
   "outputs": [
    {
     "name": "stdout",
     "output_type": "stream",
     "text": [
      "['gregory\\n', 'gilbert\\n', 'bogdan\\n', 'michel\\n', 'pierre\\n', 'paul\\n', 'michel\\n', 'robert']\n",
      "Nombre de noms: 8; nombre de noms uniques: 7\n"
     ]
    }
   ],
   "source": [
    "# Student way (4)\n",
    "\n",
    "# Lire le contenu du fichier student_list.txt dans une séquence\n",
    "student_file = open(\"student_list.txt\", \"r\")\n",
    "print(student_file.readlines())\n",
    "\n",
    "names_count = ['gregory\\n', 'gilbert\\n', 'bogdan\\n', 'michel\\n', 'pierre\\n', 'paul\\n', 'michel\\n', 'robert']\n",
    "unique_names_count = ['gregory\\n', 'gilbert\\n', 'bogdan\\n', 'michel\\n', 'pierre\\n', 'paul\\n', 'robert']\n",
    "\n",
    "# Afficher le nombre de valeurs uniques contenues dans le fichier \n",
    "print(f\"Nombre de noms: {len(names_count)}; nombre de noms uniques: {len(unique_names_count)}\")\n"
   ]
  },
  {
   "cell_type": "code",
   "execution_count": null,
   "metadata": {},
   "outputs": [],
   "source": [
    "# Teacher way (4)\n",
    "names_set = set()\n",
    "with open(\"student_list.txt\", \"r\") as file:\n",
    "    names = file.readlines()\n",
    "\n",
    "print(\"Nombre de noms: {0}; nombre de noms uniques: {1}\".format(len(names), len(set(names))))"
   ]
  },
  {
   "cell_type": "markdown",
   "metadata": {},
   "source": [
    "## Exercice 5 - Évaluations d'étudiants\n",
    "- Écrire un programme pour stocker les notes des étudiants du cours de programmation dans une variable `notes`.\n",
    "- Voici la liste des étudiants ainsi que les notes obtenues à chacun des 3 devoirs du cours.\n",
    "    - Gregory: 55, 65, 80.\n",
    "    - Gilbert: 80, 90, 100.\n",
    "    - Bogdan: 70, 65, 95.\n",
    "- Afficher, pour chaque étudiant, les notes obtenues."
   ]
  },
  {
   "cell_type": "code",
   "execution_count": 13,
   "metadata": {},
   "outputs": [
    {
     "name": "stdout",
     "output_type": "stream",
     "text": [
      "Gregory got for his homeworks:55%, 65%, 80%.\n",
      "Gilbert got for his homeworks:80%, 90%, 100%.\n",
      "Bogdan got for his homeworks:70%, 65%, 95%.\n"
     ]
    }
   ],
   "source": [
    "# Student way (5)\n",
    "data = [\n",
    "    [\"Gregory\", [55, 65, 80]],\n",
    "    [\"Gilbert\", [80, 90, 100]],\n",
    "    [\"Bogdan\", [70, 65, 95]],\n",
    "]\n",
    "for name, notes in data:\n",
    "    notes_str = \"{}%, {}%, {}%\".format(*notes)\n",
    "    print(f\"{name} got for his homeworks:{notes_str}.\")"
   ]
  },
  {
   "cell_type": "code",
   "execution_count": 2,
   "metadata": {},
   "outputs": [
    {
     "name": "stdout",
     "output_type": "stream",
     "text": [
      "Étudiant Gregory - notes: [55, 65, 80]\n",
      "Étudiant Gilbert - notes: [80, 90, 100]\n",
      "Étudiant Bogdan - notes: [70, 65, 95]\n"
     ]
    }
   ],
   "source": [
    "# Teacher way (5)\n",
    "# ici on va créer un dictionnaire qui contient non pas \n",
    "# une valeur scalaire mais une liste comme items\n",
    "\n",
    "# créons-le vide tout d'abord\n",
    "notes = {}\n",
    "\n",
    "# maintenant, entrons les prénoms des étudiants et les valueurs numeriques dans le dictionnaire 'notes'\n",
    "notes['Gregory'] = [55, 65, 80]\n",
    "notes['Gilbert'] = [80, 90, 100]\n",
    "notes['Bogdan'] = [70, 65, 95]\n",
    "\n",
    "# ici on itère... pour chaque clé 'etudiant' dans le dictionnaire 'notes' affiche 1) la clé et 2) les valeurs de la clé\n",
    "for etudiant in notes:\n",
    "    print(\"Étudiant {0} - notes: {1}\".format(etudiant, notes[etudiant]))"
   ]
  },
  {
   "cell_type": "markdown",
   "metadata": {},
   "source": [
    "## Exercice 6 - Évaluations d'étudiants - v2\n",
    "- Reprendre le programme de l'exercice 5 en simplifiant la lecture des notes pour accéder en même temps aux listes des étudiants et des notes.\n",
    "- Afficher, pour chaque étudiant, les notes obtenues. Pour otenir de l'aide, consulter la __[documentation](https://docs.Python.org/3/tutorial/datastructures.html?highlight=looping%20techniques#looping-techniques)__"
   ]
  },
  {
   "cell_type": "code",
   "execution_count": 5,
   "metadata": {},
   "outputs": [
    {
     "name": "stdout",
     "output_type": "stream",
     "text": [
      "Gregory got for his homework 55%, 65%, 80%.\n",
      "Gilbert got for his homework 80%, 90%, 100%.\n",
      "Bogdan got for his homework 70%, 65%, 95%.\n"
     ]
    }
   ],
   "source": [
    "# Student way (6)\n",
    "\n",
    "student = [\"Gregory\", \"Gilbert\", \"Bogdan\"]\n",
    "grades = [\"55%, 65%, 80%\", \"80%, 90%, 100%\", \"70%, 65%, 95%\"]\n",
    "\n",
    "for s, g in zip(student, grades):\n",
    "    print(\"{0} got for his homework {1}.\".format(s, g))"
   ]
  },
  {
   "cell_type": "code",
   "execution_count": 1,
   "metadata": {},
   "outputs": [
    {
     "name": "stdout",
     "output_type": "stream",
     "text": [
      "Étudiant Gregory - notes: [55, 65, 80]\n",
      "Étudiant Gilbert - notes: [80, 90, 100]\n",
      "Étudiant Bogdan - notes: [70, 65, 95]\n"
     ]
    }
   ],
   "source": [
    "# Teacher way (6) \n",
    "# création du dictionnaire\n",
    "notes = {}\n",
    "\n",
    "# maintenant, entrons les étudiants et les notes\n",
    "notes['Gregory'] = [55, 65, 80]\n",
    "notes['Gilbert'] = [80, 90, 100]\n",
    "notes['Bogdan'] = [70, 65, 95]\n",
    "\n",
    "# on va chercher la clé et la valeur en même temps (plus pratique et plus rapide!)\n",
    "for etudiant, liste_notes in notes.items():\n",
    "    print(\"Étudiant {0} - notes: {1}\".format(etudiant, liste_notes))"
   ]
  }
 ],
 "metadata": {
  "kernelspec": {
   "display_name": "Python 3 (ipykernel)",
   "language": "python",
   "name": "python3"
  },
  "language_info": {
   "codemirror_mode": {
    "name": "ipython",
    "version": 3
   },
   "file_extension": ".py",
   "mimetype": "text/x-python",
   "name": "python",
   "nbconvert_exporter": "python",
   "pygments_lexer": "ipython3",
   "version": "3.9.7"
  }
 },
 "nbformat": 4,
 "nbformat_minor": 2
}
