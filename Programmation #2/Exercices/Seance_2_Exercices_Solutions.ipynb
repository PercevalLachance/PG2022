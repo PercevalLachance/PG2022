{
 "cells": [
  {
   "cell_type": "markdown",
   "metadata": {},
   "source": [
    "# Séance 2 - Solutions aux exercices\n",
    "\n",
    "## Exercice 1"
   ]
  },
  {
   "cell_type": "code",
   "execution_count": 1,
   "metadata": {},
   "outputs": [
    {
     "name": "stdout",
     "output_type": "stream",
     "text": [
      "Valeur médiane de la liste à 5 items: 10\n"
     ]
    }
   ],
   "source": [
    "# on déclare une liste\n",
    "my_list = [4, 10, 3, 68, 15]\n",
    "\n",
    "# pour trouver la médiane, on prend la troisième valeur.\n",
    "# mais avant il faut trier la liste par ordre ascendant.\n",
    "my_list.sort()\n",
    "print(\"Valeur médiane de la liste à 5 items: {0}\".format(my_list[2]))"
   ]
  },
  {
   "cell_type": "markdown",
   "metadata": {},
   "source": [
    "## Exercice 2"
   ]
  },
  {
   "cell_type": "code",
   "execution_count": 2,
   "metadata": {},
   "outputs": [
    {
     "name": "stdout",
     "output_type": "stream",
     "text": [
      "premier caractère: J\n",
      "trois premiers caractères: J'a\n",
      "dernier caractère: !\n",
      "trois derniers caractères: on!\n"
     ]
    }
   ],
   "source": [
    "# déclaration de la string\n",
    "my_text = \"J'aime le pyton!\"\n",
    "\n",
    "# le premier caractère\n",
    "print(\"premier caractère: {0}\".format(my_text[0]))\n",
    "\n",
    "# les trois premiers caractères \n",
    "print(\"trois premiers caractères: {0}\".format(my_text[0:3]))\n",
    "\n",
    "# le dernier caractère\n",
    "print(\"dernier caractère: {0}\".format(my_text[-1]))\n",
    "\n",
    "# les trois derniers caractères\n",
    "print(\"trois derniers caractères: {0}\".format(my_text[-3:]))"
   ]
  },
  {
   "cell_type": "markdown",
   "metadata": {},
   "source": [
    "## Exercice 3"
   ]
  },
  {
   "cell_type": "code",
   "execution_count": 3,
   "metadata": {},
   "outputs": [
    {
     "name": "stdout",
     "output_type": "stream",
     "text": [
      "Personnes ayant suivi les deux cours: {'Sophie'}\n",
      "Laurence a-t-elle suivi l'un ou l'autre de ces cours? False\n",
      "Personnes ayant suivi seulement l'un des deux cours: {'Jacques', 'Roger', 'Marie', 'Pierre', 'Claude', 'Michel'}\n",
      "Liste complète des étudiants: {'Sophie', 'Jacques', 'Roger', 'Marie', 'Pierre', 'Claude', 'Michel'}\n"
     ]
    }
   ],
   "source": [
    "# première liste, déclarée comme un set.\n",
    "first_set = {\"Pierre\", \"Sophie\", \"Jacques\", \"Michel\"}\n",
    "# deuxième, déclarée aussi comme un set.\n",
    "second_set = {\"Marie\", \"Claude\", \"Roger\", \"Sophie\"}\n",
    "\n",
    "# personnes ayant pris les deux cours\n",
    "print(\"Personnes ayant suivi les deux cours: {0}\".format(first_set.intersection(second_set)))\n",
    "\n",
    "# laurence a-t-elle suivi l'un l'autre des cours?\n",
    "print(\"Laurence a-t-elle suivi l'un ou l'autre de ces cours? {0}\".format((\"laurence\" in first_set) or (\"laurence\" in second_set)))\n",
    "\n",
    "# étudiants ayant pris seulement l'un des deux cours.\n",
    "print(\"Personnes ayant suivi seulement l'un des deux cours: {0}\".format(first_set.symmetric_difference(second_set)))\n",
    "\n",
    "# liste complète. \n",
    "# comme on a un set, Sophie n'apparaît q'une seule fois.\n",
    "print(\"Liste complète des étudiants: {0}\".format(first_set.union(second_set)))"
   ]
  },
  {
   "cell_type": "markdown",
   "metadata": {},
   "source": [
    "## Exercice 4"
   ]
  },
  {
   "cell_type": "code",
   "execution_count": 1,
   "metadata": {},
   "outputs": [
    {
     "name": "stdout",
     "output_type": "stream",
     "text": [
      "Nombre de noms: 8; nombre de noms uniques: 7\n"
     ]
    }
   ],
   "source": [
    "# ici, on pourrait choisir différents types de séquences.\n",
    "# on va d'abord lire notre liste de noms dans une liste.\n",
    "# par contre une liste permet les valeurs dupliquées.\n",
    "names_set = set()\n",
    "with open(\"student_list.txt\", \"r\") as file:\n",
    "    # liste unique, on la déclare directement\n",
    "    names = file.readlines()\n",
    "\n",
    "# on va donc convertir notre liste en set\n",
    "# pour enlever les valeurs dupliqués automatiquement.\n",
    "names_set = set(names)\n",
    "print(\"Nombre de noms: {0}; nombre de noms uniques: {1}\".format(len(names), len(names_set)))"
   ]
  },
  {
   "cell_type": "code",
   "execution_count": 5,
   "metadata": {},
   "outputs": [
    {
     "name": "stdout",
     "output_type": "stream",
     "text": [
      "Nombre de noms: 8; nombre de noms uniques: 7\n"
     ]
    }
   ],
   "source": [
    "# la même solution mais en un peu plus court.\n",
    "# avec cette façon de faire, on n'a pas besoin de déclarer\n",
    "# le set (pratique si on ne va pas l'utiliser ensuite).\n",
    "names_set = set()\n",
    "with open(\"student_list.txt\", \"r\") as file:\n",
    "    names = file.readlines()\n",
    "\n",
    "print(\"Nombre de noms: {0}; nombre de noms uniques: {1}\".format(len(names), len(set(names))))"
   ]
  },
  {
   "cell_type": "markdown",
   "metadata": {},
   "source": [
    "## Exercice 5"
   ]
  },
  {
   "cell_type": "code",
   "execution_count": 1,
   "metadata": {},
   "outputs": [
    {
     "name": "stdout",
     "output_type": "stream",
     "text": [
      "Étudiant Gregory - notes: [55, 65, 80]\n",
      "Étudiant Gilbert - notes: [80, 90, 100]\n",
      "Étudiant Bogdan - notes: [70, 65, 95]\n"
     ]
    }
   ],
   "source": [
    "# ici on va créer un dictionnaire qui contient non pas \n",
    "# une valeur scalaire mais une liste comme items\n",
    "\n",
    "# créons-le vide tout d'abord\n",
    "notes = {}\n",
    "\n",
    "# maintenant, entrons les prénoms des étudiants et les valueurs numeriques dans le dictionnaire 'notes'\n",
    "notes['Gregory'] = [55, 65, 80]\n",
    "notes['Gilbert'] = [80, 90, 100]\n",
    "notes['Bogdan'] = [70, 65, 95]\n",
    "\n",
    "# ici on itère... pour chaque clé 'etudiant' dans le dictionnaire 'notes' affiche 1) la clé et 2) les valeurs de la clé\n",
    "for etudiant in notes:\n",
    "    print(\"Étudiant {0} - notes: {1}\".format(etudiant, notes[etudiant]))"
   ]
  },
  {
   "cell_type": "markdown",
   "metadata": {},
   "source": [
    "## Exercice 6"
   ]
  },
  {
   "cell_type": "code",
   "execution_count": 1,
   "metadata": {},
   "outputs": [
    {
     "name": "stdout",
     "output_type": "stream",
     "text": [
      "Étudiant Gregory - notes: [55, 65, 80]\n",
      "Étudiant Gilbert - notes: [80, 90, 100]\n",
      "Étudiant Bogdan - notes: [70, 65, 95]\n"
     ]
    }
   ],
   "source": [
    "# création du dictionnaire\n",
    "notes = {}\n",
    "\n",
    "# maintenant, entrons les étudiants et les notes\n",
    "notes['Gregory'] = [55, 65, 80]\n",
    "notes['Gilbert'] = [80, 90, 100]\n",
    "notes['Bogdan'] = [70, 65, 95]\n",
    "\n",
    "# on va chercher la clé et la valeur en même temps (plus pratique et plus rapide!)\n",
    "for etudiant, liste_notes in notes.items():\n",
    "    print(\"Étudiant {0} - notes: {1}\".format(etudiant, liste_notes))"
   ]
  },
  {
   "cell_type": "code",
   "execution_count": null,
   "metadata": {},
   "outputs": [],
   "source": []
  }
 ],
 "metadata": {
  "kernelspec": {
   "display_name": "Python 3 (ipykernel)",
   "language": "python",
   "name": "python3"
  },
  "language_info": {
   "codemirror_mode": {
    "name": "ipython",
    "version": 3
   },
   "file_extension": ".py",
   "mimetype": "text/x-python",
   "name": "python",
   "nbconvert_exporter": "python",
   "pygments_lexer": "ipython3",
   "version": "3.9.7"
  }
 },
 "nbformat": 4,
 "nbformat_minor": 2
}
