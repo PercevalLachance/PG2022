{
 "cells": [
  {
   "cell_type": "markdown",
   "metadata": {},
   "source": [
    "# Séance 1 - Solutions aux exercices\n",
    "\n",
    "## Exercice 1"
   ]
  },
  {
   "cell_type": "code",
   "execution_count": 1,
   "metadata": {},
   "outputs": [
    {
     "name": "stdout",
     "output_type": "stream",
     "text": [
      "-4.0\n",
      "-20.0 degrés Celsius font -4.0 degrés Fahrenheit\n"
     ]
    }
   ],
   "source": [
    "# calcul\n",
    "temperature_celsius = -20.0\n",
    "temperature_fahrenheit = temperature_celsius * 1.8 + 32\n",
    "\n",
    "# affichage brut\n",
    "print(temperature_fahrenheit)\n",
    "\n",
    "# affichage tel que requis\n",
    "print(\"{0} degrés Celsius font {1} degrés Fahrenheit\".format(temperature_celsius, temperature_fahrenheit))"
   ]
  },
  {
   "cell_type": "markdown",
   "metadata": {},
   "source": [
    "## Exercice 2"
   ]
  },
  {
   "cell_type": "code",
   "execution_count": 1,
   "metadata": {},
   "outputs": [
    {
     "name": "stdout",
     "output_type": "stream",
     "text": [
      "un cercle de rayon 5 a pour aire 78.53981633974483\n"
     ]
    }
   ],
   "source": [
    "# importation du module de math de Python\n",
    "import math\n",
    "\n",
    "# déclaration du rayon\n",
    "rayon = 5\n",
    "\n",
    "# calcul de l'aire\n",
    "aire = math.pi * rayon * rayon\n",
    "\n",
    "# affichage tel que requis\n",
    "print(\"un cercle de rayon {0} a pour aire {1}\".format(rayon, aire))"
   ]
  },
  {
   "cell_type": "markdown",
   "metadata": {},
   "source": [
    "## Exercice 3"
   ]
  },
  {
   "cell_type": "code",
   "execution_count": 2,
   "metadata": {},
   "outputs": [
    {
     "name": "stdout",
     "output_type": "stream",
     "text": [
      "un cercle de rayon 5 a pour aire 78.53981633974483\n",
      "un cercle de rayon 5 a pour aire 78.53981633974483\n"
     ]
    }
   ],
   "source": [
    "# importation du module de math de Python\n",
    "import math\n",
    "\n",
    "# déclaration du rayon\n",
    "rayon = 5\n",
    "\n",
    "# calcul de l'aire\n",
    "aire = math.pi * rayon**2\n",
    "\n",
    "# affichage tel que requis\n",
    "print(\"un cercle de rayon {0} a pour aire {1}\".format(rayon, aire))\n",
    "\n",
    "# une autre façon que l'on peut trouver dans la documentation, disponible dans le module math\n",
    "# cf. https://docs.Python.org/3.7/library/math.html#power-and-logarithmic-functions\n",
    "aire = math.pi * math.pow(rayon, 2)\n",
    "print(\"un cercle de rayon {0} a pour aire {1}\".format(rayon, aire))"
   ]
  },
  {
   "cell_type": "markdown",
   "metadata": {},
   "source": [
    "## Exercice 4"
   ]
  },
  {
   "cell_type": "code",
   "execution_count": 3,
   "metadata": {},
   "outputs": [
    {
     "name": "stdout",
     "output_type": "stream",
     "text": [
      "Que donne -12 au carré? 144\n",
      "True\n",
      "True\n"
     ]
    }
   ],
   "source": [
    "# calcul de base\n",
    "racine = -12\n",
    "calcul = racine**2\n",
    "user_input = input(\"Que donne {0} au carré? \".format(racine))\n",
    "\n",
    "# attention au signe d'égalité ainsi qu'à la conversion requise de user_input en int()\n",
    "print(calcul == int(user_input))\n",
    "\n",
    "# ceci marche aussi, mais fait moins de sens vu qu'on parle de calculs mathématiques ici\n",
    "print(str(calcul) == user_input)"
   ]
  },
  {
   "cell_type": "markdown",
   "metadata": {},
   "source": [
    "## Exercice 5"
   ]
  },
  {
   "cell_type": "code",
   "execution_count": 4,
   "metadata": {},
   "outputs": [
    {
     "name": "stdout",
     "output_type": "stream",
     "text": [
      "9\n",
      "Tour #1 - devinez un nombre entre 1 et 15: 5\n",
      "Tour #2 - devinez un nombre entre 1 et 15: 4\n",
      "Tour #3 - devinez un nombre entre 1 et 15: 3\n",
      "Séquence de jeu. Aviez-vous gagné?\n",
      "Choix 5 - résultat False\n",
      "Choix 4 - résultat False\n",
      "Choix 3 - résultat False\n",
      "Choix de l'ordinateur: 9\n"
     ]
    }
   ],
   "source": [
    "# import du module pour le générateur de nombre aléatoire\n",
    "import random\n",
    "\n",
    "# génération du nombre aléatoire entre 1 et 15\n",
    "random_number = random.randrange(1,16,1)\n",
    "\n",
    "print(random_number)\n",
    "\n",
    "# attention: dans chaque séquence d'écriture, on ajoute \\n pour \n",
    "# passer à la ligne suivante lors de la prochaine écriture.\n",
    "\n",
    "# premier essai\n",
    "guess = input(\"Tour #1 - devinez un nombre entre 1 et 15: \")\n",
    "with open(\"jeu_nombre.txt\",\"w\") as text_file:\n",
    "    # on aurait pu faire la comparaison directement dans le message\n",
    "    # ici on décompose pour faire plus simple mais dans les deux \n",
    "    # autres essais, on le fait\n",
    "    result = (int(guess) == random_number)\n",
    "    text_file.write(\"Choix {0} - résultat {1}\\n\".format(guess, result))\n",
    "                    \n",
    "# deuxième essai\n",
    "guess = input(\"Tour #2 - devinez un nombre entre 1 et 15: \")\n",
    "with open(\"jeu_nombre.txt\",\"a\") as text_file:    \n",
    "    text_file.write(\"Choix {0} - résultat {1}\\n\".format(guess, int(guess) == random_number))             \n",
    "    \n",
    "# troisième essai\n",
    "guess = input(\"Tour #3 - devinez un nombre entre 1 et 15: \")\n",
    "with open(\"jeu_nombre.txt\",\"a\") as text_file:\n",
    "    text_file.write(\"Choix {0} - résultat {1}\\n\".format(guess, (int(guess) == random_number)))\n",
    "\n",
    "# maintenant on écrit le résultat dans le fichier texte\n",
    "with open(\"jeu_nombre.txt\",\"a\") as text_file:\n",
    "    text_file.write(\"Choix de l'ordinateur: {0}\".format(random_number))\n",
    "                    \n",
    "# on lit le fichier texte pour afficher la séquence de jeu\n",
    "print(\"Séquence de jeu. Aviez-vous gagné?\")                    \n",
    "with open(\"jeu_nombre.txt\",\"r\") as text_file:\n",
    "    print(text_file.read())                    "
   ]
  },
  {
   "cell_type": "code",
   "execution_count": null,
   "metadata": {},
   "outputs": [],
   "source": []
  }
 ],
 "metadata": {
  "kernelspec": {
   "display_name": "Python 3",
   "language": "python",
   "name": "python3"
  },
  "language_info": {
   "codemirror_mode": {
    "name": "ipython",
    "version": 3
   },
   "file_extension": ".py",
   "mimetype": "text/x-python",
   "name": "python",
   "nbconvert_exporter": "python",
   "pygments_lexer": "ipython3",
   "version": "3.8.8"
  }
 },
 "nbformat": 4,
 "nbformat_minor": 2
}
