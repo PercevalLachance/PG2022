{
 "cells": [
  {
   "cell_type": "markdown",
   "metadata": {},
   "source": [
    "# Quelques erreurs communes\n",
    "- La programmation requiert de la précision. Il faut toujours que nous disions très clairement à l'ordinateur ce que nous voulons faire.\n",
    "- Dans les exemples ci-dessous, nous allons voir quelques erreurs communes."
   ]
  },
  {
   "cell_type": "code",
   "execution_count": 1,
   "metadata": {},
   "outputs": [
    {
     "name": "stdout",
     "output_type": "stream",
     "text": [
      "2\n",
      "ma variable ma_variable a pour valeur 2\n",
      "my_variable\n",
      "ma variable my_variable a pour nom my_variable\n"
     ]
    }
   ],
   "source": [
    "# déclarons une variable que l'on appellera my_variable et donnons-lui la valeur 2.\n",
    "my_variable = 2\n",
    "\n",
    "# affichage de base\n",
    "print(my_variable)\n",
    "\n",
    "# affichage formatté dans un message\n",
    "print(\"ma variable ma_variable a pour valeur {0}\".format(my_variable))\n",
    "\n",
    "# notez ici les guillemets dans format() qui nous font traiter ma_variable non plus\n",
    "# commune variable mais comme une chaîne de caractères (string)\n",
    "print(\"my_variable\")\n",
    "print(\"ma variable my_variable a pour nom {0}\".format(\"my_variable\"))"
   ]
  },
  {
   "cell_type": "markdown",
   "metadata": {},
   "source": [
    "# Ça fait beaucoup de parenthèses!\n",
    "- En Python, comme en arithmétique, l'ordre dans lequel on indique les paramètres et valeurs a de l'importance.\n",
    "- Pour indiquer cet ordre de précédence, on utilise les parenthèses.\n",
    "- Dans l'exemple ci-dessous, nous reprenons notre variable my_variable. Il est inutile de la redéclarer puisque dans un même notebook, les variables sont accessibles d'une cellule à l'autre.\n",
    "    - Tout ce qui se trouve entre les parenthèses qui suivent un `print` va être affiché.\n",
    "    - À notre message de base, \"ma variable my_variable a pour nom {0}\", nous allons appliquer la fonction `format()` à l'aide d'un point, `.` qui indique qu'on applique une fonction à un objet (ici, une variable de type `string`). De plus, dans la fonction format, on passe la chaîne de caractères \"my_variable\" (__attention__ il ne s'agit pas ici de la __valeur__ de ma variable my_variable).\n",
    "- On peut mettre des espaces entre les parenthèses pour rendre le code plus lisible si on veut (deuxième exemple)."
   ]
  },
  {
   "cell_type": "code",
   "execution_count": 5,
   "metadata": {},
   "outputs": [
    {
     "name": "stdout",
     "output_type": "stream",
     "text": [
      "ma variable my_variable a pour nom my_variable\n",
      "ma variable my_variable a pour nom my_variable\n",
      "ma variable my_variable a pour nom my_variable\n"
     ]
    }
   ],
   "source": [
    "print(\"ma variable my_variable a pour nom {0}\".format(\"my_variable\"))\n",
    "# le même code, plus espacé\n",
    "print( \"ma variable my_variable a pour nom {0}\".format( \"my_variable\" ) )\n",
    "\n",
    "messageTemplate = \"ma variable my_variable a pour nom {0}\"\n",
    "messageFormate = messageTemplate.format(\"my_variable\")\n",
    "print(messageFormate)"
   ]
  },
  {
   "cell_type": "markdown",
   "metadata": {},
   "source": [
    "# Égalité et comparaisons\n",
    "- En programmation, on utilise le symbole `=` pour faire deux choses:    \n",
    "    - Assigner une value à une variable (`=`).\n",
    "    - Comparer des expressions (`==`). Ce symbole sera notamment très utile lorsque nous voudrons faire des conditions.\n",
    "- On peut aussi comparer le *type* de deux variables (`is`).\n",
    "- Les exemples ci-dessous vont illustrer cette différence qui jouera souvent des tours lorsque l'on programme."
   ]
  },
  {
   "cell_type": "code",
   "execution_count": 4,
   "metadata": {},
   "outputs": [
    {
     "name": "stdout",
     "output_type": "stream",
     "text": [
      "5\n",
      "False\n",
      "<class 'bool'>\n",
      "True\n",
      "True\n",
      "False\n"
     ]
    }
   ],
   "source": [
    "# assignation de valeur\n",
    "a = 5\n",
    "print(a)\n",
    "\n",
    "# comparaison de valeur\n",
    "print(a == 6)\n",
    "print(type(a == 5)) # bool is a value that is true or false\n",
    "print(a == 5)\n",
    "\n",
    "# comparaison de type\n",
    "print(type(a) is int)\n",
    "print(type(a) is str)"
   ]
  },
  {
   "cell_type": "markdown",
   "metadata": {},
   "source": [
    "## Exercices à faire\n",
    "- Exercice 1.\n",
    "- Exercice 2.\n",
    "- Exercice 3.\n",
    "- Exercice 4."
   ]
  },
  {
   "cell_type": "code",
   "execution_count": null,
   "metadata": {},
   "outputs": [],
   "source": []
  }
 ],
 "metadata": {
  "kernelspec": {
   "display_name": "Python 3 (ipykernel)",
   "language": "python",
   "name": "python3"
  },
  "language_info": {
   "codemirror_mode": {
    "name": "ipython",
    "version": 3
   },
   "file_extension": ".py",
   "mimetype": "text/x-python",
   "name": "python",
   "nbconvert_exporter": "python",
   "pygments_lexer": "ipython3",
   "version": "3.9.7"
  }
 },
 "nbformat": 4,
 "nbformat_minor": 2
}
