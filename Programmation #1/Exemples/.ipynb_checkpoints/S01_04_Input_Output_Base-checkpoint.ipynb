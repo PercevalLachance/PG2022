{
 "cells": [
  {
   "cell_type": "markdown",
   "metadata": {},
   "source": [
    "# Travailler avec le Input/Output (I/O) - entrées et sorties\n",
    "- En programmation, on a souvent besoin de récupérer des informations que l'on va traiter. Il peut s'agir par exemple de:\n",
    "    - demander à l'utilisateur son nom, son âge, etc.\n",
    "    - lire un fichier sur le disque dur de l'ordinateur.\n",
    "    - récupérer des informations sur internet (par exemple, afficher la température extérieure en allant la lire sur un site de météo).\n",
    "- Ces opérations sont des opérations dites d'__input__.\n",
    "\n",
    "- En programmation, on a aussi souvent besoin de faire ressortir des informations traitées. Par exemple:\n",
    "    - Afficher du texte.\n",
    "    - Sauvegarder des données dans un fichier.\n",
    "    - Envoyer des informations sur internet.\n",
    "- Ces opérations sont des opérations dites d'__output__.\n",
    "\n",
    "- Pour le moment, nous allons nous concentrer sur les deux premiers types. Plus tard, nous verrons comment communiquer avec l'extérieur (via internet).\n",
    "\n",
    "## Input: demander de l'information à l'utilisateur\n",
    "- Imaginons que nous voulons demander son nom à l'utilisateur afin de lui dire bonjour.\n",
    "- La fonction `input()` nous permet de demander de l'information afin de la saisir dans une variable.\n",
    "- On affichera la même information de deux façons différentes. La première à l'aide de la fonction `format()` que nous avons déjà vue. La deuxième en joignant la première chaîne de caractères (notre message) à la deuxième à l'aide de l'opérateur `+`."
   ]
  },
  {
   "cell_type": "code",
   "execution_count": 3,
   "metadata": {},
   "outputs": [
    {
     "name": "stdout",
     "output_type": "stream",
     "text": [
      "Entrez votre nom: perceval lachance\n",
      "Bonjour perceval lachance!\n",
      "Bonjour perceval lachance!\n",
      "Bonjour perceval lachance!\n"
     ]
    }
   ],
   "source": [
    "# ici, on va demander le nom de l'utilisateur et stocker la valeur dans une variable appelée user_name.\n",
    "user_name = input(\"Entrez votre nom: \")\n",
    "print(\"Bonjour {0}!\".format(user_name))\n",
    "\n",
    "# la deuxième façon\n",
    "print(\"Bonjour \" + user_name + \"!\")\n",
    "\n",
    "# third way\n",
    "print(f\"Bonjour {user_name}!\")"
   ]
  },
  {
   "cell_type": "markdown",
   "metadata": {},
   "source": [
    "### Note: To `format()` or not to `format()`?\n",
    "- Comme on le voit ci-dessus, on peut formater notre message de différentes façons. On remarquera par contre que la deuxième façon est un peu plus complexe car on doit décortiquer le message en plusieurs morceaux alors qu'avec la première méthode, on écrit le message générique au complet et on ajoute les variables comme paramètres dans la fonction `format()`.\n",
    "\n",
    "#### Un autre exemple\n",
    "- Demandons maintenant l'âge de l'utilisateur pour l'afficher."
   ]
  },
  {
   "cell_type": "code",
   "execution_count": 3,
   "metadata": {},
   "outputs": [
    {
     "name": "stdout",
     "output_type": "stream",
     "text": [
      "Entrez votre âge Gilbert:56\n",
      "Bonjour Gilbert, vous avez 56 ans!\n"
     ]
    }
   ],
   "source": [
    "# ici, on demande l'âge.\n",
    "age = input(\"Entrez votre âge {0}:\".format(user_name))\n",
    "print(\"Bonjour {0}, vous avez {1} ans!\".format(user_name, age))"
   ]
  },
  {
   "cell_type": "markdown",
   "metadata": {},
   "source": [
    "- Demandons maintenant la même chose avec la deuxième méthode. Comme on le voit, le formatage commence à devenir plus compliqué."
   ]
  },
  {
   "cell_type": "code",
   "execution_count": 4,
   "metadata": {},
   "outputs": [
    {
     "name": "stdout",
     "output_type": "stream",
     "text": [
      "Entrez votre âge Gilbert:56\n",
      "Bonjour Gilbert, vous avez 56 ans!\n"
     ]
    }
   ],
   "source": [
    "age = input(\"Entrez votre âge {0}:\".format(user_name))\n",
    "print(\"Bonjour \" + user_name + \", vous avez \" + age + \" ans!\")"
   ]
  },
  {
   "cell_type": "markdown",
   "metadata": {},
   "source": [
    "## Output: afficher de l'information\n",
    "- Nous avons déjà vu la commande `print()` qui permet d'afficher de l'information à l'utilisateur.\n",
    "- On peut aussi demander à l'interpréteur Python de nous rapporter la valeur d'une variable, tout simplement en la nommant dans une commande."
   ]
  },
  {
   "cell_type": "code",
   "execution_count": 4,
   "metadata": {},
   "outputs": [
    {
     "name": "stdout",
     "output_type": "stream",
     "text": [
      "perceval lachance\n"
     ]
    },
    {
     "data": {
      "text/plain": [
       "'perceval lachance'"
      ]
     },
     "execution_count": 4,
     "metadata": {},
     "output_type": "execute_result"
    }
   ],
   "source": [
    "# afficher une valeur avec print()\n",
    "print(user_name)\n",
    "# afficher la valeur directement / souligne que c'est une str\n",
    "user_name"
   ]
  },
  {
   "cell_type": "markdown",
   "metadata": {},
   "source": [
    "Dans le code ci-dessus, on note que la commande `print()` __affiche__ la valeur pour l'utilisateur. La deuxième commande demande simplement à Python de nous __retourner__ la valeur de la variable. Cette dernière étant une chaîne de caractères, l'interpréteur Python l'encadre avec des guillemets simples (*quotes*)."
   ]
  },
  {
   "cell_type": "code",
   "execution_count": 22,
   "metadata": {},
   "outputs": [
    {
     "name": "stderr",
     "output_type": "stream",
     "text": [
      "salut asd\n",
      "salut asd\n",
      "salut asd\n",
      "salut asd\n",
      "salut asd\n",
      "salut asd\n",
      "salut asd\n",
      "salut asd\n",
      "salut asd\n"
     ]
    },
    {
     "data": {
      "text/plain": [
       "90"
      ]
     },
     "execution_count": 22,
     "metadata": {},
     "output_type": "execute_result"
    }
   ],
   "source": [
    "import sys, io\n",
    "\n",
    "output = io.StringIO()\n",
    "output.write(\"salut asd\\n\")\n",
    "output.write(\"salut asd\\n\")\n",
    "output.write(\"salut asd\\n\")\n",
    "output.write(\"salut asd\\n\")\n",
    "output.write(\"salut asd\\n\")\n",
    "output.write(\"salut asd\\n\")\n",
    "output.write(\"salut asd\\n\")\n",
    "output.write(\"salut asd\\n\")\n",
    "output.write(\"salut asd\\n\")\n",
    "\n",
    "sys.stderr.write(output.getvalue())"
   ]
  }
 ],
 "metadata": {
  "kernelspec": {
   "display_name": "Python 3 (ipykernel)",
   "language": "python",
   "name": "python3"
  },
  "language_info": {
   "codemirror_mode": {
    "name": "ipython",
    "version": 3
   },
   "file_extension": ".py",
   "mimetype": "text/x-python",
   "name": "python",
   "nbconvert_exporter": "python",
   "pygments_lexer": "ipython3",
   "version": "3.9.7"
  }
 },
 "nbformat": 4,
 "nbformat_minor": 2
}
