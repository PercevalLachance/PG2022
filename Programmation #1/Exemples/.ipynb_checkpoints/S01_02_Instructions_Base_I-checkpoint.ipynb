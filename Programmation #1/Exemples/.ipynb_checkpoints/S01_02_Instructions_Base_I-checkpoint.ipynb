{
 "cells": [
  {
   "cell_type": "markdown",
   "metadata": {},
   "source": [
    "# Premières instructions en Python\n",
    "- Maintenant que nos outils fonctionnent, nous allons commencer avec les bases du Python.\n",
    "- Chaque notebook contient des cellules de notes (comme celle-ci) ainsi que des cellules de code (ci-dessous)."
   ]
  },
  {
   "cell_type": "code",
   "execution_count": 1,
   "metadata": {},
   "outputs": [],
   "source": [
    "# ceci est une cellule de code Python. Un dièse au début d'une ligne indique un commentaire.\n",
    "# Un commentaire ne sera pas interprété par l'engin Python mais est très pratique pour nous!\n",
    "# donc cette cellule, si on l'exécute, ne fait absolument rien!\n",
    "\n",
    "# Ce que l'on marque n'est pas interprété par Python."
   ]
  },
  {
   "cell_type": "markdown",
   "metadata": {},
   "source": [
    "- En Python, on peut faire des opérations simples comme faire une opération mathématique.\n",
    "- Imaginons que je veuille calculer le montant de la taxe sur l'achat d'un produit de $10."
   ]
  },
  {
   "cell_type": "code",
   "execution_count": 6,
   "metadata": {},
   "outputs": [
    {
     "data": {
      "text/plain": [
       "11.4975"
      ]
     },
     "execution_count": 6,
     "metadata": {},
     "output_type": "execute_result"
    }
   ],
   "source": [
    "# ceci est une opération mathématique simple!\n",
    "10 + 10 * 0.05 + 10 * 0.09975"
   ]
  },
  {
   "cell_type": "markdown",
   "metadata": {},
   "source": [
    "## Déclarer une variable\n",
    "- Mais imaginons que je veuille plutôt faire la même opération en permettant au prix de base de l'article de changer.\n",
    "- Pour cela, je vais déclarer une __variable__, une sorte de boîte dans la mémoire de l'ordinateur, et je vais stocker le prix de mon article dedans. Je ferai ensuite référence à cette variable dans mon calcul.\n",
    "- Essayez avec des valeurs différentes.\n",
    "- Programmer de façon efficace, c'est réfléchir __avant__ pour économiser du temps __après__."
   ]
  },
  {
   "cell_type": "code",
   "execution_count": 2,
   "metadata": {},
   "outputs": [
    {
     "data": {
      "text/plain": [
       "11.4975"
      ]
     },
     "execution_count": 2,
     "metadata": {},
     "output_type": "execute_result"
    }
   ],
   "source": [
    "# Le même calcul, avec une variable\n",
    "x = 10\n",
    "x + x * 0.05 + x * 0.09975"
   ]
  },
  {
   "cell_type": "markdown",
   "metadata": {},
   "source": [
    "## Types de base des variables et données en Python\n",
    "- Chaque variable que l'on __déclare__ a un __type__ qui lui est associé. Un type n'est ni plus ni moins qu'une indication sur ce que peut contenir une variable parce qu'en programmation, tout n'est pas n'importe quoi, sinon ni nous ni l'ordinateur ne nous y retrouverions.\n",
    "- Dans la cellule ci-dessous, on crée différentes variables que l'on va ensuite afficher à l'aide de la commande (fonction) `print()` qui permet d'afficher des informations à l'écran. On va aussi utiliser la commande (fonction) `type()` pour demander à Python de nous dire quel type chaque variable a pour lui."
   ]
  },
  {
   "cell_type": "code",
   "execution_count": 11,
   "metadata": {},
   "outputs": [
    {
     "name": "stdout",
     "output_type": "stream",
     "text": [
      "10\n",
      "<class 'int'>\n",
      "du texte!\n",
      "<class 'str'>\n",
      "10.3\n",
      "<class 'float'>\n"
     ]
    }
   ],
   "source": [
    "# une première variable / integer / it's a whole number\n",
    "x = 10\n",
    "print(x)\n",
    "print(type(x))\n",
    "\n",
    "# une deuxième variable / string / to have some character\n",
    "y = \"du texte!\"\n",
    "print(y)\n",
    "print(type(y))\n",
    "\n",
    "# une troisième variable / float / Floating-point decimal values generally do not have an exact binary representation\n",
    "z = 10.3\n",
    "print(z)\n",
    "print(type(z))\n"
   ]
  },
  {
   "cell_type": "markdown",
   "metadata": {},
   "source": [
    "## Formatter ce que l'on affiche à l'écran\n",
    "- Tout ceci est bien beau mais on pourrait vouloir formatter ces messages pour que ce soit plus clair.\n",
    "- On va afficher, pour chaque variable (x,y, et z) le nom de la variable, sa valeur, et son type, sur la même ligne.\n",
    "- Pour cela on va utiliser la commande (fonction) `format()`."
   ]
  },
  {
   "cell_type": "code",
   "execution_count": 1,
   "metadata": {},
   "outputs": [
    {
     "name": "stdout",
     "output_type": "stream",
     "text": [
      "la variable x a pour valeur 10 et pour type <class 'int'>\n",
      "la variable y a pour valeur du texte! et pour type <class 'str'>\n",
      "la variable z a pour valeur 10.3 et pour type <class 'float'>\n",
      "la variable b a pour valeur 16.9 et pour type <class 'float'>\n",
      "la variable c a pour valeur lol et pour type <class 'str'>\n"
     ]
    }
   ],
   "source": [
    "# une première variable\n",
    "x = 10\n",
    "print(\"la variable x a pour valeur {0} et pour type {1}\".format(x, type(x)))\n",
    "\n",
    "# une deuxième variable\n",
    "y = \"du texte!\"\n",
    "print(\"la variable y a pour valeur {0} et pour type {1}\".format(y, type(y)))\n",
    "\n",
    "# une troisième variable\n",
    "z = 10.3\n",
    "print(\"la variable z a pour valeur {0} et pour type {1}\".format(z, type(z)))\n",
    "\n",
    "# une quatrième variable\n",
    "b = 16.9\n",
    "print(\"la variable b a pour valeur {valeur} et pour type {type}\".format(type=type(b),valeur=b,))\n",
    "\n",
    "# une quatrième variable\n",
    "c = \"lol\"\n",
    "print(\"la variable c a pour valeur {0} et pour type {1}\".format(c, type(c)))\n"
   ]
  },
  {
   "cell_type": "markdown",
   "metadata": {},
   "source": [
    "- Décortiquons ce code un petit peu...\n",
    "- Les commandes `print()`, `format()`, et `type()` sont des __fonctions__, c'est-à-dire des appels que l'on peut faire à Python pour exécuter un ensemble de commandes. Dans chacune de ces commandes/fonctions, on indique quelles variables doivent être traitées qui sont passées entre parenthèses (des __paramètres__). Python inclut beaucoup de fonctions. Nous verrons aussi par la suite comment créer nos propres fonctions.\n",
    "- La fonction `print()` permet d'afficher un message. \n",
    "    - Un message est une chaîne de caractères (`string`) et doit donc être inclus entre des guillemets (simples ou doubles, cela n'a pas d'importance).\n",
    "- Ici, le message est \"la variable x...\", tout va bien jusque là. Par contre, on veut aussi afficher non pas du texte mais le résultat d'une opération (par exemple, `type(x)`).\n",
    "- On va donc demander à Python d'afficher un message que l'on va paramétrer grâce à la fonction `format()`. On va indiquer, à l'aide de `{0}` et `{1}`, que l'on a deux paramètres à insérer dans le message. \n",
    "- La commande `.format(x, type(x))` indique que le premier paramètre du message sera `x` et le deuxième, `type(x)`.\n",
    "    - Pourquoi pas `{1}` et `{2}` pour nos deux paramètres? Parce qu'en Python, comme dans beaucoup de langages de programmation, on compte en commençant par 0 et non par 1. __Attention__: ceci vous jouera probablement des tours par la suite.\n",
    "- Pareil pour `y` et `z` ensuite.\n",
    "- Donc, on dit à Python: \"Affiche un message qui sera formatté avec deux paramètres fournis dans la fonction `format()`\"."
   ]
  }
 ],
 "metadata": {
  "kernelspec": {
   "display_name": "Python 3 (ipykernel)",
   "language": "python",
   "name": "python3"
  },
  "language_info": {
   "codemirror_mode": {
    "name": "ipython",
    "version": 3
   },
   "file_extension": ".py",
   "mimetype": "text/x-python",
   "name": "python",
   "nbconvert_exporter": "python",
   "pygments_lexer": "ipython3",
   "version": "3.9.7"
  }
 },
 "nbformat": 4,
 "nbformat_minor": 2
}
