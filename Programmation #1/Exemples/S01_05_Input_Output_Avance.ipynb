{
 "cells": [
  {
   "cell_type": "markdown",
   "metadata": {},
   "source": [
    "# Travailler avec le Input/Output (I/O) - entrées et sorties (suite)\n",
    "\n",
    "## Input: lire un fichier texte\n",
    "- Quand on veut lire un fichier, on doit connaître deux choses:\n",
    "    - L'emplacement du fichier.\n",
    "    - Sa structure (comment les données dans le fichier sont organisées).\n",
    "- Il existe une multitude de façons de lire un fichier en programmation. Certaines conviennent mieux que d'autres pour différentes raisons, comme le type de fichier (texte versus Excel par exemple), sa taille etc.\n",
    "- Pour le moment, nous utilisons des fichiers simples donc nous allons les lire de la façon la plus simple qu'il soit.\n",
    "- Dans le bloc de code suivant, nous lirons un fichier texte simple qui contient une ligne de texte.\n",
    "- Pour lire le fichier, nous utiliserons la fonction `open()`. Cette fonction requiert deux paramètres:\n",
    "    - Le nom complet du fichier avec son emplacement sur le disque dur.\n",
    "    - Le mode d'ouverture du fichier. Ici, nous dirons \"r\" pour indiquer que l'on veut lire le fichier (`r` pour *read*).\n",
    "- __Attention__: Avant d'exécuter le code suivant, vous devez vous assurer d'avoir déposé le fichier texte dans le même répertoire que votre notebook. Sinon, Python donnera une erreur parce qu'il ne peut pas lire votre fichier. Nous verrons plus tard comment gérer des cas où Python renvoie des exceptions lors de l'exécution de votre code."
   ]
  },
  {
   "cell_type": "code",
   "execution_count": 5,
   "metadata": {},
   "outputs": [
    {
     "name": "stdout",
     "output_type": "stream",
     "text": [
      "Bienvenue au cours de programmation!\n",
      "Voici une ligne de texte.\n",
      "Et en voici une autre!\n",
      "Bienvenue au cours de programmation!\n",
      "Voici une ligne de texte.\n",
      "Et en voici une autre!\n",
      "Bienvenue au cours de programmation!\n",
      "Voici une ligne de texte.\n",
      "Et en voici une autre!\n",
      "Bienvenue au cours de programmation!\n",
      "Voici une ligne de texte.\n",
      "Et en voici une autre!\n"
     ]
    }
   ],
   "source": [
    "# \"r\" to \"read\" the document.\n",
    "\n",
    "with open(\"fichier_simple.txt\",\"r\") as text_file:\n",
    "    file_contents = text_file.read()\n",
    "    print(file_contents)\n",
    "\n",
    "# other way   \n",
    "\n",
    "open(\"fichier_simple.txt\",\"r\")\n",
    "print(file_contents)\n",
    "text_file.close()\n",
    "\n",
    "# other way\n",
    "\n",
    "with open(\"fichier_simple.txt\",\"r\") as text_file:\n",
    "    print(text_file.read())\n",
    "\n",
    "# other way     \n",
    "\n",
    "import io\n",
    "\n",
    "with io.FileIO(\"fichier_simple.txt\",\"r\") as text_file:\n",
    "    print(text_file.read().decode('utf8'))\n",
    "\n"
   ]
  },
  {
   "cell_type": "markdown",
   "metadata": {},
   "source": [
    "### Quelques explications\n",
    "- On a demandé à Python d'ouvrir le fichier `fichier_simple.txt` en mode lecture (`r`) et on assigne cette ouverture à une variable appelée `text_file`.\n",
    "- Dans la deuxième ligne, on a lu la variable `text_file` avec la commande `read()` et assigné le contenu du fichier à la variable `file_contents` que l'on affiche avec la commande `print()` dans la troisième ligne.\n",
    "- Nous avons aussi utilisé, dans la première ligne, la commande `with` pour indiquer à Python que l'on voulait faire plusieurs opérations avec notre fichier texte. Une fois ces opérations terminées, Python fermera le fichier pour nous. Sans cette commande `with`, il faudrait fermer nous-mêmes le fichier avec la fonction `close()`.\n",
    "- __Attention__: pour indiquer à Python qu'un ensemble de commandes sont à exécuter en bloc (par exemple, si une condition est remplie, ou comme ici, avec la commande `with`, on ajoute, sur la première ligne, `:` pour dire qu'un bloc va suivre. Ensuite, les éléments qui font partie du bloc doivent être indentés avec une tabulation. L'indentation est la façon de définir des blocs en Python.\n",
    "- Ici donc, nous lirons le contenu du fichier que nous avons ouvert et nous afficherons ce contenu dans un seul bloc durant lequel le fichier restera ouvert."
   ]
  },
  {
   "cell_type": "markdown",
   "metadata": {},
   "source": [
    "## Output: Afficher le contenu d'un fichier texte et le sauvegarder\n",
    "- Imaginons plutôt que nous voulions __stocker__ de l'information dans un fichier texte.\n",
    "- Nous allons demander à l'utilisateur de nous donner son nom pour le stocker dans un fichier que l'on normmera `user_name.txt`.\n",
    "- Pour ce faire, nous allons de nouveau ouvrir notre fichier, mais cette fois en mode écriture (`w`) et nous y écrirons l'information à l'aide de la fonction `write()`.\n",
    "- Comme nous sommes dans un autre notebook, notre variable user_name du notebook précédent n'existe pas. Il va donc falloir la regénérer."
   ]
  },
  {
   "cell_type": "code",
   "execution_count": 7,
   "metadata": {},
   "outputs": [
    {
     "name": "stdout",
     "output_type": "stream",
     "text": [
      "Quel est votre nom? Perceval Lachance\n"
     ]
    }
   ],
   "source": [
    "# \"w\" : create & write.\n",
    "\n",
    "# écriture dans un fichier texte\n",
    "user_name = input(\"Quel est votre nom? \")\n",
    "with open(\"user_name.txt\",\"w\") as text_file:\n",
    "    text_file.write(user_name)"
   ]
  },
  {
   "cell_type": "markdown",
   "metadata": {},
   "source": [
    "- Si vous ouvrez le fichier sur votre ordinateur, vous devriez y voir votre nom.\n",
    "\n",
    "### Output: ajouter du contenu dans un fichier texte\n",
    "- Si vous exécutez le bloc précédent plusieurs fois, on voit que le nom se fait systématiquement remplacer par la dernière valeur entrée par l'utilisateur.\n",
    "- On peut cependant ouvrir le fichier en mode dit *lecture et ajout* (`a` pour *append*) pour indiquer que l'on va ajouter du texte et non le remplacer."
   ]
  },
  {
   "cell_type": "code",
   "execution_count": 3,
   "metadata": {},
   "outputs": [
    {
     "name": "stdout",
     "output_type": "stream",
     "text": [
      "Quel est votre nom? Dan\n"
     ]
    }
   ],
   "source": [
    "# ajout dans un fichier texte.\n",
    "user_name = input(\"Quel est votre nom? \")\n",
    "with open(\"user_name.txt\",\"a\") as text_file:\n",
    "    text_file.write(user_name)"
   ]
  },
  {
   "cell_type": "markdown",
   "metadata": {},
   "source": [
    "- Mmh... Si je regarde mon fichier, je vois que les valeurs sont collées les unes aux autres... On écrira chaque nom sur une ligne différente.\n",
    "- Ceci se fait toujours à l'aide de la fonction `write()`. La différence est que juste après l'écriture du nom, on ajoutera un symbole, `\\n` qui indique à Python d'ajouter une nouvelle ligne après le nom."
   ]
  },
  {
   "cell_type": "code",
   "execution_count": 14,
   "metadata": {},
   "outputs": [
    {
     "name": "stdout",
     "output_type": "stream",
     "text": [
      "Quel est votre nom (première fois)? a\n",
      "Quel est votre nom (deuxième fois)? a\n",
      "Quel est votre nom (third time)? a\n",
      "Quel est votre nom (fourth time)? a\n",
      "Quel est votre nom (fourth time)? a\n"
     ]
    }
   ],
   "source": [
    "# première étape, je vais vider le contenu de mon fichier. \n",
    "# pour cela, je l'ouvre en écriture mais je n'écris rien dedans.\n",
    "with open(\"user_name.txt\",\"w\") as text_file:\n",
    "    text_file.write(\"\")\n",
    "\n",
    "# maintenant je vais demander un premier nom et l'ajouter à mon fichier.\n",
    "# noter ici le symbole \\n quand on fait le write().\n",
    "user_name = input(\"Quel est votre nom (première fois)? \")\n",
    "with open(\"user_name.txt\",\"a\") as text_file:\n",
    "    text_file.write(user_name + \"\\n\")\n",
    "    \n",
    "user_name = input(\"Quel est votre nom (deuxième fois)? \")\n",
    "with open(\"user_name.txt\",\"a\") as text_file:\n",
    "    text_file.write(user_name + \"\\n\")\n",
    "    \n",
    "user_name = input(\"Quel est votre nom (third time)? \")\n",
    "with open(\"user_name.txt\",\"a\") as text_file:\n",
    "    text_file.write(\"\\t\" + user_name + \"\\n\")\n",
    "    \n",
    "user_name = input(\"Quel est votre nom (fourth time)? \")\n",
    "with open(\"user_name.txt\",\"a\") as text_file:\n",
    "    text_file.write(\"{0}\\n\".format(user_name))\n",
    "\n",
    "user_name = input(\"Quel est votre nom (fifth time)? \")\n",
    "with open(\"user_name.txt\",\"a\") as text_file:\n",
    "    text_file.write(f\"{user_name}\" + \"\\n\")"
   ]
  },
  {
   "cell_type": "markdown",
   "metadata": {},
   "source": [
    "## Exercices à faire\n",
    "- Exercice 5."
   ]
  },
  {
   "cell_type": "code",
   "execution_count": null,
   "metadata": {},
   "outputs": [],
   "source": []
  }
 ],
 "metadata": {
  "kernelspec": {
   "display_name": "Python 3 (ipykernel)",
   "language": "python",
   "name": "python3"
  },
  "language_info": {
   "codemirror_mode": {
    "name": "ipython",
    "version": 3
   },
   "file_extension": ".py",
   "mimetype": "text/x-python",
   "name": "python",
   "nbconvert_exporter": "python",
   "pygments_lexer": "ipython3",
   "version": "3.9.7"
  }
 },
 "nbformat": 4,
 "nbformat_minor": 2
}
