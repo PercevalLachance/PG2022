{
 "cells": [
  {
   "cell_type": "markdown",
   "id": "02e92668",
   "metadata": {},
   "source": [
    "# TP 1\n",
    "\n",
    "## Calcul pour la fixation de loyer - Outil de calcul\n",
    "#### Référence : Tribunal administratif du logement, [Outil de calcul](https://www.tal.gouv.qc.ca/fr/calcul-pour-la-fixation-de-loyer/outil-de-calcul)\n",
    "\n",
    "Votre oncle Roger possède un édifice à logement. Cet édifice comporte 16 logements. Comme à tous les ans, il doit procéder à l'établissement du nouveau loyer des locataires en fonction des dépenses qu’il a encourues au cours de l’année précédente. Pour déterminer les nouveaux loyers, il utilise le formulaire Web développé par le Tribunal administratif du logement et mis à jour à chaque année.\n",
    "\n",
    "Il vous demande  de produire un programme Python qui lui permettra de rapidement déterminer ces nouveaux loyers en utilisant la même structure que le formulaire Web du Tribunal administratif du logement.\n",
    "\n",
    "Les informations pertinentes sur les logements se trouvent dans le fichier `Loyers.txt` (fichier texte séparé par des marques de tabulation - `\\t`). La première ligne est une ligne d'entête. On retrouve les informations suivantes :\n",
    "\n",
    "- **Adresse** : l'adresse de l'édifice;\n",
    "- **No Logement** : le numéro du logement;\n",
    "- **Dimension** : le nombre de pièces de l'appartement;\n",
    "- **Loyer**\t: le loyer mensuel actuel pour ce logement;\n",
    "- **Occupé** : indique si le logement est présentement occupé (`Oui`) ou non (`Non`);\n",
    "- **Dépenses spécifiques** : le montant des dépenses encourues au cours de la dernière année pour ce logement."
   ]
  },
  {
   "cell_type": "markdown",
   "id": "7a3397a4",
   "metadata": {},
   "source": [
    "### Question 1 : fonction `arrondi()` -- *2 points*\n",
    "\n",
    "Pour vous aidez dans le traitement des données, on vous demande de créer une fonction utilitaire `arrondi()` qui doit répondre aux requis suivants :\n",
    "\n",
    "- La fonction a deux paramètres :\n",
    "\n",
    "    - `val` : la valeur à arrondir;\n",
    "    - `ratio` : indique si on doit arrondir `val` à deux décimales (`ratio == False`) ou à 4 décimales (`ratio == True`); ce paramètre est optionnel et a la valeur `False` par défaut.\n",
    "    \n",
    "- La fonction doit arrondir la valeur `val` à deux ou quatre décimales, selon la valeur du paramètre `ratio`."
   ]
  },
  {
   "cell_type": "code",
   "execution_count": 2,
   "id": "4da8febe",
   "metadata": {},
   "outputs": [],
   "source": [
    "# Définition de la fonction arrondi()\n",
    "\n"
   ]
  },
  {
   "cell_type": "markdown",
   "id": "d13d9227",
   "metadata": {},
   "source": [
    "### Question 2 : calculs A à F -- *5 points*\n",
    "\n",
    "Pour la question 2, vous devez reproduire les calculs A à F du formulaire Web. Il s'agit de tous les calculs qui sont communs à tous les logements dans l'édifice.\n",
    "\n",
    "Tous les calculs doivent être arrondis en utilisant la fonction `arrondi()` de la question 1."
   ]
  },
  {
   "cell_type": "markdown",
   "id": "66208e9f",
   "metadata": {},
   "source": [
    "#### Calcul A : Calcul des revenus -- *1 point*\n",
    "\n",
    "Il s'agit de la somme des loyers mensuels de tous les logements pour toute l'année.\n",
    "\n",
    "**Vous devez afficher les revenus totaux.**"
   ]
  },
  {
   "cell_type": "code",
   "execution_count": 3,
   "id": "e89dc9b9",
   "metadata": {},
   "outputs": [],
   "source": [
    "# A : calcul des revenus\n",
    "\n"
   ]
  },
  {
   "cell_type": "markdown",
   "id": "9a9cdcf9",
   "metadata": {},
   "source": [
    "#### Calcul B : Dépenses d'exploitation -- *1 point*\n",
    "\n",
    "Il s'agit de la somme des dépenses pour l'année qui vient de se terminer (2021 dans notre cas), auxquelles s'ajoutent des frais de gestion équivalents à 5 \\% des revenus annuels bruts.\n",
    "\n",
    "**Vous devez afficher les dépenses d'exploitation totales.**\n",
    "\n",
    "Votre oncle Roger vous a préparé un tableau indiquant les dépenses pertinentes pour l'édifice :\n",
    "\n",
    "| Dépense | 2020 | 2021 | 2022 |\n",
    "| --- | --- | --- | --- |\n",
    "| Taxes municipales | | 14000 | 15000 | \n",
    "| Taxes scolaires | 750 | 800 | |\n",
    "| Assurances | 1400 | 1500 | |\n",
    "| Électricité | | 3600 | |\n",
    "| Gaz | | 0 | |\n",
    "| Mazout | | 0 | |\n",
    "| Entretien | | 3600 | |"
   ]
  },
  {
   "cell_type": "code",
   "execution_count": 4,
   "id": "e5b1d885",
   "metadata": {},
   "outputs": [],
   "source": [
    "# B : Dépenses d'exploitation\n",
    "\n"
   ]
  },
  {
   "cell_type": "markdown",
   "id": "26807b12",
   "metadata": {},
   "source": [
    "#### Calcul C : Ajustements des dépenses d'exploitation -- *1,5 point*\n",
    "\n",
    "Pour les taxes et les assurances, il s'agit de la variation réelle des dépenses encourues. Pour les autres dépenses, l'ajustement est déterminé selon le tableau suivant, établi annuellement par le Tribubal administratif du logement :\n",
    "\n",
    "| Dépense | Ajustement |\n",
    "| ------ | ------- |\n",
    "| Électricité | -0,3 \\% |\n",
    "| Gaz | -11,3 \\% |\n",
    "| Mazout | -21,6 \\% |\n",
    "| Entretien | 1,4 \\% |\n",
    "| Frais de gestion | 1,2 \\% |\n",
    "\n",
    "**Vous devez afficher :**\n",
    "\n",
    "- l'ajustement pour chaque type de dépense;\n",
    "- le total des ajustements des dépenses d'exploitation."
   ]
  },
  {
   "cell_type": "code",
   "execution_count": 5,
   "id": "296a2c5d",
   "metadata": {},
   "outputs": [],
   "source": [
    "# C : Ajustements des dépenses d'exploitation\n",
    "\n"
   ]
  },
  {
   "cell_type": "markdown",
   "id": "ad84f5f5",
   "metadata": {},
   "source": [
    "#### Calcul D : Ajustement lié aux revenus nets -- *0,5 point*\n",
    "\n",
    "Cet ajustement est obtenu en multipliant les revenus nets (Calcul A moins Calcul B) par le taux d'ajustement établi annuellement par le Tribubal administratif du logement. Pour notre exemple, nous utiliserons le taux de 0,6 \\%.\n",
    "\n",
    "**Vous devez afficher :**\n",
    "\n",
    "- les revenus nets;\n",
    "- l'ajustement lié aux revenus nets."
   ]
  },
  {
   "cell_type": "code",
   "execution_count": 6,
   "id": "0d45eccc",
   "metadata": {},
   "outputs": [],
   "source": [
    "# D : Calcul de l'ajustement lié aux revenus nets\n",
    "\n"
   ]
  },
  {
   "cell_type": "markdown",
   "id": "2b301322",
   "metadata": {},
   "source": [
    "#### Calcul E : Ajustement pour dépenses majeures pour l'immeuble -- *0,5 point*\n",
    "\n",
    "Cet ajustement est obtenu en multipliant les dépenses majeures encourues pour améliorer l'édifice dans son ensemble par le taux d'ajustement établi annuellement par le Tribubal administratif du logement. L'an dernier, votre oncle Roger a dépensé 25 000 \\$ pour des rénovations majeures à l'édifice. Pour notre exemple, nous utiliserons le taux de 2,3 \\%.\n",
    "\n",
    "**Vous devez afficher l'ajustement pour dépenses majeures pour l'immeuble.**"
   ]
  },
  {
   "cell_type": "code",
   "execution_count": 7,
   "id": "d0ca04c5",
   "metadata": {},
   "outputs": [],
   "source": [
    "# E : Ajustement pour dépenses majeures pour l'immeuble\n",
    "\n"
   ]
  },
  {
   "cell_type": "markdown",
   "id": "b2b2a127",
   "metadata": {},
   "source": [
    "#### Calcul F : Ratio et pourcentage d'ajustement des loyers -- *0,5 point*\n",
    "\n",
    "Le ratio d'ajustement des loyers est établi en divisant la somme des ajustements (somme des Calculs C, D et E) par les revenus annuels (Calcul A). Le pourcentage est établi en multipliant le ratio par 100.\n",
    "\n",
    "**Vous devez afficher :**\n",
    "\n",
    "- le total des ajustements;\n",
    "- le ratio d'ajustement;\n",
    "- le pourcentage d'ajustement."
   ]
  },
  {
   "cell_type": "code",
   "execution_count": 8,
   "id": "216c92c6",
   "metadata": {},
   "outputs": [],
   "source": [
    "# F : Pourcentage d'ajustement des loyers\n",
    "\n"
   ]
  },
  {
   "cell_type": "markdown",
   "id": "0feeb87b",
   "metadata": {},
   "source": [
    "### Question 3 : identification d'un appartement et calcul du nouveau loyer -- *3 points*\n",
    "\n",
    "Pour la question 3, vous devez réaliser les calculs du formulaire Web qui sont spécifiques à un logement particulier. Pour les fins de cette question, on présume que le pourcentage (et non pas le ratio) d'augmentation de base a été fixé à 3 %. **Attention!** *Ce n'est pas la valeur qui est calculée à la question 2!*\n",
    "\n",
    "Tous les calculs intermédiaires doivent être arrondis en utilisant la fonction `arrondi()` de la question 1. Le calcul du nouveau loyer doit être arrondi à l'entier près sans utiliser la fonction `arrondi()`."
   ]
  },
  {
   "cell_type": "markdown",
   "id": "f8d34cf0",
   "metadata": {},
   "source": [
    "#### Calcul G : Ajustement pour dépenses majeures pour l'appartement -- *1,5 point*\n",
    "\n",
    "L'ajustement annuel pour dépenses majeures pour l'appartement est obtenu en multipliant les dépenses majeures encourues pour un logement spécifique par le taux d'ajustement établi annuellement par le Tribubal administratif du logement. Pour notre exemple, nous utiliserons le taux de 2,3 %.\n",
    "\n",
    "L'ajustement mensuel pour dépenses majeures pour l'appartement est obtenu en divisant l'ajustement annuel pour dépenses majeures pour l'appartement par 12.\n",
    "\n",
    "Pour cette partie, vous devez demander à l'utilisateur le numéro du logement pour lequel on veut effectuer le calcul tant que le numéro n'est pas valide. La liste des numéros de logement valides provient du fichier `Loyers.txt`. Vous devrez utiliser ce numéro pour déterminer les dépenses spécifiques au logement ainsi que le loyer actuel.\n",
    "\n",
    "**Vous ne devez lire le fichier `Loyers.txt` qu'une seule fois pour répondre à la question 3.** Il vous faudra donc stocker les informations dans une structure de données appropriée pour la suite des traitements.\n",
    "\n",
    "**Vous devez afficher :**\n",
    "\n",
    "- les dépenses spécifiques au logement sélectionné;\n",
    "- le loyer mensuel du logement sélectionné;\n",
    "- l'ajustement annuel pour dépenses majeures pour l'appartement;\n",
    "- l'ajustement mensuel pour dépenses majeures pour l'appartement."
   ]
  },
  {
   "cell_type": "code",
   "execution_count": 10,
   "id": "7edcb8a8",
   "metadata": {},
   "outputs": [],
   "source": [
    "# G : Ajustement pour dépenses majeures pour l'appartement\n",
    "\n"
   ]
  },
  {
   "cell_type": "markdown",
   "id": "763f3f00",
   "metadata": {},
   "source": [
    "#### Calcul du nouveau loyer -- *1,5 point*\n",
    "\n",
    "L'augmentation du loyer est la somme des éléments suivants :\n",
    "\n",
    "- l'augmentation mensuelle de base : est obtenue en multiplant l'ancien loyer avec le **ratio** d'augmentation de base du loyer;\n",
    "- l'ajustement mensuel pour dépenses majeures pour l'appartement.\n",
    "\n",
    "Cette valeur doit être arrondie au dollar près.\n",
    "\n",
    "Le nouveau loyer est obtenu en additionnant l'ancien loyer et l'augmentation calculée.\n",
    "\n",
    "**Vous devez afficher :**\n",
    "\n",
    "- l'augmentation mensuelle de base;\n",
    "- l'ajustement total;\n",
    "- le nouveau loyer.\n",
    "\n",
    "**Vous devez aussi produire l'avis d'augmentation comme suit :**\n",
    "\n",
    "```\n",
    "Avis d'augmentation\n",
    "Au locataire de l'appartement <no logement> du <adresse de l'édifice>\n",
    "Votre loyer actuel de <ancien loyer> sera augmenté à <nouveau loyer>\n",
    "```\n",
    "\n",
    "Par exemple, pour le logement numéro `1`, cela donne :\n",
    "\n",
    "```\n",
    "Avis d'augmentation\n",
    "Au locataire de l'appartement 1 du 2674 rue Bellerose\n",
    "Votre loyer actuel de 760.0 sera augmenté à 802.0\n",
    "```\n"
   ]
  },
  {
   "cell_type": "code",
   "execution_count": null,
   "id": "c859f604",
   "metadata": {
    "scrolled": true
   },
   "outputs": [],
   "source": [
    "# Nouveau loyer\n",
    "\n"
   ]
  }
 ],
 "metadata": {
  "kernelspec": {
   "display_name": "Python 3 (ipykernel)",
   "language": "python",
   "name": "python3"
  },
  "language_info": {
   "codemirror_mode": {
    "name": "ipython",
    "version": 3
   },
   "file_extension": ".py",
   "mimetype": "text/x-python",
   "name": "python",
   "nbconvert_exporter": "python",
   "pygments_lexer": "ipython3",
   "version": "3.9.7"
  }
 },
 "nbformat": 4,
 "nbformat_minor": 5
}
