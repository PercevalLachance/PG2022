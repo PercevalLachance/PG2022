{
 "cells": [
  {
   "cell_type": "markdown",
   "metadata": {},
   "source": [
    "# Séance 3 - Exercices\n",
    "\n",
    "- Avant de faire les exercices suivants, assurez-vous d'avoir bien assimilé la matière présentée en cours.\n",
    "- Il est possible que votre solution soit différente de celle d'un(e) collègue ou de l'enseignant(e).\n",
    "\n",
    "## Exercice 1 - Pair ou impair?\n",
    "- Soit une liste `my_list` contenant `n` items (vous pouvez les créer au choix).\n",
    "    - Si la liste contient un nombre pair d'items, afficher le message suivant: \"Nombre d'entrées pair!\"\n",
    "    - Si la liste contient un nombre impair d'items, afficher le message suivant: \"Nombre d'entrées impair!\"\n",
    "- __Remarque__: Avant de vous lancer dans l'exercice, pensez à développer votre logique avant de commencer à coder.\n",
    "- Une fois la logique comprise, vous devez trouver une façon de développer ce programme en consultant la documentation sur les __[opérations arithmétiques binaires en Python](https://docs.Python.org/3.3/reference/expressions.html#binary-arithmetic-operations)__."
   ]
  },
  {
   "cell_type": "code",
   "execution_count": 13,
   "metadata": {},
   "outputs": [
    {
     "name": "stdout",
     "output_type": "stream",
     "text": [
      "Nombre d'entrées pair!\n"
     ]
    }
   ],
   "source": [
    "# cellule pour exercice 1\n",
    "\n",
    "my_list = [3, 8, 7, 4, 5, 25]\n",
    "\n",
    "if len(my_list) %2==0:\n",
    "    print(\"Nombre d'entrées pair!\")\n",
    "else:\n",
    "    print(\"Nombre d'entrées impair!\")\n"
   ]
  },
  {
   "cell_type": "markdown",
   "metadata": {},
   "source": [
    "## Exercice 2 - Médiane v2\n",
    "- Déclarer une liste, `my_list`, et y stocker les valeurs suivantes: 4, 10, 3, 68, 15, 17.\n",
    "- Implémenter un calcul pour afficher la valeur médiane de la liste.\n",
    "\n",
    "- __Attention__: votre calcul doit fonctionner quelle que soit la taille de la liste.\n",
    "    - Quand une liste contient un nombre impair d'items, on prend l'item qui se situe au milieu de la liste.\n",
    "    - Quand une liste contient un nombre pair d'items, on prend la moyenne des deux items qui se situent de part et d'autre du milieu de la liste."
   ]
  },
  {
   "cell_type": "code",
   "execution_count": 22,
   "metadata": {},
   "outputs": [
    {
     "ename": "TypeError",
     "evalue": "'list' object is not callable",
     "output_type": "error",
     "traceback": [
      "\u001b[1;31m---------------------------------------------------------------------------\u001b[0m",
      "\u001b[1;31mTypeError\u001b[0m                                 Traceback (most recent call last)",
      "\u001b[1;32m~\\AppData\\Local\\Temp/ipykernel_15668/4232994144.py\u001b[0m in \u001b[0;36m<module>\u001b[1;34m\u001b[0m\n\u001b[0;32m      6\u001b[0m     \u001b[1;31m# cas pair / even case\u001b[0m\u001b[1;33m\u001b[0m\u001b[1;33m\u001b[0m\u001b[0m\n\u001b[0;32m      7\u001b[0m \u001b[1;33m\u001b[0m\u001b[0m\n\u001b[1;32m----> 8\u001b[1;33m     \u001b[0mmedian\u001b[0m \u001b[1;33m=\u001b[0m \u001b[0msorted\u001b[0m\u001b[1;33m(\u001b[0m\u001b[0mmy_list\u001b[0m\u001b[1;33m)\u001b[0m\u001b[1;33m[\u001b[0m\u001b[0mlen\u001b[0m\u001b[1;33m(\u001b[0m\u001b[0mmy_list\u001b[0m\u001b[1;33m)\u001b[0m\u001b[1;33m//\u001b[0m\u001b[1;36m2\u001b[0m\u001b[1;33m]\u001b[0m \u001b[1;33m+\u001b[0m \u001b[0msorted\u001b[0m\u001b[1;33m(\u001b[0m\u001b[0mmy_list\u001b[0m\u001b[1;33m)\u001b[0m\u001b[1;33m(\u001b[0m\u001b[1;33m[\u001b[0m\u001b[0mlen\u001b[0m\u001b[1;33m(\u001b[0m\u001b[0mmy_list\u001b[0m\u001b[1;33m)\u001b[0m\u001b[1;33m//\u001b[0m\u001b[1;36m2\u001b[0m\u001b[1;33m-\u001b[0m\u001b[1;36m1\u001b[0m\u001b[1;33m]\u001b[0m\u001b[1;33m)\u001b[0m\u001b[1;33m/\u001b[0m\u001b[1;36m2\u001b[0m\u001b[1;33m\u001b[0m\u001b[1;33m\u001b[0m\u001b[0m\n\u001b[0m\u001b[0;32m      9\u001b[0m \u001b[1;32melse\u001b[0m\u001b[1;33m:\u001b[0m\u001b[1;33m\u001b[0m\u001b[1;33m\u001b[0m\u001b[0m\n\u001b[0;32m     10\u001b[0m     \u001b[1;31m# cas impair / odd cas\u001b[0m\u001b[1;33m\u001b[0m\u001b[1;33m\u001b[0m\u001b[0m\n",
      "\u001b[1;31mTypeError\u001b[0m: 'list' object is not callable"
     ]
    }
   ],
   "source": [
    "# cellule pour exercice 2\n",
    "\n",
    "my_list = [4, 10, 3, 68, 15, 17]\n",
    "\n",
    "if len(my_list) %2==0:\n",
    "    # cas pair / even case\n",
    "    \n",
    "    median = sorted(my_list)[len(my_list)//2] + sorted(my_list)([len(my_list)//2-1])/2\n",
    "else:\n",
    "    # cas impair / odd cas\n",
    "    \n",
    "    median = sorted(my_list)[len(my_list)//2]\n",
    "\n",
    "print(median)\n",
    "\n"
   ]
  },
  {
   "cell_type": "markdown",
   "metadata": {},
   "source": [
    "## Exercice 3 - Facturation\n",
    "- Imaginons le scénario suivant: votre entreprise doit facturer une liste de clients. Le processus de facturation doit être fait de la façon suivante:\n",
    "    - Si le client habite au Québec, on charge la TPS et la TVQ.\n",
    "    - Si le client habite en dehors du Québec mais toujours au Canada, on ne charge que la TPS.\n",
    "    - Si le client n'habite pas au Canada, on ne charge aucune taxe.\n",
    "    \n",
    "    \n",
    "- Afin de faire cet exercice, procéder de la façon suivante:\n",
    "    - Le fichier `transactions_clients.csv` contient plusieurs lignes correspondant chacune à une transaction.\n",
    "    - Sur chaque ligne, on trouve 3 champs (séparés par des virgules):\n",
    "        - Le nom du client.\n",
    "        - Le montant à payer en dollars canadiens (avant taxes).\n",
    "        - L'abbréviation de la province où habite le client. Si le client habite à l'égranger, le champ de la province est marquée *INTL* pour *international*.\n",
    "    - Afficher les informations suivantes:\n",
    "        - Le nom du client.\n",
    "        - Le montant à payer en dollars canadiens (avant taxes).\n",
    "        - L'abbréviation de la province où habite le client.\n",
    "        - Une mention indiquant si le client paie les taxes:\n",
    "            - Si le client paie les deux taxes, on affichera *TPS/TVQ*.\n",
    "            - Si le client paie seulement une taxe, on affichera *TPS*.\n",
    "            - Si le client ne paie pas de taxe, on affichera *N/D*.\n",
    "        - Le montant à payer en dollars canadiens (avec les taxes).\n",
    "    - Afin de faciliter la mise à jour des taxes dans le futur, déclarer les pourcentages à appliquer à l'aide de variables plutôt qu'en écrivant les chiffres directement dans le coeur de votre programme.\n",
    "- __Hypothèse__: Les noms des clients n'apparaissent qu'une seule fois dans le fichier.\n",
    "- __Astuce__: Dans cet exercice, vous devez arriver à lire une ligne d'un fichier texte et séparer son contenu en 3 champs. Il existe une multitude de façons de procéder en Python. La façon que l'on vous recommande ici est la suivante:\n",
    "    - Lire la ligne comme une chaîne de caractères et y appliquer la fonction `split()`. Voir la __[documentation](https://docs.Python.org/3/library/stdtypes.html#str.split)__ pour plus de détails. La cellule de code ci-dessous vous fournit un exemple.\n",
    "    - Quand on lit une ligne dans un fichier, on lit également les caractères indiquant qu'une nouvelle ligne commence dans le dernier champ, des espaces avant ou après le texte, etc. On appelle ceci un *leading and trailing characters*, par exemple un saut de ligne est représenté par `\\n` dans la valeur lue. Pour enlever ces caractères, on peut utiliser la fonction `strip()` (__[documentation](https://docs.Python.org/3/library/stdtypes.html#str.strip)__) sur la chaîne de caractères comme montré ci-dessous."
   ]
  },
  {
   "cell_type": "code",
   "execution_count": 1,
   "metadata": {},
   "outputs": [
    {
     "name": "stdout",
     "output_type": "stream",
     "text": [
      "Demain, peut-être, il fera beau, mais on ne le sait pas, pas encore du moins.\n",
      "\n",
      "['Demain', ' peut-être', ' il fera beau', ' mais on ne le sait pas', ' pas encore du moins.\\n']\n",
      "['Demain', 'peut-être', 'il fera beau', 'mais on ne le sait pas', 'pas encore du moins.']\n"
     ]
    }
   ],
   "source": [
    "# démonstration de split()\n",
    "my_string = \"Demain, peut-être, il fera beau, mais on ne le sait pas, pas encore du moins.\\n\"\n",
    "str_as_list = my_string.split(',')\n",
    "\n",
    "# string originale\n",
    "print(my_string)\n",
    "\n",
    "# après le split assigné à une autre variable, soit une \n",
    "# liste mais AVEC les caractères spéciaux\n",
    "print(str_as_list)\n",
    "\n",
    "# créons une nouvelle liste pour les items SANS les \n",
    "# caractères spéciaux\n",
    "strip_list = []\n",
    "# exemple de strip()\n",
    "for text in str_as_list:\n",
    "    strip_list.append(text.strip())\n",
    "\n",
    "# sans les caractères spéciaux\n",
    "print(strip_list)"
   ]
  },
  {
   "cell_type": "code",
   "execution_count": 32,
   "metadata": {},
   "outputs": [
    {
     "name": "stdout",
     "output_type": "stream",
     "text": [
      "[{'client': 'Gilbert', 'province': [1], 'montant': 120.0}]\n",
      "[{'client': 'Gilbert', 'province': [1], 'montant': 120.0}, {'client': 'Gregory', 'province': [1], 'montant': 110.12}]\n",
      "[{'client': 'Gilbert', 'province': [1], 'montant': 120.0}, {'client': 'Gregory', 'province': [1], 'montant': 110.12}, {'client': 'Mary', 'province': [1], 'montant': 50.0}]\n",
      "[{'client': 'Gilbert', 'province': [1], 'montant': 120.0}, {'client': 'Gregory', 'province': [1], 'montant': 110.12}, {'client': 'Mary', 'province': [1], 'montant': 50.0}, {'client': 'Bogdan', 'province': [1], 'montant': 75.0}]\n",
      "[{'client': 'Gilbert', 'province': [1], 'montant': 120.0}, {'client': 'Gregory', 'province': [1], 'montant': 110.12}, {'client': 'Mary', 'province': [1], 'montant': 50.0}, {'client': 'Bogdan', 'province': [1], 'montant': 75.0}, {'client': 'Georges', 'province': [1], 'montant': 15.25}]\n",
      "[{'client': 'Gilbert', 'province': [1], 'montant': 120.0}, {'client': 'Gregory', 'province': [1], 'montant': 110.12}, {'client': 'Mary', 'province': [1], 'montant': 50.0}, {'client': 'Bogdan', 'province': [1], 'montant': 75.0}, {'client': 'Georges', 'province': [1], 'montant': 15.25}, {'client': 'Pierre', 'province': [1], 'montant': 85.25}]\n",
      "Gilbert\n",
      "Gregory\n",
      "Mary\n",
      "Bogdan\n",
      "Georges\n",
      "Pierre\n"
     ]
    }
   ],
   "source": [
    "# cellule pour exercice 3\n",
    "\n",
    "my_list = []\n",
    "with open(\"transactions_clients.csv\", \"r\") as csv_file:\n",
    "    for line in csv_file:\n",
    "        #print(line.strip())\n",
    "        champs = line.strip().split(\",\")\n",
    "        #print(champs)\n",
    "        my_list.append({\"client\":champs[0], \"province\":[1], \"montant\":float(champs[2])})\n",
    "        print(my_list)\n",
    "\n",
    "for transaction in my_list:\n",
    "    if transaction['province'] == 'QC':\n",
    "        taxeapliquee = 'TPS/TVQ'\n",
    "        montantaprestaxe = transaction['montant'] * (1 + 0.05 + 0.0975)\n",
    "    elif transaction['province'] == 'INTL':\n",
    "        taxeapliquee = 'N/D'\n",
    "        montantaprestaxe = transaction['montant']\n",
    "    else:\n",
    "        taxeapliquee = 'TPS'\n",
    "        montantaprestaxe = transaction['montant'] * (1 + 0.05 + 0.0975)\n",
    "         \n",
    "    print('{0}'.format(transaction['client']))"
   ]
  },
  {
   "cell_type": "code",
   "execution_count": null,
   "metadata": {},
   "outputs": [],
   "source": []
  },
  {
   "cell_type": "markdown",
   "metadata": {},
   "source": [
    "## Exercice 4 - Deviner un nombre v2\n",
    "- Dans le programme suivant, on veut demander à l'ordinateur de générer un nombre aléatoire entre 1 et 20 et donner 5 chances à l'utilisateur de deviner ce nombre.\n",
    "- L'ordinateur demandera les 5 choix et validera, après chaque tentative, si le choix de l'utilisateur est bon en comparant avec la valeur aléatoire générée. \n",
    "    - On affichera une information si le joueur a fourni une valeur trop haute, trop basse, ou s'il a gagné (mais on ne révèlera pas le nombre aléatoire généré).\n",
    "    - On stockera également la valeur jouée.\n",
    "- À la fin du jeu (soit après 5 tours, ou quand l'utilisateur aura gagné), on affichera le nombre qu'il fallait deviner ainsi qu'un récapitulatif des choix du joueur à chaque tour.    \n",
    "    - Si le joueur a perdu, on affichera le message \"Perdu! Better luck next time!\"\n",
    "    - Si l'utilisateur a gagné, on affichera le message \"Bravo! Vous avez trouvé le nombre magique en x tentatives\" où x représente le nombre de tours que le joueur a utilisé avant de gagner.    \n",
    "    - Si l'utilisateur gagne avant la fin des 5 tours, on voudra arrêter de lui demander de choisir un nombre. Pour ce faire, on utilisera la __[commande](https://docs.Python.org/3.3/reference/compound_stmts.html#the-for-statement)__ `break` qui permet de forcer l'arrêt d'une boucle en cours.\n",
    "    - Pour fournir le récapitulatif avec le choix du joueur ainsi que le tour, on peut itérer sur les choix du joueur en utilisant la commande `enumerate()` qui permet de récupérer l'index de la liste et la valeur qui lui est associée. Voir la __[documentation](https://docs.Python.org/3.3/library/functions.html#enumerate)__.\n",
    "\n",
    "\n",
    "- L'exemple ci-dessous vous montre une séquence de jeu où le joueur n'a pas réussi à deviner le nombre magique.\n",
    "\n",
    "\n",
    "![Sample output](images/number_game_sample_output.png)"
   ]
  },
  {
   "cell_type": "code",
   "execution_count": 17,
   "metadata": {},
   "outputs": [],
   "source": [
    "# cellule pour exercice 4\n",
    "\n",
    "import random\n",
    "\n",
    "random_number = random.range (1, 20, 1)\n",
    "print()"
   ]
  },
  {
   "cell_type": "markdown",
   "metadata": {},
   "source": [
    "## Exercice 5 - Deviner un nombre v3\n",
    "- Modifier le code de l'exercice 4 en ajoutant les fonctionnalités suivantes:\n",
    "- Valider l'input de l'utilisateur: quand un nombre entré par le joueur est en dehors des bornes (de 1 à 20), afficher un message d'erreur et redemander l'input du joueur.\n",
    "- Après chaque partie, demander au joueur s'il veut rejouer. Si le joueur écrit *oui*, recommencez une nouvelle partie. Si le joueur écrit *non*, arrêtez la partie en affichant un message pour dire au revoir au joueur."
   ]
  },
  {
   "cell_type": "code",
   "execution_count": 18,
   "metadata": {},
   "outputs": [],
   "source": [
    "# cellule pour exercice 5"
   ]
  }
 ],
 "metadata": {
  "kernelspec": {
   "display_name": "Python 3 (ipykernel)",
   "language": "python",
   "name": "python3"
  },
  "language_info": {
   "codemirror_mode": {
    "name": "ipython",
    "version": 3
   },
   "file_extension": ".py",
   "mimetype": "text/x-python",
   "name": "python",
   "nbconvert_exporter": "python",
   "pygments_lexer": "ipython3",
   "version": "3.9.7"
  }
 },
 "nbformat": 4,
 "nbformat_minor": 2
}
