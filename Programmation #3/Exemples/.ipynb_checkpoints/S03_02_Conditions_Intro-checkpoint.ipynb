{
 "cells": [
  {
   "cell_type": "markdown",
   "metadata": {},
   "source": [
    "# Gestion de flux/conditions\n",
    "- Jusqu'à maintenant, nous avons créé des programmes avec un flux très linéaire, dans lesquels une action découlait de la précédente. En programmation, on veut souvent gérer des conditions et des cas particuliers. Par exemple, si l'utilisateur nous donne une valeur à laquelle nous ne nous attendons pas, on veut rejeter son input (et éventuellement lui demander d'en fournir une autre).\n",
    "- Pour gérer les conditions et altérer le flux d'exécution de notre programme, nous utilisons la commande `if` pour dire par exemple à Python que: \"si la condition A est remplie, alors il faut faire la condition B\".\n",
    "- Comme toujours en Python, la condition est d'abord définie et le code qui doit suivre dans le respect de la condition est indenté.\n",
    "- Comme toujours en programmation, il vaut mieux réfléchir, voire dessiner ce que l'on veut faire __avant__ de programmer. Par exemple dessiner un diagramme de flux ou tout autre formalisme que vous connaissez dans lequel vous pouvez faire des conditions (sortez vos \"bouts de napkin\").\n",
    "\n",
    "## Un premier exemple"
   ]
  },
  {
   "cell_type": "code",
   "execution_count": 1,
   "metadata": {},
   "outputs": [
    {
     "name": "stdout",
     "output_type": "stream",
     "text": [
      "a est inférieur à b\n"
     ]
    }
   ],
   "source": [
    "a = 1\n",
    "b = 2\n",
    "if a < b:\n",
    "    print(\"a est inférieur à b\")\n",
    "    \n",
    "if b < a:\n",
    "    print(\"b est inférieur à a\")\n",
    "\n",
    "# attention au signe d'égalité!\n",
    "if a == b:\n",
    "    print(\"a est égal à b\")"
   ]
  },
  {
   "cell_type": "code",
   "execution_count": 2,
   "metadata": {},
   "outputs": [
    {
     "name": "stdout",
     "output_type": "stream",
     "text": [
      "a est inférieur à b\n",
      "b est superieur ou egal a a\n",
      "a est different de b\n"
     ]
    }
   ],
   "source": [
    "a = 1\n",
    "b = 2\n",
    "if a < b:\n",
    "    print(\"a est inférieur à b\")\n",
    "else:\n",
    "    print(\"a est sup/rieur ou egal a b\")\n",
    "    \n",
    "if b < a:\n",
    "    print(\"b est inférieur à a\")\n",
    "else:\n",
    "    print(\"b est superieur ou egal a a\")\n",
    "\n",
    "# attention au signe d'égalité!\n",
    "if a == b:\n",
    "    print(\"a est égal à b\")\n",
    "else:\n",
    "    print(\"a est different de b\")"
   ]
  },
  {
   "cell_type": "markdown",
   "metadata": {},
   "source": [
    "## Plusieurs conditions\n",
    "- Avec des programmes plus complexes, on aura souvent besoin de __conditions multiples__ et de __conditions alternatives__.\n",
    "- Par exemple:\n",
    "    - Si un chiffre est compris entre a et b, alors...\n",
    "    - Si un chiffre est supérieur à a ou inférieur à b, alors...\n",
    "    - Si un chiffre est inférieur à x alors... sinon, si le chiffre est inférieur à y alors... sinon, dans tous les autres cas, faisons...\n",
    "        - Dans ce dernier cas, il faut faire attention à la façon dont on déclare les conditions. En effet, dès que l'une des conditions est remplie, Python la traite et les autres ne seront pas évaluées. Il peut donc arriver que l'ordre des conditions ait de l'importance, comme nous le verrons plus bas.\n",
    "        \n",
    "| `a` | `b` | AND | OR |\n",
    "| --- | --- | --- | --- |\n",
    "| __FAUX__ | __FAUX__ | __FAUX__ | __FAUX__ |\n",
    "| __FAUX__ | __VRAI__ | __FAUX__ | __VRAI__ |\n",
    "| __VRAI__ | __FAUX__ | __FAUX__ | __VRAI__ |\n",
    "| __VRAI__ | __VRAI__ | __VRAI__ | __VRAI__ |\n",
    "        \n",
    "### Conditions multiples avec AND   "
   ]
  },
  {
   "cell_type": "code",
   "execution_count": 1,
   "metadata": {},
   "outputs": [
    {
     "name": "stdout",
     "output_type": "stream",
     "text": [
      "a est inférieur à 10 ET supérieur à 4!\n"
     ]
    }
   ],
   "source": [
    "# condition multiple avec AND\n",
    "a = 5\n",
    "if (a < 10 and a > 4):\n",
    "    print (\"a est inférieur à 10 ET supérieur à 4!\")"
   ]
  },
  {
   "cell_type": "markdown",
   "metadata": {},
   "source": [
    "### Conditions multiples avec OR"
   ]
  },
  {
   "cell_type": "code",
   "execution_count": 4,
   "metadata": {},
   "outputs": [
    {
     "name": "stdout",
     "output_type": "stream",
     "text": [
      "a est inférieur à 10 OU supérieur à 4!\n"
     ]
    }
   ],
   "source": [
    "# condition multiple avec OR\n",
    "a = 3\n",
    "if (a < 10 or a > 4):\n",
    "    print (\"a est inférieur à 10 OU supérieur à 4!\")"
   ]
  },
  {
   "cell_type": "markdown",
   "metadata": {},
   "source": [
    "### Plusieurs conditions (`if`/`elif`/`else`)"
   ]
  },
  {
   "cell_type": "code",
   "execution_count": 5,
   "metadata": {},
   "outputs": [
    {
     "name": "stdout",
     "output_type": "stream",
     "text": [
      "a est inférieur à 6\n"
     ]
    }
   ],
   "source": [
    "# plusieurs conditions\n",
    "a = 5\n",
    "if (a < 4): # première condition\n",
    "    print(\"a est inférieur à 4\")\n",
    "elif (a < 6): # deuxième condition\n",
    "    print(\"a est inférieur à 6\")\n",
    "else: # condition alternative (tous les autres cas)\n",
    "    print(\"condition alternative remplie...\")"
   ]
  },
  {
   "cell_type": "code",
   "execution_count": 7,
   "metadata": {},
   "outputs": [
    {
     "name": "stdout",
     "output_type": "stream",
     "text": [
      "a est inférieur à 10\n"
     ]
    }
   ],
   "source": [
    "# plusieurs conditions, quand l'ORDRE nous joue des tours... C'est ***la toute première condition*** qui est remplie.\n",
    "a = 5\n",
    "if (a < 4): # première condition\n",
    "    print(\"a est inférieur à 4\")\n",
    "elif (a < 10): # deuxième condition\n",
    "    print(\"a est inférieur à 10\")\n",
    "elif (a < 6): # troisième condition... Nous ne sommes jamais arrivés ici!\n",
    "    print(\"a est inférieur à 6\")    \n",
    "else: # condition alternative (tous les autres cas)\n",
    "    print(\"condition alternative remplie...\")"
   ]
  },
  {
   "cell_type": "code",
   "execution_count": 8,
   "metadata": {},
   "outputs": [
    {
     "name": "stdout",
     "output_type": "stream",
     "text": [
      "a est inférieur à 6\n"
     ]
    }
   ],
   "source": [
    "# probablement mieux comme ça\n",
    "a = 5\n",
    "if (a < 4): # première condition\n",
    "    print(\"a est inférieur à 4\")\n",
    "elif (a < 6): # troisième condition\n",
    "    print(\"a est inférieur à 6\")    \n",
    "elif (a < 10): # deuxième condition\n",
    "    print(\"a est inférieur à 10\")\n",
    "else: # condition alternative (tous les autres cas)\n",
    "    print(\"condition alternative remplie...\")"
   ]
  },
  {
   "cell_type": "markdown",
   "metadata": {},
   "source": [
    "## Exemple concret: valider l'input de l'utilisateur\n",
    "- Dans l'exemple ci-dessous, on veut demander à l'utilisateur un chiffre entre 1 et 10.\n",
    "- Si l'input ne répond pas à ces conditions, on affichera un message d'erreur et on le re-demandera à l'utilisateur.\n",
    "- On vous montre ici une première implantation, suivie d'une deuxième plus élaborée mais aussi plus juste. La première implantation ne permettant à l'utilisateur de ne se tromper qu'une seule fois...\n",
    "- Dans ces exemples, notez comment on valide que le chiffre entré par l'ulisateur est compris entre 1 et 10.\n",
    "    - On pourrait dire: *si le chiffre est supérieur à 1 et inférieur à 10 alors on affiche le message de confirmation*.\n",
    "    - On affichera plutôt le message d'erreur quand l'input n'est pas comprise entre 1 et 10 en calculant cela avec la fonction `range()` vue précédemment."
   ]
  },
  {
   "cell_type": "markdown",
   "metadata": {},
   "source": [
    "### Une seule chance de se tromper"
   ]
  },
  {
   "cell_type": "code",
   "execution_count": 2,
   "metadata": {},
   "outputs": [
    {
     "name": "stdout",
     "output_type": "stream",
     "text": [
      "entrez un chiffre entre 1 et 10 (exclus): 10\n",
      "Input invalide! Vous avez entré 10.\n",
      "entrez un chiffre entre 1 et 10: 1\n",
      "fin du programme... input de l'utilisateur 1\n"
     ]
    }
   ],
   "source": [
    "user_input = input(\"entrez un chiffre entre 1 et 10 (exclus): \")\n",
    "\n",
    "# ici on doit convertir l'input (une chaîne de caractères) en entier (int).\n",
    "# En effet, 8 et \"8\" ne sont pas la même chose!\n",
    "value = int(user_input)\n",
    "\n",
    "if (value not in range(1,10)):\n",
    "    print(\"Input invalide! Vous avez entré {0}.\".format(value))\n",
    "    value = input(\"entrez un chiffre entre 1 et 10: \")    \n",
    "else:\n",
    "    print(\"Merci! Vous avez entré {0}.\".format(value))\n",
    "\n",
    "# ici on n'est plus dans le else, on revient dans le flux principal\n",
    "print(\"fin du programme... input de l'utilisateur {0}\".format(value))"
   ]
  },
  {
   "cell_type": "markdown",
   "metadata": {},
   "source": [
    "### Autant de chances que nécessaire"
   ]
  },
  {
   "cell_type": "code",
   "execution_count": 3,
   "metadata": {},
   "outputs": [
    {
     "name": "stdout",
     "output_type": "stream",
     "text": [
      "entrez un chiffre entre 1 et 10 (exclus): 0\n",
      "Input invalide! Vous avez entré 0.\n",
      "entrez un chiffre entre 1 et 10 (exclus): 10\n",
      "Input invalide! Vous avez entré 10.\n",
      "entrez un chiffre entre 1 et 10 (exclus): 1\n",
      "Merci! Vous avez entré 1.\n",
      "fin du programme... input de l'utilisateur 1\n"
     ]
    }
   ],
   "source": [
    "# on commence avec une valeur invalide\n",
    "value = -1\n",
    "user_input = -1\n",
    "\n",
    "# tant que l'input n'est pas valide, on redemande... POURQUI commençons-nous la boucle la toute première fois?\n",
    "while value not in range(1,10):\n",
    "    user_input = input(\"entrez un chiffre entre 1 et 10 (exclus): \")\n",
    "    \n",
    "    # ici on doit convertir l'input (une chaîne de caractères) en entier (int).\n",
    "    # En effet, 8 et \"8\" ne sont pas la même chose!\n",
    "    value = int(user_input)    \n",
    "\n",
    "    if (value not in range(1,10)):\n",
    "        print(\"Input invalide! Vous avez entré {0}.\".format(value))\n",
    "    else:\n",
    "        print(\"Merci! Vous avez entré {0}.\".format(value))\n",
    "\n",
    "# ici on n'est plus dans le else, on revient dans le flux principal\n",
    "print(\"fin du programme... input de l'utilisateur {0}\".format(value))"
   ]
  },
  {
   "cell_type": "markdown",
   "metadata": {},
   "source": [
    "## Exercices à faire\n",
    "- Exercice 1.\n",
    "- Exercice 2.\n",
    "- Exercice 3."
   ]
  },
  {
   "cell_type": "code",
   "execution_count": null,
   "metadata": {},
   "outputs": [],
   "source": []
  }
 ],
 "metadata": {
  "kernelspec": {
   "display_name": "Python 3 (ipykernel)",
   "language": "python",
   "name": "python3"
  },
  "language_info": {
   "codemirror_mode": {
    "name": "ipython",
    "version": 3
   },
   "file_extension": ".py",
   "mimetype": "text/x-python",
   "name": "python",
   "nbconvert_exporter": "python",
   "pygments_lexer": "ipython3",
   "version": "3.9.7"
  }
 },
 "nbformat": 4,
 "nbformat_minor": 2
}
