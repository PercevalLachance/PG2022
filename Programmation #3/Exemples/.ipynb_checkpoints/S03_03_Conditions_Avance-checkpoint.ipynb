{
 "cells": [
  {
   "cell_type": "markdown",
   "metadata": {},
   "source": [
    "# Un exemple un peu plus complexe\n",
    "- Dans l'exemple ci-dessous, nous effectuerons plusieurs opérations. Le scénario de base est le suivant: dans un fichier texte, __grades.txt__, on a stocké les notes d'étudiants à un examen. Chaque ligne contient une note sur 100. Nous voulons lire le fichier et afficher des informations sur les notes:\n",
    "    - Le nombre de lignes (notes) dans le fichier.\n",
    "    - La note maximale, minimale, ainsi que la moyenne.\n",
    "    - Le détail des notes.\n",
    "\n",
    "## Avant de commencer à programmer...\n",
    "- Nous devons d'abord prendre un peu de temps pour réfléchir à ce que nous allons devoir faire pour 'casser' ce problème en plusieurs morceaux:\n",
    "    - Lire le fichier.\n",
    "    - Comme on a plusieurs notes, on va stocker le contenu du fichier dans une liste `grades`.\n",
    "    - Calculer les statistiques descriptives.\n",
    "    - Afficher les informations demandées.\n",
    "    \n",
    "    \n",
    "- On notera ici qu'on déclare plusieurs variables avant de commencer à les utiliser pour des comparaisons, etc. C'est une meilleure pratique en programmation, parce qu'on ne sait pas toujours __quelle est la valeur par défaut lors de la première utilisation d'une variable__."
   ]
  },
  {
   "cell_type": "code",
   "execution_count": 2,
   "metadata": {},
   "outputs": [
    {
     "name": "stdout",
     "output_type": "stream",
     "text": [
      "nombre de notes dans le fichier: 5\n",
      "note maximale: 95\n",
      "note minimale: 60\n",
      "note moyenne: 81.0\n",
      "notes: [60, 75, 85, 95, 90]\n"
     ]
    }
   ],
   "source": [
    "# on commence! Ici on fait simple et on décompose par souci de lisibilité du code\n",
    "\n",
    "# notre liste de notes que l'on va lire\n",
    "# valeur de démarrage des statistiques descriptives\n",
    "grades = []\n",
    "max_grade = 0\n",
    "min_grade = 100\n",
    "sum_grades = 0 # POURQUOI avons-nous besoin de cette variable?\n",
    "\n",
    "# ouverture du fichier et lecture dans notre liste\n",
    "with open(\"grades.txt\",\"r\") as text_file:\n",
    "    # pour chaque ligne (c.-à-d. chaque note) dans le fichier, on ajoute la note à la liste\n",
    "    for line in text_file:\n",
    "        # attention, on convertit en entier parce que sinon on lit des chaînes de caractères!\n",
    "        grades.append(int(line))\n",
    "\n",
    "# calcul des statistiques descriptives ***en lisant la liste*** grades\n",
    "for grade in grades:\n",
    "    if (grade > max_grade):\n",
    "        max_grade = grade\n",
    "    \n",
    "    if (grade < min_grade):\n",
    "        min_grade = grade\n",
    "    \n",
    "    sum_grades = sum_grades + grade\n",
    "\n",
    "# à l'extérieur du for... POURQUOI?\n",
    "avg_grade = sum_grades / len(grades)\n",
    "\n",
    "# affichage des valeurs demandées\n",
    "print(\"nombre de notes dans le fichier: {0}\".format(len(grades)))\n",
    "print(\"note maximale: {0}\".format(max_grade))\n",
    "print(\"note minimale: {0}\".format(min_grade))\n",
    "print(\"note moyenne: {0}\".format(avg_grade))\n",
    "print(\"notes: {0}\".format(grades))"
   ]
  },
  {
   "cell_type": "code",
   "execution_count": 3,
   "metadata": {},
   "outputs": [
    {
     "name": "stdout",
     "output_type": "stream",
     "text": [
      "nombre de notes dans le fichier: 5\n",
      "note maximale: 95\n",
      "note minimale: 60\n",
      "note moyenne: 81.0\n",
      "notes: [60, 75, 85, 95, 90]\n"
     ]
    }
   ],
   "source": [
    "# la même chose, avec une méthode un peu plus courte.\n",
    "# on peut en effet calculer les statistiques descriptives ***dès la lecture du fichier*** \n",
    "grades = []\n",
    "max_grade = -1\n",
    "min_grade = 101\n",
    "sum_grades = 0 # average\n",
    "\n",
    "# ouverture du fichier et lecture dans notre séquence\n",
    "with open(\"grades.txt\",\"r\") as text_file:\n",
    "    # pour chaque ligne dans le fichier. on ajoute la note à notre séquence\n",
    "    for line in text_file:\n",
    "        # attention, on convertit en entier parce que sinon on lit des chaînes de caractères!\n",
    "        grade = int(line)\n",
    "        grades.append(grade)\n",
    "        \n",
    "        if (grade > max_grade):\n",
    "            max_grade = grade\n",
    "\n",
    "        if (grade < min_grade):\n",
    "            min_grade = grade\n",
    "\n",
    "        sum_grades = sum_grades + grade\n",
    "           \n",
    "avg_grade = sum_grades / len(grades)\n",
    "\n",
    "# affichage des valeurs demandées\n",
    "print(\"nombre de notes dans le fichier: {0}\".format(len(grades)))\n",
    "print(\"note maximale: {0}\".format(max_grade))\n",
    "print(\"note minimale: {0}\".format(min_grade))\n",
    "print(\"note moyenne: {0}\".format(avg_grade))\n",
    "print(\"notes: {0}\".format(grades))"
   ]
  },
  {
   "cell_type": "markdown",
   "metadata": {},
   "source": [
    "- Quand on connaît bien les fonctions dans Python (ou quand on cherche sur internet...), on peut simplifier le travail. Attention: en Python on veut toujours choisir une option simple avant d'en faire une compliquée. Il vaut également beaucoup mieux comprendre ce qu'on fait en utilisant un code que l'on connaît plutôt que de tenter d'adapter du code que l'on ne comprend pas."
   ]
  },
  {
   "cell_type": "code",
   "execution_count": 1,
   "metadata": {},
   "outputs": [
    {
     "name": "stdout",
     "output_type": "stream",
     "text": [
      "nombre de notes dans le fichier: 5\n",
      "note maximale: 95\n",
      "note minimale: 60\n",
      "note moyenne: 81.0\n",
      "notes: [60, 75, 85, 95, 90]\n"
     ]
    }
   ],
   "source": [
    "# Ici on choisit de coder de manière succinte mais on ne connaît pas toujours les fonctions disponibles.\n",
    "grades = []\n",
    "\n",
    "# ouverture du fichier et lecture dans la séquence\n",
    "with open(\"grades.txt\",\"r\") as text_file:\n",
    "    # pour chaque ligne dans le fichier. on ajoute la note à la séquence\n",
    "    for line in text_file:\n",
    "        # attention, on convertit en entier parce que sinon on lit des chaînes de caractères.\n",
    "        grades.append(int(line))\n",
    "    \n",
    "# calcul et affichage des valeurs demandées en même temps\n",
    "# les listes fournissent des fonctions pratiques!\n",
    "print(\"nombre de notes dans le fichier: {0}\".format(len(grades)))\n",
    "print(\"note maximale: {0}\".format(max(grades)))\n",
    "print(\"note minimale: {0}\".format(min(grades)))\n",
    "print(\"note moyenne: {0}\".format(sum(grades) / len(grades)))\n",
    "print(\"notes: {0}\".format(grades))  "
   ]
  },
  {
   "cell_type": "markdown",
   "metadata": {},
   "source": [
    "# Exercices à faire\n",
    "- Exercice 4."
   ]
  },
  {
   "cell_type": "code",
   "execution_count": null,
   "metadata": {},
   "outputs": [],
   "source": []
  }
 ],
 "metadata": {
  "kernelspec": {
   "display_name": "Python 3 (ipykernel)",
   "language": "python",
   "name": "python3"
  },
  "language_info": {
   "codemirror_mode": {
    "name": "ipython",
    "version": 3
   },
   "file_extension": ".py",
   "mimetype": "text/x-python",
   "name": "python",
   "nbconvert_exporter": "python",
   "pygments_lexer": "ipython3",
   "version": "3.9.7"
  }
 },
 "nbformat": 4,
 "nbformat_minor": 2
}
