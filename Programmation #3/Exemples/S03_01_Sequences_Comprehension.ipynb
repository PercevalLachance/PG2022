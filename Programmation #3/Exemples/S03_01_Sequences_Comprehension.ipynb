{
 "cells": [
  {
   "cell_type": "markdown",
   "metadata": {},
   "source": [
    "# Listes par compréhension (list comprehension)\n",
    "- Python fournit une façon d'itérer sur les listes appelée `list comprehension` qui s'avère souvent bien pratique pour faire des opérations rapides sans avoir à déclarer une boucle sur plusieurs lignes.\n",
    "- Dans l'exemple ci-dessous, on vous en fait la démonstration. La syntaxe peut vous paraître très intuitive dès le départ ou, si vous avez l'habitude de faire des boucles de façon plus exhaustive, un peu cryptique. Dans le cours, vous pouvez utiliser la façon plus \"traditionnelle\" ou celle-ci, libre à vous!\n",
    "- Dans certains exemples, nous verrons par contre que c'est moins fatigant à écrire avec une liste par compréhension :-).\n",
    "- Comment ça marche?\n",
    "    - Une liste par compréhension est compris dans des crochets `[]`.\n",
    "    - Dans ces crochets, on va retrouver un itérateur extrait de la liste à l'aide de la commande `for` (comme dans une boucle traditionnelle).\n",
    "    - La commande s'écrit donc: `[effectuer l'opération A avec l'item X sachant que X est extrait de ma liste Y]`.\n",
    "    - Ou plus proche du code: `[A(X) for X in Y]`."
   ]
  },
  {
   "cell_type": "code",
   "execution_count": 1,
   "metadata": {},
   "outputs": [
    {
     "name": "stdout",
     "output_type": "stream",
     "text": [
      "True\n",
      "False\n",
      "False\n",
      "True\n"
     ]
    }
   ],
   "source": [
    "# Vérification de caractères majuscules\n",
    "string = 'GILBERT'\n",
    "print(string.isupper())\n",
    "\n",
    "string = 'gIlbeRt'\n",
    "print(string.isupper())\n",
    "\n",
    "# Vérification de caractères minuscules\n",
    "string = 'grEgorY'\n",
    "print(string.islower())\n",
    "\n",
    "string = 'gregory'\n",
    "print(string.islower())"
   ]
  },
  {
   "cell_type": "code",
   "execution_count": 2,
   "metadata": {},
   "outputs": [
    {
     "name": "stdout",
     "output_type": "stream",
     "text": [
      "### affichage de chaque nom avec un message de formatage avec la façon que l'on connaît ###\n",
      "étudiant gIlbeRt\n",
      "étudiant grEgorY\n",
      "étudiant bOgDan\n",
      "\n",
      "### affichage avec un list comprehension ###\n",
      "étudiant gIlbeRt\n",
      "étudiant grEgorY\n",
      "étudiant bOgDan\n"
     ]
    },
    {
     "data": {
      "text/plain": [
       "[None, None, None]"
      ]
     },
     "execution_count": 2,
     "metadata": {},
     "output_type": "execute_result"
    }
   ],
   "source": [
    "# déclaration d'une liste d'étudiants\n",
    "student_list = ['gIlbeRt', 'grEgorY', 'bOgDan']\n",
    "\n",
    "print(\"### affichage de chaque nom avec un message de formatage avec la façon que l'on connaît ###\")\n",
    "for student in student_list:\n",
    "    print(\"étudiant {0}\".format(student))\n",
    "\n",
    "print(\"\\n### affichage avec un list comprehension ###\")\n",
    "[print(\"étudiant {0}\".format(student)) for student in student_list]"
   ]
  },
  {
   "cell_type": "markdown",
   "metadata": {},
   "source": [
    "- Pourquoi avons-nous `[None, None, None]` écrit en bas, alors que Python a affiché nos valeurs comme prévu?\n",
    "- Quand on utiliser une liste par compréhension avec une fonction que l'on invoque (ici `print()`) Python affiche le résultat de la fonction, même si on ne le lui demande pas. Pour éviter ce genre de désagrément, on peut mettre le résultat de chaque print dans une variable pour que l'interpréteur Python ne nous affiche pas le résultat de cette fonction.\n",
    "- À noter que la plupart du temps, ce problème ne se pose parce que l'on va appliquer une opération sur la liste par compréhension, comme dans le deuxième exemple ci-dessous."
   ]
  },
  {
   "cell_type": "code",
   "execution_count": 3,
   "metadata": {},
   "outputs": [
    {
     "name": "stdout",
     "output_type": "stream",
     "text": [
      "\n",
      "### affichage avec un list comprehension sans les valeurs None ###\n",
      "étudiant gIlbeRt\n",
      "étudiant grEgorY\n",
      "étudiant bOgDan\n",
      "\n",
      "La liste des étudiants en minuscules est ['gilbert', 'gregory', 'bogdan']\n",
      "\n",
      "La liste des étudiants en MAJUSCULES est ['GILBERT', 'GREGORY', 'BOGDAN']\n"
     ]
    }
   ],
   "source": [
    "print(\"\\n### affichage avec un list comprehension sans les valeurs None ###\")\n",
    "dummy = [print(\"étudiant {0}\".format(student)) for student in student_list]\n",
    "\n",
    "# une utilisation plus traditionnelle: \n",
    "# on assigne le résultat de l'opération par compréhension\n",
    "student_list = [student.lower() for student in student_list]\n",
    "print(\"\\nLa liste des étudiants en minuscules est {0}\".format(student_list))\n",
    "\n",
    "student_list = [student.upper() for student in student_list]\n",
    "print(\"\\nLa liste des étudiants en MAJUSCULES est {0}\".format(student_list))"
   ]
  },
  {
   "cell_type": "markdown",
   "metadata": {},
   "source": [
    "- Voici un autre exemple: imaginons que l'on veuille afficher les noms des personnes dans notre liste mais que l'on veuille séparer les noms par un point virgule `;`. Pour ce faire, on peut utiliser la fonction `join()` expliquée dans la __[documentation](https://docs.python.org/3.7/library/stdtypes.html#str.join)__\n",
    "\n",
    "- On a plusieurs façons de procéder:\n",
    "    - Avec un `for` traditionnel (peu pratique).\n",
    "    - Avec un ensemble par compréhension (cool!)."
   ]
  },
  {
   "cell_type": "code",
   "execution_count": 6,
   "metadata": {},
   "outputs": [
    {
     "name": "stdout",
     "output_type": "stream",
     "text": [
      "### méthode 1 ###\n",
      "GILBERT;\n",
      "GREGORY;\n",
      "BOGDAN;\n",
      "\n",
      "### méthode 1 (encore) ###\n",
      "G; I; L; B; E; R; T\n",
      "G; R; E; G; O; R; Y\n",
      "B; O; G; D; A; N\n",
      "\n",
      "### méthode 2 ###\n",
      "GILBERT; GREGORY; BOGDAN\n"
     ]
    }
   ],
   "source": [
    "print(\"### méthode 1 ###\")\n",
    "# methode 1: avec le for, pas très satisfaisant,\n",
    "# regardez le dernier item...\n",
    "for student in student_list:\n",
    "    print(student + \";\")\n",
    "\n",
    "print(\"\\n### méthode 1 (encore) ###\")    \n",
    "# méthode 1: toujours avec le for et avec join, oups!\n",
    "# join () renvoie une chaîne concaténée à partir de ***ses éléments*** - les lettres des mots\n",
    "for student in student_list:\n",
    "    print(\"; \".join(student))\n",
    "\n",
    "print(\"\\n### méthode 2 ###\")    \n",
    "# méthode 2: avec l'ensemble par compréhension et la fonction join()\n",
    "# join () renvoie une chaîne concaténée à partir de ***ses éléments*** - les mots dans la liste []\n",
    "print('; '.join([str(student) for student in student_list]))"
   ]
  },
  {
   "cell_type": "markdown",
   "metadata": {},
   "source": [
    "- Dans les exemples ci-dessous, on vous montre une application avec des chiffres, peut-être plus \"naturelle\":\n",
    "    - D'abord avec un `for` classique.\n",
    "    - Ensuite avec `for` mais en s'assurant que la liste soit modifiée.\n",
    "    - Ensuite avec un *list comprehension*."
   ]
  },
  {
   "cell_type": "code",
   "execution_count": 2,
   "metadata": {},
   "outputs": [
    {
     "name": "stdout",
     "output_type": "stream",
     "text": [
      "### méthode 1 ###\n",
      "Avant: 10\n",
      "Après: 20\n",
      "\n",
      "Avant: 100\n",
      "Après: 200\n",
      "\n",
      "Avant: 1000\n",
      "Après: 2000\n",
      "\n",
      "Avant: 10000\n",
      "Après: 20000\n",
      "\n",
      "[10, 100, 1000, 10000]\n"
     ]
    }
   ],
   "source": [
    "# sans modification de la liste originale\n",
    "notes = [10, 100, 1000, 10000]\n",
    "\n",
    "print(\"### méthode 1 ###\")\n",
    "for note in notes:\n",
    "    print(\"Avant: {0}\".format(note))\n",
    "    note = note * 2\n",
    "    print(\"Après: {0}\\n\".format(note))\n",
    "\n",
    "print(notes)"
   ]
  },
  {
   "cell_type": "markdown",
   "metadata": {},
   "source": [
    "__Attention__: On remarque ici que `notes` n'a pas été modifié! Pourquoi cela est-il arrivé? Parce que la modification d'un item dans la liste n'entraîne pas la modification de la liste elle même. Il faudrait plutôt procéder à une modification forcée de l'item, et non de sa représentation extraite de la liste comme `note` dans l'itération, tel que montré ci-dessous."
   ]
  },
  {
   "cell_type": "code",
   "execution_count": 6,
   "metadata": {},
   "outputs": [
    {
     "name": "stdout",
     "output_type": "stream",
     "text": [
      "### méthode 1 ###\n",
      "Avant: 10\n",
      "Après: 20\n",
      "\n",
      "Avant: 100\n",
      "Après: 200\n",
      "\n",
      "Avant: 1000\n",
      "Après: 2000\n",
      "\n",
      "Avant: 10000\n",
      "Après: 20000\n",
      "\n",
      "[20, 200, 2000, 20000]\n"
     ]
    }
   ],
   "source": [
    "# avec modification de la liste originale ... POURQUOI???\n",
    "notes = [10, 100, 1000, 10000]\n",
    "\n",
    "print(\"### méthode 1 ###\")\n",
    "for i in range(len(notes)):\n",
    "    print(\"Avant: {0}\".format(notes[i]))\n",
    "    notes[i] = notes[i] * 2\n",
    "    print(\"Après: {0}\\n\".format(notes[i]))\n",
    "\n",
    "print(notes)"
   ]
  },
  {
   "cell_type": "code",
   "execution_count": 3,
   "metadata": {},
   "outputs": [
    {
     "name": "stdout",
     "output_type": "stream",
     "text": [
      "[20, 200, 2000, 20000]\n",
      "[10, 100, 1000, 10000]\n",
      "[20, 200, 2000, 20000]\n",
      "notes: [10, 100, 1000, 10000]\n",
      "new_notes: [20, 200, 2000, 20000]\n"
     ]
    }
   ],
   "source": [
    "# avec un list comprehension\n",
    "notes = [10, 100, 1000, 10000]\n",
    "\n",
    "# ici on ne fait qu'afficher\n",
    "print([note * 2 for note in notes])\n",
    "print(notes)\n",
    "\n",
    "# ici on modifie la liste originale... Parce que nous faisons une mise-à-jour de la variable notes = ...\n",
    "notes = [note * 2 for note in notes]\n",
    "print(notes)\n",
    "\n",
    "# mais on peut en créer une autre à la place... Pourquoi voudrions-nous faire cela?\n",
    "notes = [10, 100, 1000, 10000]\n",
    "new_notes = [note * 2 for note in notes]\n",
    "print(\"notes: {0}\".format(notes))\n",
    "print(\"new_notes: {0}\".format(new_notes))"
   ]
  },
  {
   "cell_type": "code",
   "execution_count": null,
   "metadata": {},
   "outputs": [],
   "source": []
  }
 ],
 "metadata": {
  "kernelspec": {
   "display_name": "Python 3 (ipykernel)",
   "language": "python",
   "name": "python3"
  },
  "language_info": {
   "codemirror_mode": {
    "name": "ipython",
    "version": 3
   },
   "file_extension": ".py",
   "mimetype": "text/x-python",
   "name": "python",
   "nbconvert_exporter": "python",
   "pygments_lexer": "ipython3",
   "version": "3.9.7"
  }
 },
 "nbformat": 4,
 "nbformat_minor": 2
}
